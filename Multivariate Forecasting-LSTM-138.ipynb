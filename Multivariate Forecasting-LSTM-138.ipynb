{
 "cells": [
  {
   "cell_type": "code",
   "execution_count": 1,
   "metadata": {},
   "outputs": [
    {
     "name": "stderr",
     "output_type": "stream",
     "text": [
      "Using TensorFlow backend.\n",
      "C:\\ProgramData\\Anaconda3\\lib\\site-packages\\tensorflow\\python\\framework\\dtypes.py:526: FutureWarning: Passing (type, 1) or '1type' as a synonym of type is deprecated; in a future version of numpy, it will be understood as (type, (1,)) / '(1,)type'.\n",
      "  _np_qint8 = np.dtype([(\"qint8\", np.int8, 1)])\n",
      "C:\\ProgramData\\Anaconda3\\lib\\site-packages\\tensorflow\\python\\framework\\dtypes.py:527: FutureWarning: Passing (type, 1) or '1type' as a synonym of type is deprecated; in a future version of numpy, it will be understood as (type, (1,)) / '(1,)type'.\n",
      "  _np_quint8 = np.dtype([(\"quint8\", np.uint8, 1)])\n",
      "C:\\ProgramData\\Anaconda3\\lib\\site-packages\\tensorflow\\python\\framework\\dtypes.py:528: FutureWarning: Passing (type, 1) or '1type' as a synonym of type is deprecated; in a future version of numpy, it will be understood as (type, (1,)) / '(1,)type'.\n",
      "  _np_qint16 = np.dtype([(\"qint16\", np.int16, 1)])\n",
      "C:\\ProgramData\\Anaconda3\\lib\\site-packages\\tensorflow\\python\\framework\\dtypes.py:529: FutureWarning: Passing (type, 1) or '1type' as a synonym of type is deprecated; in a future version of numpy, it will be understood as (type, (1,)) / '(1,)type'.\n",
      "  _np_quint16 = np.dtype([(\"quint16\", np.uint16, 1)])\n",
      "C:\\ProgramData\\Anaconda3\\lib\\site-packages\\tensorflow\\python\\framework\\dtypes.py:530: FutureWarning: Passing (type, 1) or '1type' as a synonym of type is deprecated; in a future version of numpy, it will be understood as (type, (1,)) / '(1,)type'.\n",
      "  _np_qint32 = np.dtype([(\"qint32\", np.int32, 1)])\n",
      "C:\\ProgramData\\Anaconda3\\lib\\site-packages\\tensorflow\\python\\framework\\dtypes.py:535: FutureWarning: Passing (type, 1) or '1type' as a synonym of type is deprecated; in a future version of numpy, it will be understood as (type, (1,)) / '(1,)type'.\n",
      "  np_resource = np.dtype([(\"resource\", np.ubyte, 1)])\n"
     ]
    }
   ],
   "source": [
    "from math import sqrt\n",
    "from numpy import concatenate\n",
    "import numpy as np\n",
    "from matplotlib import pyplot\n",
    "import matplotlib.pyplot as plt\n",
    "%matplotlib inline\n",
    "import pandas as pd\n",
    "from pandas import read_csv\n",
    "from pandas import DataFrame\n",
    "from pandas import concat\n",
    "from sklearn.preprocessing import MinMaxScaler\n",
    "from sklearn.preprocessing import LabelEncoder\n",
    "from sklearn.metrics import mean_squared_error\n",
    "from keras.models import Sequential\n",
    "from keras.layers import Dense\n",
    "from keras.layers import LSTM"
   ]
  },
  {
   "cell_type": "code",
   "execution_count": 2,
   "metadata": {},
   "outputs": [],
   "source": [
    "df=pd.read_csv(\"138_Temp.csv\")"
   ]
  },
  {
   "cell_type": "code",
   "execution_count": 3,
   "metadata": {},
   "outputs": [
    {
     "data": {
      "text/html": [
       "<div>\n",
       "<style scoped>\n",
       "    .dataframe tbody tr th:only-of-type {\n",
       "        vertical-align: middle;\n",
       "    }\n",
       "\n",
       "    .dataframe tbody tr th {\n",
       "        vertical-align: top;\n",
       "    }\n",
       "\n",
       "    .dataframe thead th {\n",
       "        text-align: right;\n",
       "    }\n",
       "</style>\n",
       "<table border=\"1\" class=\"dataframe\">\n",
       "  <thead>\n",
       "    <tr style=\"text-align: right;\">\n",
       "      <th></th>\n",
       "      <th>Date</th>\n",
       "      <th>Temperature</th>\n",
       "      <th>Humidity</th>\n",
       "      <th>Outside Temperature</th>\n",
       "      <th>Previous Date</th>\n",
       "      <th>Temperature on Previous day</th>\n",
       "      <th>2 days before Date</th>\n",
       "      <th>Temperature 2 days before</th>\n",
       "    </tr>\n",
       "  </thead>\n",
       "  <tbody>\n",
       "    <tr>\n",
       "      <th>0</th>\n",
       "      <td>1/15/2020 1:44</td>\n",
       "      <td>71.2</td>\n",
       "      <td>78.09</td>\n",
       "      <td>68</td>\n",
       "      <td>1/14/2020 1:44</td>\n",
       "      <td>69.6</td>\n",
       "      <td>1/13/2020 1:44</td>\n",
       "      <td>68.3</td>\n",
       "    </tr>\n",
       "    <tr>\n",
       "      <th>1</th>\n",
       "      <td>1/15/2020 3:44</td>\n",
       "      <td>71.1</td>\n",
       "      <td>80.14</td>\n",
       "      <td>66</td>\n",
       "      <td>1/14/2020 3:44</td>\n",
       "      <td>69.6</td>\n",
       "      <td>1/13/2020 3:44</td>\n",
       "      <td>68.1</td>\n",
       "    </tr>\n",
       "    <tr>\n",
       "      <th>2</th>\n",
       "      <td>1/15/2020 5:44</td>\n",
       "      <td>71.0</td>\n",
       "      <td>81.81</td>\n",
       "      <td>68</td>\n",
       "      <td>1/14/2020 5:44</td>\n",
       "      <td>69.7</td>\n",
       "      <td>1/13/2020 5:44</td>\n",
       "      <td>68.0</td>\n",
       "    </tr>\n",
       "    <tr>\n",
       "      <th>3</th>\n",
       "      <td>1/15/2020 7:44</td>\n",
       "      <td>70.4</td>\n",
       "      <td>75.66</td>\n",
       "      <td>72</td>\n",
       "      <td>1/14/2020 7:44</td>\n",
       "      <td>70.4</td>\n",
       "      <td>1/13/2020 7:44</td>\n",
       "      <td>68.5</td>\n",
       "    </tr>\n",
       "    <tr>\n",
       "      <th>4</th>\n",
       "      <td>1/15/2020 9:44</td>\n",
       "      <td>71.2</td>\n",
       "      <td>69.49</td>\n",
       "      <td>75</td>\n",
       "      <td>1/14/2020 9:44</td>\n",
       "      <td>71.0</td>\n",
       "      <td>1/13/2020 9:44</td>\n",
       "      <td>68.9</td>\n",
       "    </tr>\n",
       "  </tbody>\n",
       "</table>\n",
       "</div>"
      ],
      "text/plain": [
       "             Date  Temperature  Humidity  Outside Temperature   Previous Date  \\\n",
       "0  1/15/2020 1:44         71.2     78.09                   68  1/14/2020 1:44   \n",
       "1  1/15/2020 3:44         71.1     80.14                   66  1/14/2020 3:44   \n",
       "2  1/15/2020 5:44         71.0     81.81                   68  1/14/2020 5:44   \n",
       "3  1/15/2020 7:44         70.4     75.66                   72  1/14/2020 7:44   \n",
       "4  1/15/2020 9:44         71.2     69.49                   75  1/14/2020 9:44   \n",
       "\n",
       "   Temperature on Previous day 2 days before Date  Temperature 2 days before  \n",
       "0                         69.6     1/13/2020 1:44                       68.3  \n",
       "1                         69.6     1/13/2020 3:44                       68.1  \n",
       "2                         69.7     1/13/2020 5:44                       68.0  \n",
       "3                         70.4     1/13/2020 7:44                       68.5  \n",
       "4                         71.0     1/13/2020 9:44                       68.9  "
      ]
     },
     "execution_count": 3,
     "metadata": {},
     "output_type": "execute_result"
    }
   ],
   "source": [
    "df.head()"
   ]
  },
  {
   "cell_type": "code",
   "execution_count": 4,
   "metadata": {},
   "outputs": [
    {
     "name": "stdout",
     "output_type": "stream",
     "text": [
      "<class 'pandas.core.frame.DataFrame'>\n",
      "RangeIndex: 384 entries, 0 to 383\n",
      "Data columns (total 8 columns):\n",
      "Date                           384 non-null object\n",
      "Temperature                    384 non-null float64\n",
      "Humidity                       384 non-null float64\n",
      "Outside Temperature            384 non-null int64\n",
      "Previous Date                  384 non-null object\n",
      "Temperature on Previous day    384 non-null float64\n",
      "2 days before Date             384 non-null object\n",
      "Temperature 2 days before      384 non-null float64\n",
      "dtypes: float64(4), int64(1), object(3)\n",
      "memory usage: 24.1+ KB\n"
     ]
    }
   ],
   "source": [
    "df.info()"
   ]
  },
  {
   "cell_type": "code",
   "execution_count": 5,
   "metadata": {},
   "outputs": [],
   "source": [
    "df['Date'] = pd.to_datetime(df['Date'])\n",
    "df = df.set_index('Date')"
   ]
  },
  {
   "cell_type": "code",
   "execution_count": 6,
   "metadata": {},
   "outputs": [
    {
     "data": {
      "text/html": [
       "<div>\n",
       "<style scoped>\n",
       "    .dataframe tbody tr th:only-of-type {\n",
       "        vertical-align: middle;\n",
       "    }\n",
       "\n",
       "    .dataframe tbody tr th {\n",
       "        vertical-align: top;\n",
       "    }\n",
       "\n",
       "    .dataframe thead th {\n",
       "        text-align: right;\n",
       "    }\n",
       "</style>\n",
       "<table border=\"1\" class=\"dataframe\">\n",
       "  <thead>\n",
       "    <tr style=\"text-align: right;\">\n",
       "      <th></th>\n",
       "      <th>Temperature</th>\n",
       "      <th>Humidity</th>\n",
       "      <th>Outside Temperature</th>\n",
       "      <th>Previous Date</th>\n",
       "      <th>Temperature on Previous day</th>\n",
       "      <th>2 days before Date</th>\n",
       "      <th>Temperature 2 days before</th>\n",
       "    </tr>\n",
       "    <tr>\n",
       "      <th>Date</th>\n",
       "      <th></th>\n",
       "      <th></th>\n",
       "      <th></th>\n",
       "      <th></th>\n",
       "      <th></th>\n",
       "      <th></th>\n",
       "      <th></th>\n",
       "    </tr>\n",
       "  </thead>\n",
       "  <tbody>\n",
       "    <tr>\n",
       "      <th>2020-02-15 15:44:00</th>\n",
       "      <td>67.0</td>\n",
       "      <td>50.02</td>\n",
       "      <td>62</td>\n",
       "      <td>2/14/2020 15:44</td>\n",
       "      <td>70.0</td>\n",
       "      <td>2/13/2020 15:44</td>\n",
       "      <td>71.1</td>\n",
       "    </tr>\n",
       "    <tr>\n",
       "      <th>2020-02-15 17:44:00</th>\n",
       "      <td>66.8</td>\n",
       "      <td>51.74</td>\n",
       "      <td>62</td>\n",
       "      <td>2/14/2020 17:44</td>\n",
       "      <td>69.9</td>\n",
       "      <td>2/13/2020 17:44</td>\n",
       "      <td>70.6</td>\n",
       "    </tr>\n",
       "    <tr>\n",
       "      <th>2020-02-15 19:44:00</th>\n",
       "      <td>67.0</td>\n",
       "      <td>53.43</td>\n",
       "      <td>63</td>\n",
       "      <td>2/14/2020 19:44</td>\n",
       "      <td>69.0</td>\n",
       "      <td>2/13/2020 19:44</td>\n",
       "      <td>70.2</td>\n",
       "    </tr>\n",
       "    <tr>\n",
       "      <th>2020-02-15 21:44:00</th>\n",
       "      <td>67.0</td>\n",
       "      <td>54.65</td>\n",
       "      <td>61</td>\n",
       "      <td>2/14/2020 21:44</td>\n",
       "      <td>68.3</td>\n",
       "      <td>2/13/2020 21:44</td>\n",
       "      <td>69.5</td>\n",
       "    </tr>\n",
       "    <tr>\n",
       "      <th>2020-02-15 23:44:00</th>\n",
       "      <td>66.9</td>\n",
       "      <td>56.41</td>\n",
       "      <td>59</td>\n",
       "      <td>2/14/2020 23:44</td>\n",
       "      <td>67.7</td>\n",
       "      <td>2/13/2020 23:44</td>\n",
       "      <td>68.8</td>\n",
       "    </tr>\n",
       "  </tbody>\n",
       "</table>\n",
       "</div>"
      ],
      "text/plain": [
       "                     Temperature  Humidity  Outside Temperature  \\\n",
       "Date                                                              \n",
       "2020-02-15 15:44:00         67.0     50.02                   62   \n",
       "2020-02-15 17:44:00         66.8     51.74                   62   \n",
       "2020-02-15 19:44:00         67.0     53.43                   63   \n",
       "2020-02-15 21:44:00         67.0     54.65                   61   \n",
       "2020-02-15 23:44:00         66.9     56.41                   59   \n",
       "\n",
       "                       Previous Date  Temperature on Previous day  \\\n",
       "Date                                                                \n",
       "2020-02-15 15:44:00  2/14/2020 15:44                         70.0   \n",
       "2020-02-15 17:44:00  2/14/2020 17:44                         69.9   \n",
       "2020-02-15 19:44:00  2/14/2020 19:44                         69.0   \n",
       "2020-02-15 21:44:00  2/14/2020 21:44                         68.3   \n",
       "2020-02-15 23:44:00  2/14/2020 23:44                         67.7   \n",
       "\n",
       "                    2 days before Date  Temperature 2 days before  \n",
       "Date                                                               \n",
       "2020-02-15 15:44:00    2/13/2020 15:44                       71.1  \n",
       "2020-02-15 17:44:00    2/13/2020 17:44                       70.6  \n",
       "2020-02-15 19:44:00    2/13/2020 19:44                       70.2  \n",
       "2020-02-15 21:44:00    2/13/2020 21:44                       69.5  \n",
       "2020-02-15 23:44:00    2/13/2020 23:44                       68.8  "
      ]
     },
     "execution_count": 6,
     "metadata": {},
     "output_type": "execute_result"
    }
   ],
   "source": [
    "df.tail()"
   ]
  },
  {
   "cell_type": "code",
   "execution_count": 7,
   "metadata": {},
   "outputs": [],
   "source": [
    "df.dropna(inplace=True)"
   ]
  },
  {
   "cell_type": "code",
   "execution_count": 8,
   "metadata": {},
   "outputs": [
    {
     "data": {
      "text/html": [
       "<div>\n",
       "<style scoped>\n",
       "    .dataframe tbody tr th:only-of-type {\n",
       "        vertical-align: middle;\n",
       "    }\n",
       "\n",
       "    .dataframe tbody tr th {\n",
       "        vertical-align: top;\n",
       "    }\n",
       "\n",
       "    .dataframe thead th {\n",
       "        text-align: right;\n",
       "    }\n",
       "</style>\n",
       "<table border=\"1\" class=\"dataframe\">\n",
       "  <thead>\n",
       "    <tr style=\"text-align: right;\">\n",
       "      <th></th>\n",
       "      <th>Temperature</th>\n",
       "      <th>Humidity</th>\n",
       "      <th>Outside Temperature</th>\n",
       "      <th>Temperature on Previous day</th>\n",
       "      <th>Temperature 2 days before</th>\n",
       "    </tr>\n",
       "    <tr>\n",
       "      <th>Date</th>\n",
       "      <th></th>\n",
       "      <th></th>\n",
       "      <th></th>\n",
       "      <th></th>\n",
       "      <th></th>\n",
       "    </tr>\n",
       "  </thead>\n",
       "  <tbody>\n",
       "    <tr>\n",
       "      <th>2020-01-15 01:44:00</th>\n",
       "      <td>71.2</td>\n",
       "      <td>78.09</td>\n",
       "      <td>68</td>\n",
       "      <td>69.6</td>\n",
       "      <td>68.3</td>\n",
       "    </tr>\n",
       "    <tr>\n",
       "      <th>2020-01-15 03:44:00</th>\n",
       "      <td>71.1</td>\n",
       "      <td>80.14</td>\n",
       "      <td>66</td>\n",
       "      <td>69.6</td>\n",
       "      <td>68.1</td>\n",
       "    </tr>\n",
       "    <tr>\n",
       "      <th>2020-01-15 05:44:00</th>\n",
       "      <td>71.0</td>\n",
       "      <td>81.81</td>\n",
       "      <td>68</td>\n",
       "      <td>69.7</td>\n",
       "      <td>68.0</td>\n",
       "    </tr>\n",
       "    <tr>\n",
       "      <th>2020-01-15 07:44:00</th>\n",
       "      <td>70.4</td>\n",
       "      <td>75.66</td>\n",
       "      <td>72</td>\n",
       "      <td>70.4</td>\n",
       "      <td>68.5</td>\n",
       "    </tr>\n",
       "    <tr>\n",
       "      <th>2020-01-15 09:44:00</th>\n",
       "      <td>71.2</td>\n",
       "      <td>69.49</td>\n",
       "      <td>75</td>\n",
       "      <td>71.0</td>\n",
       "      <td>68.9</td>\n",
       "    </tr>\n",
       "  </tbody>\n",
       "</table>\n",
       "</div>"
      ],
      "text/plain": [
       "                     Temperature  Humidity  Outside Temperature  \\\n",
       "Date                                                              \n",
       "2020-01-15 01:44:00         71.2     78.09                   68   \n",
       "2020-01-15 03:44:00         71.1     80.14                   66   \n",
       "2020-01-15 05:44:00         71.0     81.81                   68   \n",
       "2020-01-15 07:44:00         70.4     75.66                   72   \n",
       "2020-01-15 09:44:00         71.2     69.49                   75   \n",
       "\n",
       "                     Temperature on Previous day  Temperature 2 days before  \n",
       "Date                                                                         \n",
       "2020-01-15 01:44:00                         69.6                       68.3  \n",
       "2020-01-15 03:44:00                         69.6                       68.1  \n",
       "2020-01-15 05:44:00                         69.7                       68.0  \n",
       "2020-01-15 07:44:00                         70.4                       68.5  \n",
       "2020-01-15 09:44:00                         71.0                       68.9  "
      ]
     },
     "execution_count": 8,
     "metadata": {},
     "output_type": "execute_result"
    }
   ],
   "source": [
    "ts=df.loc['1/15/2020':'2/15/2020',['Temperature','Humidity','Outside Temperature','Temperature on Previous day','Temperature 2 days before']]\n",
    "#ts=pd.concat([df.loc['2/03/2020':'2/07/2020'],df.loc['2/10/2020':'2/14/2020']])[['Temperature','Humidity','Outside Temperature','Temperature on Previous day','Temperature 2 days before']]\n",
    "ts=pd.DataFrame(ts)\n",
    "ts.head()"
   ]
  },
  {
   "cell_type": "code",
   "execution_count": 9,
   "metadata": {},
   "outputs": [
    {
     "name": "stderr",
     "output_type": "stream",
     "text": [
      "C:\\ProgramData\\Anaconda3\\lib\\site-packages\\pandas\\plotting\\_converter.py:129: FutureWarning: Using an implicitly registered datetime converter for a matplotlib plotting method. The converter was registered by pandas on import. Future versions of pandas will require you to explicitly register matplotlib converters.\n",
      "\n",
      "To register the converters:\n",
      "\t>>> from pandas.plotting import register_matplotlib_converters\n",
      "\t>>> register_matplotlib_converters()\n",
      "  warnings.warn(msg, FutureWarning)\n"
     ]
    },
    {
     "data": {
      "text/plain": [
       "[<matplotlib.lines.Line2D at 0x23d43c58748>]"
      ]
     },
     "execution_count": 9,
     "metadata": {},
     "output_type": "execute_result"
    },
    {
     "data": {
      "image/png": "[encoded data removed]",
      "text/plain": [
       "<Figure size 432x288 with 1 Axes>"
      ]
     },
     "metadata": {
      "needs_background": "light"
     },
     "output_type": "display_data"
    }
   ],
   "source": [
    "plt.plot(ts['Temperature'])"
   ]
  },
  {
   "cell_type": "code",
   "execution_count": 10,
   "metadata": {},
   "outputs": [],
   "source": [
    "values=ts.values"
   ]
  },
  {
   "cell_type": "code",
   "execution_count": 11,
   "metadata": {},
   "outputs": [],
   "source": [
    "scaler = MinMaxScaler(feature_range=(0, 1))\n",
    "scaled = scaler.fit_transform(values)"
   ]
  },
  {
   "cell_type": "code",
   "execution_count": 12,
   "metadata": {},
   "outputs": [],
   "source": [
    "# convert series to supervised learning\n",
    "def series_to_supervised(data, n_in=1, n_out=1, dropnan=True):\n",
    "\tn_vars = 1 if type(data) is list else data.shape[1]\n",
    "\tdf = DataFrame(data)\n",
    "\tcols, names = list(), list()\n",
    "\t# input sequence (t-n, ... t-1)\n",
    "\tfor i in range(n_in, 0, -1):\n",
    "\t\tcols.append(df.shift(i))\n",
    "\t\tnames += [('var%d(t-%d)' % (j+1, i)) for j in range(n_vars)]\n",
    "\t# forecast sequence (t, t+1, ... t+n)\n",
    "\tfor i in range(0, n_out):\n",
    "\t\tcols.append(df.shift(-i))\n",
    "\t\tif i == 0:\n",
    "\t\t\tnames += [('var%d(t)' % (j+1)) for j in range(n_vars)]\n",
    "\t\telse:\n",
    "\t\t\tnames += [('var%d(t+%d)' % (j+1, i)) for j in range(n_vars)]\n",
    "\t# put it all together\n",
    "\tagg = concat(cols, axis=1)\n",
    "\tagg.columns = names\n",
    "\t# drop rows with NaN values\n",
    "\tif dropnan:\n",
    "\t\tagg.dropna(inplace=True)\n",
    "\treturn agg"
   ]
  },
  {
   "cell_type": "code",
   "execution_count": 13,
   "metadata": {},
   "outputs": [],
   "source": [
    "reframed = series_to_supervised(scaled, 12, 1)"
   ]
  },
  {
   "cell_type": "code",
   "execution_count": 14,
   "metadata": {},
   "outputs": [
    {
     "data": {
      "text/html": [
       "<div>\n",
       "<style scoped>\n",
       "    .dataframe tbody tr th:only-of-type {\n",
       "        vertical-align: middle;\n",
       "    }\n",
       "\n",
       "    .dataframe tbody tr th {\n",
       "        vertical-align: top;\n",
       "    }\n",
       "\n",
       "    .dataframe thead th {\n",
       "        text-align: right;\n",
       "    }\n",
       "</style>\n",
       "<table border=\"1\" class=\"dataframe\">\n",
       "  <thead>\n",
       "    <tr style=\"text-align: right;\">\n",
       "      <th></th>\n",
       "      <th>var1(t-12)</th>\n",
       "      <th>var2(t-12)</th>\n",
       "      <th>var3(t-12)</th>\n",
       "      <th>var4(t-12)</th>\n",
       "      <th>var5(t-12)</th>\n",
       "      <th>var1(t-11)</th>\n",
       "      <th>var2(t-11)</th>\n",
       "      <th>var3(t-11)</th>\n",
       "      <th>var4(t-11)</th>\n",
       "      <th>var5(t-11)</th>\n",
       "      <th>...</th>\n",
       "      <th>var1(t-1)</th>\n",
       "      <th>var2(t-1)</th>\n",
       "      <th>var3(t-1)</th>\n",
       "      <th>var4(t-1)</th>\n",
       "      <th>var5(t-1)</th>\n",
       "      <th>var1(t)</th>\n",
       "      <th>var2(t)</th>\n",
       "      <th>var3(t)</th>\n",
       "      <th>var4(t)</th>\n",
       "      <th>var5(t)</th>\n",
       "    </tr>\n",
       "  </thead>\n",
       "  <tbody>\n",
       "    <tr>\n",
       "      <th>12</th>\n",
       "      <td>0.887324</td>\n",
       "      <td>0.875464</td>\n",
       "      <td>0.804348</td>\n",
       "      <td>0.661972</td>\n",
       "      <td>0.478873</td>\n",
       "      <td>0.873239</td>\n",
       "      <td>0.915479</td>\n",
       "      <td>0.760870</td>\n",
       "      <td>0.661972</td>\n",
       "      <td>0.450704</td>\n",
       "      <td>...</td>\n",
       "      <td>0.957746</td>\n",
       "      <td>0.727894</td>\n",
       "      <td>0.717391</td>\n",
       "      <td>0.901408</td>\n",
       "      <td>0.661972</td>\n",
       "      <td>0.929577</td>\n",
       "      <td>0.765957</td>\n",
       "      <td>0.717391</td>\n",
       "      <td>0.887324</td>\n",
       "      <td>0.661972</td>\n",
       "    </tr>\n",
       "    <tr>\n",
       "      <th>13</th>\n",
       "      <td>0.873239</td>\n",
       "      <td>0.915479</td>\n",
       "      <td>0.760870</td>\n",
       "      <td>0.661972</td>\n",
       "      <td>0.450704</td>\n",
       "      <td>0.859155</td>\n",
       "      <td>0.948077</td>\n",
       "      <td>0.804348</td>\n",
       "      <td>0.676056</td>\n",
       "      <td>0.436620</td>\n",
       "      <td>...</td>\n",
       "      <td>0.929577</td>\n",
       "      <td>0.765957</td>\n",
       "      <td>0.717391</td>\n",
       "      <td>0.887324</td>\n",
       "      <td>0.661972</td>\n",
       "      <td>0.915493</td>\n",
       "      <td>0.821199</td>\n",
       "      <td>0.760870</td>\n",
       "      <td>0.873239</td>\n",
       "      <td>0.661972</td>\n",
       "    </tr>\n",
       "    <tr>\n",
       "      <th>14</th>\n",
       "      <td>0.859155</td>\n",
       "      <td>0.948077</td>\n",
       "      <td>0.804348</td>\n",
       "      <td>0.676056</td>\n",
       "      <td>0.436620</td>\n",
       "      <td>0.774648</td>\n",
       "      <td>0.828030</td>\n",
       "      <td>0.891304</td>\n",
       "      <td>0.774648</td>\n",
       "      <td>0.507042</td>\n",
       "      <td>...</td>\n",
       "      <td>0.915493</td>\n",
       "      <td>0.821199</td>\n",
       "      <td>0.760870</td>\n",
       "      <td>0.873239</td>\n",
       "      <td>0.661972</td>\n",
       "      <td>0.901408</td>\n",
       "      <td>0.845403</td>\n",
       "      <td>0.760870</td>\n",
       "      <td>0.859155</td>\n",
       "      <td>0.676056</td>\n",
       "    </tr>\n",
       "    <tr>\n",
       "      <th>15</th>\n",
       "      <td>0.774648</td>\n",
       "      <td>0.828030</td>\n",
       "      <td>0.891304</td>\n",
       "      <td>0.774648</td>\n",
       "      <td>0.507042</td>\n",
       "      <td>0.887324</td>\n",
       "      <td>0.707593</td>\n",
       "      <td>0.956522</td>\n",
       "      <td>0.859155</td>\n",
       "      <td>0.563380</td>\n",
       "      <td>...</td>\n",
       "      <td>0.901408</td>\n",
       "      <td>0.845403</td>\n",
       "      <td>0.760870</td>\n",
       "      <td>0.859155</td>\n",
       "      <td>0.676056</td>\n",
       "      <td>0.915493</td>\n",
       "      <td>0.747999</td>\n",
       "      <td>0.847826</td>\n",
       "      <td>0.774648</td>\n",
       "      <td>0.774648</td>\n",
       "    </tr>\n",
       "    <tr>\n",
       "      <th>16</th>\n",
       "      <td>0.887324</td>\n",
       "      <td>0.707593</td>\n",
       "      <td>0.956522</td>\n",
       "      <td>0.859155</td>\n",
       "      <td>0.563380</td>\n",
       "      <td>0.929577</td>\n",
       "      <td>0.662502</td>\n",
       "      <td>0.956522</td>\n",
       "      <td>0.915493</td>\n",
       "      <td>0.633803</td>\n",
       "      <td>...</td>\n",
       "      <td>0.915493</td>\n",
       "      <td>0.747999</td>\n",
       "      <td>0.847826</td>\n",
       "      <td>0.774648</td>\n",
       "      <td>0.774648</td>\n",
       "      <td>0.929577</td>\n",
       "      <td>0.650010</td>\n",
       "      <td>0.913043</td>\n",
       "      <td>0.887324</td>\n",
       "      <td>0.859155</td>\n",
       "    </tr>\n",
       "  </tbody>\n",
       "</table>\n",
       "<p>5 rows × 65 columns</p>\n",
       "</div>"
      ],
      "text/plain": [
       "    var1(t-12)  var2(t-12)  var3(t-12)  var4(t-12)  var5(t-12)  var1(t-11)  \\\n",
       "12    0.887324    0.875464    0.804348    0.661972    0.478873    0.873239   \n",
       "13    0.873239    0.915479    0.760870    0.661972    0.450704    0.859155   \n",
       "14    0.859155    0.948077    0.804348    0.676056    0.436620    0.774648   \n",
       "15    0.774648    0.828030    0.891304    0.774648    0.507042    0.887324   \n",
       "16    0.887324    0.707593    0.956522    0.859155    0.563380    0.929577   \n",
       "\n",
       "    var2(t-11)  var3(t-11)  var4(t-11)  var5(t-11)  ...  var1(t-1)  var2(t-1)  \\\n",
       "12    0.915479    0.760870    0.661972    0.450704  ...   0.957746   0.727894   \n",
       "13    0.948077    0.804348    0.676056    0.436620  ...   0.929577   0.765957   \n",
       "14    0.828030    0.891304    0.774648    0.507042  ...   0.915493   0.821199   \n",
       "15    0.707593    0.956522    0.859155    0.563380  ...   0.901408   0.845403   \n",
       "16    0.662502    0.956522    0.915493    0.633803  ...   0.915493   0.747999   \n",
       "\n",
       "    var3(t-1)  var4(t-1)  var5(t-1)   var1(t)   var2(t)   var3(t)   var4(t)  \\\n",
       "12   0.717391   0.901408   0.661972  0.929577  0.765957  0.717391  0.887324   \n",
       "13   0.717391   0.887324   0.661972  0.915493  0.821199  0.760870  0.873239   \n",
       "14   0.760870   0.873239   0.661972  0.901408  0.845403  0.760870  0.859155   \n",
       "15   0.760870   0.859155   0.676056  0.915493  0.747999  0.847826  0.774648   \n",
       "16   0.847826   0.774648   0.774648  0.929577  0.650010  0.913043  0.887324   \n",
       "\n",
       "     var5(t)  \n",
       "12  0.661972  \n",
       "13  0.661972  \n",
       "14  0.676056  \n",
       "15  0.774648  \n",
       "16  0.859155  \n",
       "\n",
       "[5 rows x 65 columns]"
      ]
     },
     "execution_count": 14,
     "metadata": {},
     "output_type": "execute_result"
    }
   ],
   "source": [
    "reframed.head()"
   ]
  },
  {
   "cell_type": "code",
   "execution_count": 15,
   "metadata": {},
   "outputs": [],
   "source": [
    "# drop columns we don't want to predict\n",
    "reframed.drop(reframed.columns[[61,62,63,64]], axis=1, inplace=True)"
   ]
  },
  {
   "cell_type": "code",
   "execution_count": 16,
   "metadata": {},
   "outputs": [
    {
     "data": {
      "text/html": [
       "<div>\n",
       "<style scoped>\n",
       "    .dataframe tbody tr th:only-of-type {\n",
       "        vertical-align: middle;\n",
       "    }\n",
       "\n",
       "    .dataframe tbody tr th {\n",
       "        vertical-align: top;\n",
       "    }\n",
       "\n",
       "    .dataframe thead th {\n",
       "        text-align: right;\n",
       "    }\n",
       "</style>\n",
       "<table border=\"1\" class=\"dataframe\">\n",
       "  <thead>\n",
       "    <tr style=\"text-align: right;\">\n",
       "      <th></th>\n",
       "      <th>var1(t-12)</th>\n",
       "      <th>var2(t-12)</th>\n",
       "      <th>var3(t-12)</th>\n",
       "      <th>var4(t-12)</th>\n",
       "      <th>var5(t-12)</th>\n",
       "      <th>var1(t-11)</th>\n",
       "      <th>var2(t-11)</th>\n",
       "      <th>var3(t-11)</th>\n",
       "      <th>var4(t-11)</th>\n",
       "      <th>var5(t-11)</th>\n",
       "      <th>...</th>\n",
       "      <th>var2(t-2)</th>\n",
       "      <th>var3(t-2)</th>\n",
       "      <th>var4(t-2)</th>\n",
       "      <th>var5(t-2)</th>\n",
       "      <th>var1(t-1)</th>\n",
       "      <th>var2(t-1)</th>\n",
       "      <th>var3(t-1)</th>\n",
       "      <th>var4(t-1)</th>\n",
       "      <th>var5(t-1)</th>\n",
       "      <th>var1(t)</th>\n",
       "    </tr>\n",
       "  </thead>\n",
       "  <tbody>\n",
       "    <tr>\n",
       "      <th>379</th>\n",
       "      <td>0.718310</td>\n",
       "      <td>0.232676</td>\n",
       "      <td>0.456522</td>\n",
       "      <td>0.873239</td>\n",
       "      <td>0.859155</td>\n",
       "      <td>0.704225</td>\n",
       "      <td>0.217646</td>\n",
       "      <td>0.347826</td>\n",
       "      <td>0.802817</td>\n",
       "      <td>0.901408</td>\n",
       "      <td>...</td>\n",
       "      <td>0.249658</td>\n",
       "      <td>0.717391</td>\n",
       "      <td>0.619718</td>\n",
       "      <td>0.816901</td>\n",
       "      <td>0.267606</td>\n",
       "      <td>0.291626</td>\n",
       "      <td>0.760870</td>\n",
       "      <td>0.732394</td>\n",
       "      <td>0.859155</td>\n",
       "      <td>0.295775</td>\n",
       "    </tr>\n",
       "    <tr>\n",
       "      <th>380</th>\n",
       "      <td>0.704225</td>\n",
       "      <td>0.217646</td>\n",
       "      <td>0.347826</td>\n",
       "      <td>0.802817</td>\n",
       "      <td>0.901408</td>\n",
       "      <td>0.577465</td>\n",
       "      <td>0.221940</td>\n",
       "      <td>0.239130</td>\n",
       "      <td>0.746479</td>\n",
       "      <td>0.943662</td>\n",
       "      <td>...</td>\n",
       "      <td>0.291626</td>\n",
       "      <td>0.760870</td>\n",
       "      <td>0.732394</td>\n",
       "      <td>0.859155</td>\n",
       "      <td>0.295775</td>\n",
       "      <td>0.327542</td>\n",
       "      <td>0.673913</td>\n",
       "      <td>0.718310</td>\n",
       "      <td>0.873239</td>\n",
       "      <td>0.267606</td>\n",
       "    </tr>\n",
       "    <tr>\n",
       "      <th>381</th>\n",
       "      <td>0.577465</td>\n",
       "      <td>0.221940</td>\n",
       "      <td>0.239130</td>\n",
       "      <td>0.746479</td>\n",
       "      <td>0.943662</td>\n",
       "      <td>0.478873</td>\n",
       "      <td>0.199883</td>\n",
       "      <td>0.173913</td>\n",
       "      <td>0.647887</td>\n",
       "      <td>0.915493</td>\n",
       "      <td>...</td>\n",
       "      <td>0.327542</td>\n",
       "      <td>0.673913</td>\n",
       "      <td>0.718310</td>\n",
       "      <td>0.873239</td>\n",
       "      <td>0.267606</td>\n",
       "      <td>0.361117</td>\n",
       "      <td>0.673913</td>\n",
       "      <td>0.704225</td>\n",
       "      <td>0.802817</td>\n",
       "      <td>0.295775</td>\n",
       "    </tr>\n",
       "    <tr>\n",
       "      <th>382</th>\n",
       "      <td>0.478873</td>\n",
       "      <td>0.199883</td>\n",
       "      <td>0.173913</td>\n",
       "      <td>0.647887</td>\n",
       "      <td>0.915493</td>\n",
       "      <td>0.394366</td>\n",
       "      <td>0.190513</td>\n",
       "      <td>0.195652</td>\n",
       "      <td>0.549296</td>\n",
       "      <td>0.873239</td>\n",
       "      <td>...</td>\n",
       "      <td>0.361117</td>\n",
       "      <td>0.673913</td>\n",
       "      <td>0.704225</td>\n",
       "      <td>0.802817</td>\n",
       "      <td>0.295775</td>\n",
       "      <td>0.394105</td>\n",
       "      <td>0.695652</td>\n",
       "      <td>0.577465</td>\n",
       "      <td>0.746479</td>\n",
       "      <td>0.295775</td>\n",
       "    </tr>\n",
       "    <tr>\n",
       "      <th>383</th>\n",
       "      <td>0.394366</td>\n",
       "      <td>0.190513</td>\n",
       "      <td>0.195652</td>\n",
       "      <td>0.549296</td>\n",
       "      <td>0.873239</td>\n",
       "      <td>0.309859</td>\n",
       "      <td>0.188952</td>\n",
       "      <td>0.260870</td>\n",
       "      <td>0.464789</td>\n",
       "      <td>0.816901</td>\n",
       "      <td>...</td>\n",
       "      <td>0.394105</td>\n",
       "      <td>0.695652</td>\n",
       "      <td>0.577465</td>\n",
       "      <td>0.746479</td>\n",
       "      <td>0.295775</td>\n",
       "      <td>0.417919</td>\n",
       "      <td>0.652174</td>\n",
       "      <td>0.478873</td>\n",
       "      <td>0.647887</td>\n",
       "      <td>0.281690</td>\n",
       "    </tr>\n",
       "  </tbody>\n",
       "</table>\n",
       "<p>5 rows × 61 columns</p>\n",
       "</div>"
      ],
      "text/plain": [
       "     var1(t-12)  var2(t-12)  var3(t-12)  var4(t-12)  var5(t-12)  var1(t-11)  \\\n",
       "379    0.718310    0.232676    0.456522    0.873239    0.859155    0.704225   \n",
       "380    0.704225    0.217646    0.347826    0.802817    0.901408    0.577465   \n",
       "381    0.577465    0.221940    0.239130    0.746479    0.943662    0.478873   \n",
       "382    0.478873    0.199883    0.173913    0.647887    0.915493    0.394366   \n",
       "383    0.394366    0.190513    0.195652    0.549296    0.873239    0.309859   \n",
       "\n",
       "     var2(t-11)  var3(t-11)  var4(t-11)  var5(t-11)  ...  var2(t-2)  \\\n",
       "379    0.217646    0.347826    0.802817    0.901408  ...   0.249658   \n",
       "380    0.221940    0.239130    0.746479    0.943662  ...   0.291626   \n",
       "381    0.199883    0.173913    0.647887    0.915493  ...   0.327542   \n",
       "382    0.190513    0.195652    0.549296    0.873239  ...   0.361117   \n",
       "383    0.188952    0.260870    0.464789    0.816901  ...   0.394105   \n",
       "\n",
       "     var3(t-2)  var4(t-2)  var5(t-2)  var1(t-1)  var2(t-1)  var3(t-1)  \\\n",
       "379   0.717391   0.619718   0.816901   0.267606   0.291626   0.760870   \n",
       "380   0.760870   0.732394   0.859155   0.295775   0.327542   0.673913   \n",
       "381   0.673913   0.718310   0.873239   0.267606   0.361117   0.673913   \n",
       "382   0.673913   0.704225   0.802817   0.295775   0.394105   0.695652   \n",
       "383   0.695652   0.577465   0.746479   0.295775   0.417919   0.652174   \n",
       "\n",
       "     var4(t-1)  var5(t-1)   var1(t)  \n",
       "379   0.732394   0.859155  0.295775  \n",
       "380   0.718310   0.873239  0.267606  \n",
       "381   0.704225   0.802817  0.295775  \n",
       "382   0.577465   0.746479  0.295775  \n",
       "383   0.478873   0.647887  0.281690  \n",
       "\n",
       "[5 rows x 61 columns]"
      ]
     },
     "execution_count": 16,
     "metadata": {},
     "output_type": "execute_result"
    }
   ],
   "source": [
    "reframed.tail()"
   ]
  },
  {
   "cell_type": "code",
   "execution_count": 17,
   "metadata": {},
   "outputs": [],
   "source": [
    "# split into train and test sets\n",
    "values = reframed.values\n",
    "n_train = 276\n",
    "train = values[:n_train, :]\n",
    "test = values[n_train:, :]"
   ]
  },
  {
   "cell_type": "code",
   "execution_count": 18,
   "metadata": {},
   "outputs": [
    {
     "data": {
      "text/plain": [
       "(96, 61)"
      ]
     },
     "execution_count": 18,
     "metadata": {},
     "output_type": "execute_result"
    }
   ],
   "source": [
    "test.shape"
   ]
  },
  {
   "cell_type": "code",
   "execution_count": 19,
   "metadata": {},
   "outputs": [
    {
     "name": "stdout",
     "output_type": "stream",
     "text": [
      "(276, 60) (96, 60) (276,) (96,)\n"
     ]
    }
   ],
   "source": [
    "# split into input and outputs\n",
    "train_X, train_y = train[:, :-1], train[:, -1]\n",
    "test_X, test_y = test[:, :-1], test[:, -1]\n",
    "print(train_X.shape,test_X.shape, train_y.shape,test_y.shape)"
   ]
  },
  {
   "cell_type": "code",
   "execution_count": 20,
   "metadata": {},
   "outputs": [],
   "source": [
    "# specify the number of lag hours\n",
    "n_hours = 12\n",
    "n_features = 5"
   ]
  },
  {
   "cell_type": "code",
   "execution_count": 21,
   "metadata": {},
   "outputs": [],
   "source": [
    "# split into input and outputs\n",
    "#n_obs = n_hours * n_features\n",
    "#train_X, train_y = train[:, :n_obs], train[:, -n_features]\n",
    "#test_X, test_y = test[:, :n_obs], test[:, -n_features]\n",
    "#print(train_X.shape,test_X.shape, train_y.shape,test_y.shape)"
   ]
  },
  {
   "cell_type": "code",
   "execution_count": 22,
   "metadata": {},
   "outputs": [],
   "source": [
    "# reshape input to be 3D [samples, timesteps, features]\n",
    "train_X = train_X.reshape((train_X.shape[0], n_hours, n_features))\n",
    "test_X = test_X.reshape((test_X.shape[0], n_hours, n_features))"
   ]
  },
  {
   "cell_type": "code",
   "execution_count": 23,
   "metadata": {},
   "outputs": [
    {
     "name": "stdout",
     "output_type": "stream",
     "text": [
      "(276, 12, 5) (96, 12, 5) (276,) (96,)\n"
     ]
    }
   ],
   "source": [
    "print(train_X.shape,test_X.shape, train_y.shape,test_y.shape)"
   ]
  },
  {
   "cell_type": "code",
   "execution_count": 24,
   "metadata": {},
   "outputs": [
    {
     "name": "stdout",
     "output_type": "stream",
     "text": [
      "WARNING:tensorflow:From C:\\ProgramData\\Anaconda3\\lib\\site-packages\\tensorflow\\python\\ops\\resource_variable_ops.py:435: colocate_with (from tensorflow.python.framework.ops) is deprecated and will be removed in a future version.\n",
      "Instructions for updating:\n",
      "Colocations handled automatically by placer.\n",
      "WARNING:tensorflow:From C:\\ProgramData\\Anaconda3\\lib\\site-packages\\tensorflow\\python\\ops\\math_ops.py:3066: to_int32 (from tensorflow.python.ops.math_ops) is deprecated and will be removed in a future version.\n",
      "Instructions for updating:\n",
      "Use tf.cast instead.\n",
      "Train on 276 samples, validate on 96 samples\n",
      "Epoch 1/30\n",
      " - 1s - loss: 0.3897 - val_loss: 0.1194\n",
      "Epoch 2/30\n",
      " - 0s - loss: 0.1981 - val_loss: 0.1796\n",
      "Epoch 3/30\n",
      " - 0s - loss: 0.1433 - val_loss: 0.1497\n",
      "Epoch 4/30\n",
      " - 0s - loss: 0.1563 - val_loss: 0.1108\n",
      "Epoch 5/30\n",
      " - 0s - loss: 0.1370 - val_loss: 0.1254\n",
      "Epoch 6/30\n",
      " - 0s - loss: 0.1200 - val_loss: 0.0983\n",
      "Epoch 7/30\n",
      " - 0s - loss: 0.1183 - val_loss: 0.0923\n",
      "Epoch 8/30\n",
      " - 0s - loss: 0.1176 - val_loss: 0.0917\n",
      "Epoch 9/30\n",
      " - 0s - loss: 0.1100 - val_loss: 0.0825\n",
      "Epoch 10/30\n",
      " - 0s - loss: 0.1095 - val_loss: 0.0812\n",
      "Epoch 11/30\n",
      " - 0s - loss: 0.1071 - val_loss: 0.0760\n",
      "Epoch 12/30\n",
      " - 0s - loss: 0.1049 - val_loss: 0.0734\n",
      "Epoch 13/30\n",
      " - 0s - loss: 0.1041 - val_loss: 0.0752\n",
      "Epoch 14/30\n",
      " - 0s - loss: 0.1008 - val_loss: 0.0708\n",
      "Epoch 15/30\n",
      " - 0s - loss: 0.1004 - val_loss: 0.0713\n",
      "Epoch 16/30\n",
      " - 0s - loss: 0.0968 - val_loss: 0.0672\n",
      "Epoch 17/30\n",
      " - 0s - loss: 0.0984 - val_loss: 0.0695\n",
      "Epoch 18/30\n",
      " - 0s - loss: 0.0932 - val_loss: 0.0640\n",
      "Epoch 19/30\n",
      " - 0s - loss: 0.1009 - val_loss: 0.0795\n",
      "Epoch 20/30\n",
      " - 0s - loss: 0.0959 - val_loss: 0.0652\n",
      "Epoch 21/30\n",
      " - 0s - loss: 0.1048 - val_loss: 0.0941\n",
      "Epoch 22/30\n",
      " - 0s - loss: 0.0975 - val_loss: 0.0751\n",
      "Epoch 23/30\n",
      " - 0s - loss: 0.1049 - val_loss: 0.1028\n",
      "Epoch 24/30\n",
      " - 0s - loss: 0.0945 - val_loss: 0.0780\n",
      "Epoch 25/30\n",
      " - 0s - loss: 0.0994 - val_loss: 0.0948\n",
      "Epoch 26/30\n",
      " - 0s - loss: 0.0860 - val_loss: 0.0705\n",
      "Epoch 27/30\n",
      " - 0s - loss: 0.0889 - val_loss: 0.0804\n",
      "Epoch 28/30\n",
      " - 0s - loss: 0.0759 - val_loss: 0.0623\n",
      "Epoch 29/30\n",
      " - 0s - loss: 0.0769 - val_loss: 0.0639\n",
      "Epoch 30/30\n",
      " - 0s - loss: 0.0716 - val_loss: 0.0636\n"
     ]
    },
    {
     "data": {
      "image/png": "[encoded data removed]",
      "text/plain": [
       "<Figure size 432x288 with 1 Axes>"
      ]
     },
     "metadata": {
      "needs_background": "light"
     },
     "output_type": "display_data"
    }
   ],
   "source": [
    "# design network\n",
    "model = Sequential()\n",
    "model.add(LSTM(50, input_shape=(train_X.shape[1], train_X.shape[2])))\n",
    "model.add(Dense(1))\n",
    "model.compile(loss='mae', optimizer='adam')\n",
    "# fit network\n",
    "history = model.fit(train_X, train_y, epochs=30, batch_size=32, validation_data=(test_X, test_y), verbose=2, shuffle=False)\n",
    "# plot history\n",
    "pyplot.plot(history.history['loss'], label='train')\n",
    "pyplot.plot(history.history['val_loss'], label='test')\n",
    "pyplot.legend()\n",
    "pyplot.show()"
   ]
  },
  {
   "cell_type": "code",
   "execution_count": 25,
   "metadata": {},
   "outputs": [],
   "source": [
    "# make a prediction\n",
    "yhat = model.predict(test_X)\n",
    "test_X = test_X.reshape((test_X.shape[0], test_X.shape[1]*test_X.shape[2]))"
   ]
  },
  {
   "cell_type": "code",
   "execution_count": 26,
   "metadata": {},
   "outputs": [
    {
     "data": {
      "text/plain": [
       "(96, 60)"
      ]
     },
     "execution_count": 26,
     "metadata": {},
     "output_type": "execute_result"
    }
   ],
   "source": [
    "test_X.shape"
   ]
  },
  {
   "cell_type": "code",
   "execution_count": 27,
   "metadata": {},
   "outputs": [],
   "source": [
    "# invert scaling for forecast\n",
    "testy_forecast = np.zeros(shape=(len(test_y), 5))\n",
    "\n",
    "testy_forecast[:,0] = yhat[:,0]\n",
    "\n",
    "inv_yhat = scaler.inverse_transform(testy_forecast)[:,0]"
   ]
  },
  {
   "cell_type": "code",
   "execution_count": 28,
   "metadata": {},
   "outputs": [],
   "source": [
    "# invert scaling for actual test\n",
    "testy_actual = np.zeros(shape=(len(test_y), 5))\n",
    "\n",
    "testy_actual[:,0] = test_y\n",
    "\n",
    "inv_y = scaler.inverse_transform(testy_actual)[:,0]"
   ]
  },
  {
   "cell_type": "code",
   "execution_count": 29,
   "metadata": {},
   "outputs": [],
   "source": [
    "# invert scaling for actual train\n",
    "trainy_actual = np.zeros(shape=(len(train_y), 5))\n",
    "\n",
    "trainy_actual[:,0] = train_y\n",
    "\n",
    "inv_y_train = scaler.inverse_transform(trainy_actual)[:,0]"
   ]
  },
  {
   "cell_type": "code",
   "execution_count": 30,
   "metadata": {},
   "outputs": [
    {
     "data": {
      "text/plain": [
       "array([67.53256396, 67.30734997, 67.26886332, 67.50965568, 67.86543465,\n",
       "       68.26132576, 68.71376179, 69.03801352, 69.00580177, 68.77702026,\n",
       "       68.42520534, 68.10627737, 67.86324696, 67.75588671, 67.82468709,\n",
       "       68.08146874, 68.52906811, 69.11938888, 69.7081231 , 70.02015894,\n",
       "       70.11732066, 70.00428582, 69.68387076, 69.49403273, 69.44565839,\n",
       "       69.50889823, 69.64779567, 69.81690147, 70.23020358, 70.83915331,\n",
       "       71.25506906, 71.53560241, 71.33990444, 71.34195227, 71.26164548,\n",
       "       71.27336708, 71.3110833 , 71.35601582, 71.40128731, 71.55805026,\n",
       "       71.78427103, 72.18136528, 72.04592659, 72.16712314, 71.66055649,\n",
       "       71.4295037 , 71.10469801, 70.71576843, 70.40924214, 70.19886106,\n",
       "       70.15563529, 70.30242104, 70.71045144, 71.29620342, 71.63446156,\n",
       "       71.79811706, 71.64811546, 71.6595112 , 71.50937037, 71.18579618,\n",
       "       70.82799667, 70.4569106 , 70.10783014, 69.87486621, 69.85773917,\n",
       "       69.96207613, 70.04369736, 70.1596298 , 70.14390184, 69.98150788,\n",
       "       69.66518594, 69.22755827, 68.75653941, 68.30080247, 67.86883861,\n",
       "       67.64854973, 67.75097682, 68.03045304, 68.66254529, 69.15149145,\n",
       "       69.24115885, 69.02670242, 68.44244558, 67.7846615 , 67.26110556,\n",
       "       66.92587345, 66.62712048, 66.62821908, 66.8394037 , 67.24813279,\n",
       "       67.71004962, 68.02104335, 68.01925557, 67.79084879, 67.58362579,\n",
       "       67.33975322])"
      ]
     },
     "execution_count": 30,
     "metadata": {},
     "output_type": "execute_result"
    }
   ],
   "source": [
    "inv_yhat"
   ]
  },
  {
   "cell_type": "code",
   "execution_count": 31,
   "metadata": {},
   "outputs": [
    {
     "data": {
      "text/plain": [
       "array([67.7, 67.5, 67.5, 67.4, 67.4, 67.8, 68. , 68.4, 68.4, 68.2, 68.1,\n",
       "       67.8, 67.7, 67.6, 67.4, 67.4, 67.7, 68.6, 68.7, 69.3, 69.4, 69.3,\n",
       "       69.2, 69.3, 69.4, 69.5, 69.6, 70.1, 71. , 71.2, 71.4, 70.2, 71. ,\n",
       "       71.3, 71.5, 71.4, 71.3, 71.2, 71.2, 71.1, 71.7, 71.2, 71.7, 70.6,\n",
       "       71.6, 71.5, 71.1, 70.8, 70.5, 70.3, 70.2, 70.6, 71.3, 71.4, 71.4,\n",
       "       71. , 71.3, 71.6, 71.4, 71.1, 70.7, 70.3, 69.9, 70.2, 70.5, 70.7,\n",
       "       71. , 71.1, 70.6, 70.2, 69.5, 68.8, 68.2, 67.6, 67.1, 67.2, 67.6,\n",
       "       69.3, 70.1, 70. , 69.9, 69. , 68.3, 67.7, 67.1, 66.5, 66. , 65.6,\n",
       "       65.9, 66.5, 66.8, 67. , 66.8, 67. , 67. , 66.9])"
      ]
     },
     "execution_count": 31,
     "metadata": {},
     "output_type": "execute_result"
    }
   ],
   "source": [
    "inv_y"
   ]
  },
  {
   "cell_type": "code",
   "execution_count": 32,
   "metadata": {},
   "outputs": [
    {
     "name": "stdout",
     "output_type": "stream",
     "text": [
      "Test RMSE: 0.580\n"
     ]
    }
   ],
   "source": [
    "# calculate RMSE\n",
    "rmse = sqrt(mean_squared_error(inv_y, inv_yhat))\n",
    "print('Test RMSE: %.3f' % rmse)"
   ]
  },
  {
   "cell_type": "code",
   "execution_count": 33,
   "metadata": {},
   "outputs": [],
   "source": [
    "import matplotlib.pyplot as plt\n",
    "%matplotlib inline"
   ]
  },
  {
   "cell_type": "code",
   "execution_count": 34,
   "metadata": {},
   "outputs": [
    {
     "data": {
      "text/plain": [
       "Text(0, 0.5, 'Temperature (F)')"
      ]
     },
     "execution_count": 34,
     "metadata": {},
     "output_type": "execute_result"
    },
    {
     "data": {
      "image/png": "[encoded data removed]",
      "text/plain": [
       "<Figure size 432x288 with 1 Axes>"
      ]
     },
     "metadata": {
      "needs_background": "light"
     },
     "output_type": "display_data"
    }
   ],
   "source": [
    "plt.plot(ts.index[276:372],inv_y,label='Actual')\n",
    "plt.plot(ts.index[276:372],inv_yhat,label='LSTM_forecast')\n",
    "plt.legend(loc=\"upper right\")\n",
    "plt.ylim(63,75)\n",
    "plt.xlabel('Date')\n",
    "plt.ylabel('Temperature (F)')"
   ]
  },
  {
   "cell_type": "code",
   "execution_count": 35,
   "metadata": {},
   "outputs": [
    {
     "data": {
      "image/png": "[encoded data removed]",
      "text/plain": [
       "<Figure size 1200x500 with 1 Axes>"
      ]
     },
     "metadata": {
      "needs_background": "light"
     },
     "output_type": "display_data"
    }
   ],
   "source": [
    "plt.figure(figsize=(12,5), dpi=100)\n",
    "plt.plot(ts.index[:276],inv_y_train, label='training')\n",
    "plt.plot(ts.index[276:372],inv_y, label='actual')\n",
    "plt.plot(ts.index[276:372],inv_yhat, label='forecast')\n",
    "#plt.fill_between(lower_series.index, lower_series, upper_series, color='k', alpha=.15)\n",
    "plt.title('Forecast vs Actuals (Room 138)')\n",
    "plt.legend(loc='upper left', fontsize=8)\n",
    "plt.ylim(63,75)\n",
    "plt.xlabel('Date')\n",
    "plt.ylabel('Temperature (F)')\n",
    "plt.show()"
   ]
  },
  {
   "cell_type": "markdown",
   "metadata": {},
   "source": [
    "# Linear regression"
   ]
  },
  {
   "cell_type": "code",
   "execution_count": 36,
   "metadata": {},
   "outputs": [],
   "source": [
    "from sklearn.linear_model import LinearRegression"
   ]
  },
  {
   "cell_type": "code",
   "execution_count": 37,
   "metadata": {},
   "outputs": [],
   "source": [
    "regressor = LinearRegression()"
   ]
  },
  {
   "cell_type": "code",
   "execution_count": 38,
   "metadata": {},
   "outputs": [],
   "source": [
    "train_X_lr, train_y_lr = train[:, :-1], train[:, -1]\n",
    "test_X_lr, test_y_lr = test[:, :-1], test[:, -1]"
   ]
  },
  {
   "cell_type": "code",
   "execution_count": 39,
   "metadata": {},
   "outputs": [
    {
     "data": {
      "text/plain": [
       "LinearRegression(copy_X=True, fit_intercept=True, n_jobs=None, normalize=False)"
      ]
     },
     "execution_count": 39,
     "metadata": {},
     "output_type": "execute_result"
    }
   ],
   "source": [
    "regressor.fit(train_X_lr,train_y_lr)"
   ]
  },
  {
   "cell_type": "code",
   "execution_count": 40,
   "metadata": {},
   "outputs": [],
   "source": [
    "y_pred= regressor.predict(test_X_lr)"
   ]
  },
  {
   "cell_type": "code",
   "execution_count": 41,
   "metadata": {},
   "outputs": [],
   "source": [
    "#Invert scaling for forecast\n",
    "testy_forecast_lr = np.zeros(shape=(len(test_y_lr), 5))\n",
    "\n",
    "testy_forecast_lr[:,0] = y_pred\n",
    "\n",
    "inv_yhat_lr = scaler.inverse_transform(testy_forecast_lr)[:,0]"
   ]
  },
  {
   "cell_type": "code",
   "execution_count": 42,
   "metadata": {},
   "outputs": [
    {
     "data": {
      "text/plain": [
       "(96,)"
      ]
     },
     "execution_count": 42,
     "metadata": {},
     "output_type": "execute_result"
    }
   ],
   "source": [
    "inv_yhat_lr.shape"
   ]
  },
  {
   "cell_type": "code",
   "execution_count": 43,
   "metadata": {},
   "outputs": [],
   "source": [
    "#Invert scaling for actual\n",
    "# invert scaling for actual\n",
    "\n",
    "testy_actual_lr = np.zeros(shape=(len(test_y_lr), 5))\n",
    "\n",
    "testy_actual_lr[:,0] = test_y_lr\n",
    "\n",
    "inv_y_lr = scaler.inverse_transform(testy_actual_lr)[:,0]"
   ]
  },
  {
   "cell_type": "code",
   "execution_count": 44,
   "metadata": {},
   "outputs": [
    {
     "data": {
      "text/plain": [
       "array([67.7, 67.5, 67.5, 67.4, 67.4, 67.8, 68. , 68.4, 68.4, 68.2, 68.1,\n",
       "       67.8, 67.7, 67.6, 67.4, 67.4, 67.7, 68.6, 68.7, 69.3, 69.4, 69.3,\n",
       "       69.2, 69.3, 69.4, 69.5, 69.6, 70.1, 71. , 71.2, 71.4, 70.2, 71. ,\n",
       "       71.3, 71.5, 71.4, 71.3, 71.2, 71.2, 71.1, 71.7, 71.2, 71.7, 70.6,\n",
       "       71.6, 71.5, 71.1, 70.8, 70.5, 70.3, 70.2, 70.6, 71.3, 71.4, 71.4,\n",
       "       71. , 71.3, 71.6, 71.4, 71.1, 70.7, 70.3, 69.9, 70.2, 70.5, 70.7,\n",
       "       71. , 71.1, 70.6, 70.2, 69.5, 68.8, 68.2, 67.6, 67.1, 67.2, 67.6,\n",
       "       69.3, 70.1, 70. , 69.9, 69. , 68.3, 67.7, 67.1, 66.5, 66. , 65.6,\n",
       "       65.9, 66.5, 66.8, 67. , 66.8, 67. , 67. , 66.9])"
      ]
     },
     "execution_count": 44,
     "metadata": {},
     "output_type": "execute_result"
    }
   ],
   "source": [
    "inv_y_lr"
   ]
  },
  {
   "cell_type": "code",
   "execution_count": 45,
   "metadata": {},
   "outputs": [
    {
     "data": {
      "text/plain": [
       "Text(0, 0.5, 'Temperature (F)')"
      ]
     },
     "execution_count": 45,
     "metadata": {},
     "output_type": "execute_result"
    },
    {
     "data": {
      "image/png": "[encoded data removed]",
      "text/plain": [
       "<Figure size 432x288 with 1 Axes>"
      ]
     },
     "metadata": {
      "needs_background": "light"
     },
     "output_type": "display_data"
    }
   ],
   "source": [
    "plt.plot(ts.index[276:372],inv_y_lr,label='Actual')\n",
    "plt.plot(ts.index[276:372],inv_yhat_lr,label='LinearRegression_forecast')\n",
    "plt.legend(loc=\"upper right\")\n",
    "plt.ylim(63,75)\n",
    "plt.xlabel('Date')\n",
    "plt.ylabel('Temperature (F)')"
   ]
  },
  {
   "cell_type": "code",
   "execution_count": 46,
   "metadata": {},
   "outputs": [
    {
     "data": {
      "image/png": "[encoded data removed]",
      "text/plain": [
       "<Figure size 1200x500 with 1 Axes>"
      ]
     },
     "metadata": {
      "needs_background": "light"
     },
     "output_type": "display_data"
    }
   ],
   "source": [
    "plt.figure(figsize=(12,5), dpi=100)\n",
    "plt.plot(ts.index[:276],inv_y_train, label='training')\n",
    "plt.plot(ts.index[276:372],inv_y_lr, label='actual')\n",
    "plt.plot(ts.index[276:372],inv_yhat_lr, label='forecast')\n",
    "#plt.fill_between(lower_series.index, lower_series, upper_series, color='k', alpha=.15)\n",
    "plt.title('Forecast vs Actuals (Room 138)')\n",
    "plt.legend(loc='upper left', fontsize=8)\n",
    "plt.ylim(63,75)\n",
    "plt.xlabel('Date')\n",
    "plt.ylabel('Temperature (F)')\n",
    "plt.show()"
   ]
  },
  {
   "cell_type": "code",
   "execution_count": 47,
   "metadata": {},
   "outputs": [
    {
     "name": "stdout",
     "output_type": "stream",
     "text": [
      "Test RMSE: 0.433\n"
     ]
    }
   ],
   "source": [
    "# calculate RMSE\n",
    "rmse = sqrt(mean_squared_error(inv_y_lr, inv_yhat_lr))\n",
    "print('Test RMSE: %.3f' % rmse)"
   ]
  }
 ],
 "metadata": {
  "kernelspec": {
   "display_name": "Python 3",
   "language": "python",
   "name": "python3"
  },
  "language_info": {
   "codemirror_mode": {
    "name": "ipython",
    "version": 3
   },
   "file_extension": ".py",
   "mimetype": "text/x-python",
   "name": "python",
   "nbconvert_exporter": "python",
   "pygments_lexer": "ipython3",
   "version": "3.7.3"
  }
 },
 "nbformat": 4,
 "nbformat_minor": 2
}
