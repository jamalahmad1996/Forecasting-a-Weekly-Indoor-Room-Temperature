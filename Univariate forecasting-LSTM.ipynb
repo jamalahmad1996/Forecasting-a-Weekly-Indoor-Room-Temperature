{
 "cells": [
  {
   "cell_type": "code",
   "execution_count": 4,
   "metadata": {},
   "outputs": [],
   "source": [
    "import pandas as pd\n",
    "import numpy as np\n",
    "import matplotlib.pyplot as plt"
   ]
  },
  {
   "cell_type": "code",
   "execution_count": 5,
   "metadata": {},
   "outputs": [],
   "source": [
    "df=pd.read_csv(\"SensorTH-Room 256.csv\")"
   ]
  },
  {
   "cell_type": "code",
   "execution_count": 6,
   "metadata": {},
   "outputs": [],
   "source": [
    "df.drop(\"Date\",axis=1,inplace=True)"
   ]
  },
  {
   "cell_type": "code",
   "execution_count": 7,
   "metadata": {},
   "outputs": [
    {
     "data": {
      "text/html": [
       "<div>\n",
       "<style scoped>\n",
       "    .dataframe tbody tr th:only-of-type {\n",
       "        vertical-align: middle;\n",
       "    }\n",
       "\n",
       "    .dataframe tbody tr th {\n",
       "        vertical-align: top;\n",
       "    }\n",
       "\n",
       "    .dataframe thead th {\n",
       "        text-align: right;\n",
       "    }\n",
       "</style>\n",
       "<table border=\"1\" class=\"dataframe\">\n",
       "  <thead>\n",
       "    <tr style=\"text-align: right;\">\n",
       "      <th></th>\n",
       "      <th>Humidity</th>\n",
       "      <th>Temperature</th>\n",
       "      <th>Date (new)</th>\n",
       "    </tr>\n",
       "  </thead>\n",
       "  <tbody>\n",
       "    <tr>\n",
       "      <th>0</th>\n",
       "      <td>64.83</td>\n",
       "      <td>69.5</td>\n",
       "      <td>1/15/2020 1:49</td>\n",
       "    </tr>\n",
       "    <tr>\n",
       "      <th>1</th>\n",
       "      <td>63.77</td>\n",
       "      <td>70.2</td>\n",
       "      <td>1/15/2020 3:49</td>\n",
       "    </tr>\n",
       "    <tr>\n",
       "      <th>2</th>\n",
       "      <td>62.67</td>\n",
       "      <td>71.3</td>\n",
       "      <td>1/15/2020 5:49</td>\n",
       "    </tr>\n",
       "    <tr>\n",
       "      <th>3</th>\n",
       "      <td>68.40</td>\n",
       "      <td>67.0</td>\n",
       "      <td>1/15/2020 7:49</td>\n",
       "    </tr>\n",
       "    <tr>\n",
       "      <th>4</th>\n",
       "      <td>67.84</td>\n",
       "      <td>66.9</td>\n",
       "      <td>1/15/2020 9:49</td>\n",
       "    </tr>\n",
       "  </tbody>\n",
       "</table>\n",
       "</div>"
      ],
      "text/plain": [
       "   Humidity  Temperature      Date (new)\n",
       "0     64.83         69.5  1/15/2020 1:49\n",
       "1     63.77         70.2  1/15/2020 3:49\n",
       "2     62.67         71.3  1/15/2020 5:49\n",
       "3     68.40         67.0  1/15/2020 7:49\n",
       "4     67.84         66.9  1/15/2020 9:49"
      ]
     },
     "execution_count": 7,
     "metadata": {},
     "output_type": "execute_result"
    }
   ],
   "source": [
    "df.head()"
   ]
  },
  {
   "cell_type": "code",
   "execution_count": 8,
   "metadata": {},
   "outputs": [],
   "source": [
    "df['Date (new)'] = pd.to_datetime(df['Date (new)'])\n",
    "df = df.set_index('Date (new)')"
   ]
  },
  {
   "cell_type": "code",
   "execution_count": 9,
   "metadata": {},
   "outputs": [
    {
     "data": {
      "text/html": [
       "<div>\n",
       "<style scoped>\n",
       "    .dataframe tbody tr th:only-of-type {\n",
       "        vertical-align: middle;\n",
       "    }\n",
       "\n",
       "    .dataframe tbody tr th {\n",
       "        vertical-align: top;\n",
       "    }\n",
       "\n",
       "    .dataframe thead th {\n",
       "        text-align: right;\n",
       "    }\n",
       "</style>\n",
       "<table border=\"1\" class=\"dataframe\">\n",
       "  <thead>\n",
       "    <tr style=\"text-align: right;\">\n",
       "      <th></th>\n",
       "      <th>Humidity</th>\n",
       "      <th>Temperature</th>\n",
       "    </tr>\n",
       "    <tr>\n",
       "      <th>Date (new)</th>\n",
       "      <th></th>\n",
       "      <th></th>\n",
       "    </tr>\n",
       "  </thead>\n",
       "  <tbody>\n",
       "    <tr>\n",
       "      <th>2020-01-15 01:49:00</th>\n",
       "      <td>64.83</td>\n",
       "      <td>69.5</td>\n",
       "    </tr>\n",
       "    <tr>\n",
       "      <th>2020-01-15 03:49:00</th>\n",
       "      <td>63.77</td>\n",
       "      <td>70.2</td>\n",
       "    </tr>\n",
       "    <tr>\n",
       "      <th>2020-01-15 05:49:00</th>\n",
       "      <td>62.67</td>\n",
       "      <td>71.3</td>\n",
       "    </tr>\n",
       "    <tr>\n",
       "      <th>2020-01-15 07:49:00</th>\n",
       "      <td>68.40</td>\n",
       "      <td>67.0</td>\n",
       "    </tr>\n",
       "    <tr>\n",
       "      <th>2020-01-15 09:49:00</th>\n",
       "      <td>67.84</td>\n",
       "      <td>66.9</td>\n",
       "    </tr>\n",
       "  </tbody>\n",
       "</table>\n",
       "</div>"
      ],
      "text/plain": [
       "                     Humidity  Temperature\n",
       "Date (new)                                \n",
       "2020-01-15 01:49:00     64.83         69.5\n",
       "2020-01-15 03:49:00     63.77         70.2\n",
       "2020-01-15 05:49:00     62.67         71.3\n",
       "2020-01-15 07:49:00     68.40         67.0\n",
       "2020-01-15 09:49:00     67.84         66.9"
      ]
     },
     "execution_count": 9,
     "metadata": {},
     "output_type": "execute_result"
    }
   ],
   "source": [
    "df.head()"
   ]
  },
  {
   "cell_type": "code",
   "execution_count": 10,
   "metadata": {},
   "outputs": [],
   "source": [
    "df.dropna(inplace=True)"
   ]
  },
  {
   "cell_type": "code",
   "execution_count": 11,
   "metadata": {},
   "outputs": [
    {
     "data": {
      "text/html": [
       "<div>\n",
       "<style scoped>\n",
       "    .dataframe tbody tr th:only-of-type {\n",
       "        vertical-align: middle;\n",
       "    }\n",
       "\n",
       "    .dataframe tbody tr th {\n",
       "        vertical-align: top;\n",
       "    }\n",
       "\n",
       "    .dataframe thead th {\n",
       "        text-align: right;\n",
       "    }\n",
       "</style>\n",
       "<table border=\"1\" class=\"dataframe\">\n",
       "  <thead>\n",
       "    <tr style=\"text-align: right;\">\n",
       "      <th></th>\n",
       "      <th>Humidity</th>\n",
       "      <th>Temperature</th>\n",
       "    </tr>\n",
       "    <tr>\n",
       "      <th>Date (new)</th>\n",
       "      <th></th>\n",
       "      <th></th>\n",
       "    </tr>\n",
       "  </thead>\n",
       "  <tbody>\n",
       "    <tr>\n",
       "      <th>2020-01-19 07:49:00</th>\n",
       "      <td>63.0</td>\n",
       "      <td>0.9</td>\n",
       "    </tr>\n",
       "    <tr>\n",
       "      <th>2020-02-07 17:49:00</th>\n",
       "      <td>43.0</td>\n",
       "      <td>0.3</td>\n",
       "    </tr>\n",
       "    <tr>\n",
       "      <th>2020-02-09 05:49:00</th>\n",
       "      <td>50.0</td>\n",
       "      <td>0.8</td>\n",
       "    </tr>\n",
       "  </tbody>\n",
       "</table>\n",
       "</div>"
      ],
      "text/plain": [
       "                     Humidity  Temperature\n",
       "Date (new)                                \n",
       "2020-01-19 07:49:00      63.0          0.9\n",
       "2020-02-07 17:49:00      43.0          0.3\n",
       "2020-02-09 05:49:00      50.0          0.8"
      ]
     },
     "execution_count": 11,
     "metadata": {},
     "output_type": "execute_result"
    }
   ],
   "source": [
    "df[df['Temperature']<1]"
   ]
  },
  {
   "cell_type": "code",
   "execution_count": 12,
   "metadata": {},
   "outputs": [],
   "source": [
    "df.loc['1/19/2020 7:49']['Temperature']=(df.loc['1/19/2020 5:49']['Temperature']+df.loc['1/19/2020 9:49']['Temperature'])/2"
   ]
  },
  {
   "cell_type": "code",
   "execution_count": 13,
   "metadata": {},
   "outputs": [],
   "source": [
    "df.loc['2/7/2020 17:49']['Temperature']=(df.loc['2/7/2020 15:49']['Temperature']+df.loc['2/7/2020 19:49']['Temperature'])/2"
   ]
  },
  {
   "cell_type": "code",
   "execution_count": 14,
   "metadata": {},
   "outputs": [],
   "source": [
    "df.loc['2/9/2020 5:49']['Temperature']=(df.loc['2/9/2020 3:49']['Temperature']+df.loc['2/9/2020 7:49']['Temperature'])/2"
   ]
  },
  {
   "cell_type": "code",
   "execution_count": 15,
   "metadata": {},
   "outputs": [
    {
     "data": {
      "text/html": [
       "<div>\n",
       "<style scoped>\n",
       "    .dataframe tbody tr th:only-of-type {\n",
       "        vertical-align: middle;\n",
       "    }\n",
       "\n",
       "    .dataframe tbody tr th {\n",
       "        vertical-align: top;\n",
       "    }\n",
       "\n",
       "    .dataframe thead th {\n",
       "        text-align: right;\n",
       "    }\n",
       "</style>\n",
       "<table border=\"1\" class=\"dataframe\">\n",
       "  <thead>\n",
       "    <tr style=\"text-align: right;\">\n",
       "      <th></th>\n",
       "      <th>Humidity</th>\n",
       "      <th>Temperature</th>\n",
       "    </tr>\n",
       "    <tr>\n",
       "      <th>Date (new)</th>\n",
       "      <th></th>\n",
       "      <th></th>\n",
       "    </tr>\n",
       "  </thead>\n",
       "  <tbody>\n",
       "  </tbody>\n",
       "</table>\n",
       "</div>"
      ],
      "text/plain": [
       "Empty DataFrame\n",
       "Columns: [Humidity, Temperature]\n",
       "Index: []"
      ]
     },
     "execution_count": 15,
     "metadata": {},
     "output_type": "execute_result"
    }
   ],
   "source": [
    "df[df['Temperature']<1]"
   ]
  },
  {
   "cell_type": "code",
   "execution_count": 43,
   "metadata": {},
   "outputs": [
    {
     "data": {
      "text/plain": [
       "Date (new)\n",
       "2020-02-02 15:49:00    69.8\n",
       "2020-02-02 17:49:00    70.5\n",
       "2020-02-02 19:49:00    70.8\n",
       "2020-02-02 21:49:00    70.1\n",
       "2020-02-02 23:49:00    70.8\n",
       "Name: Temperature, dtype: float64"
      ]
     },
     "execution_count": 43,
     "metadata": {},
     "output_type": "execute_result"
    }
   ],
   "source": [
    "ts=df.loc['1/20/2020':'2/02/2020']['Temperature']\n",
    "#ts=pd.concat([df.loc['1/20/2020':'1/24/2020'],df.loc['1/27/2020':'1/31/2020']])['Temperature']\n",
    "ts.tail()"
   ]
  },
  {
   "cell_type": "code",
   "execution_count": 44,
   "metadata": {},
   "outputs": [
    {
     "data": {
      "text/plain": [
       "[<matplotlib.lines.Line2D at 0x1ac18697438>]"
      ]
     },
     "execution_count": 44,
     "metadata": {},
     "output_type": "execute_result"
    },
    {
     "data": {
      "image/png": "[encoded data removed]",
      "text/plain": [
       "<Figure size 432x288 with 1 Axes>"
      ]
     },
     "metadata": {
      "needs_background": "light"
     },
     "output_type": "display_data"
    }
   ],
   "source": [
    "plt.plot(ts)"
   ]
  },
  {
   "cell_type": "code",
   "execution_count": 45,
   "metadata": {},
   "outputs": [
    {
     "data": {
      "text/html": [
       "<div>\n",
       "<style scoped>\n",
       "    .dataframe tbody tr th:only-of-type {\n",
       "        vertical-align: middle;\n",
       "    }\n",
       "\n",
       "    .dataframe tbody tr th {\n",
       "        vertical-align: top;\n",
       "    }\n",
       "\n",
       "    .dataframe thead th {\n",
       "        text-align: right;\n",
       "    }\n",
       "</style>\n",
       "<table border=\"1\" class=\"dataframe\">\n",
       "  <thead>\n",
       "    <tr style=\"text-align: right;\">\n",
       "      <th></th>\n",
       "      <th>Temperature</th>\n",
       "    </tr>\n",
       "    <tr>\n",
       "      <th>Date (new)</th>\n",
       "      <th></th>\n",
       "    </tr>\n",
       "  </thead>\n",
       "  <tbody>\n",
       "    <tr>\n",
       "      <th>2020-01-20 01:49:00</th>\n",
       "      <td>71.7</td>\n",
       "    </tr>\n",
       "    <tr>\n",
       "      <th>2020-01-20 03:49:00</th>\n",
       "      <td>71.8</td>\n",
       "    </tr>\n",
       "    <tr>\n",
       "      <th>2020-01-20 05:49:00</th>\n",
       "      <td>72.8</td>\n",
       "    </tr>\n",
       "    <tr>\n",
       "      <th>2020-01-20 07:49:00</th>\n",
       "      <td>71.2</td>\n",
       "    </tr>\n",
       "    <tr>\n",
       "      <th>2020-01-20 09:49:00</th>\n",
       "      <td>72.9</td>\n",
       "    </tr>\n",
       "  </tbody>\n",
       "</table>\n",
       "</div>"
      ],
      "text/plain": [
       "                     Temperature\n",
       "Date (new)                      \n",
       "2020-01-20 01:49:00         71.7\n",
       "2020-01-20 03:49:00         71.8\n",
       "2020-01-20 05:49:00         72.8\n",
       "2020-01-20 07:49:00         71.2\n",
       "2020-01-20 09:49:00         72.9"
      ]
     },
     "execution_count": 45,
     "metadata": {},
     "output_type": "execute_result"
    }
   ],
   "source": [
    "ts=pd.DataFrame(ts)\n",
    "ts.head()"
   ]
  },
  {
   "cell_type": "code",
   "execution_count": 46,
   "metadata": {},
   "outputs": [
    {
     "name": "stdout",
     "output_type": "stream",
     "text": [
      "<class 'pandas.core.frame.DataFrame'>\n",
      "DatetimeIndex: 168 entries, 2020-01-20 01:49:00 to 2020-02-02 23:49:00\n",
      "Data columns (total 1 columns):\n",
      "Temperature    168 non-null float64\n",
      "dtypes: float64(1)\n",
      "memory usage: 2.6 KB\n"
     ]
    }
   ],
   "source": [
    "ts.info()"
   ]
  },
  {
   "cell_type": "code",
   "execution_count": 47,
   "metadata": {},
   "outputs": [
    {
     "name": "stdout",
     "output_type": "stream",
     "text": [
      "(84, 1)\n",
      "(84, 1)\n"
     ]
    }
   ],
   "source": [
    "nobs = 84\n",
    "ts_train, ts_test = ts[0:-nobs], ts[-nobs:]\n",
    "\n",
    "# Check size\n",
    "print(ts_train.shape) \n",
    "print(ts_test.shape)  "
   ]
  },
  {
   "cell_type": "code",
   "execution_count": 48,
   "metadata": {},
   "outputs": [],
   "source": [
    "from sklearn.preprocessing import MinMaxScaler\n",
    "scaler = MinMaxScaler()\n",
    "\n",
    "scaler.fit(ts_train)\n",
    "scaled_train_data = scaler.transform(ts_train)\n",
    "scaled_test_data = scaler.transform(ts_test)"
   ]
  },
  {
   "cell_type": "code",
   "execution_count": 49,
   "metadata": {},
   "outputs": [],
   "source": [
    "from keras.preprocessing.sequence import TimeseriesGenerator"
   ]
  },
  {
   "cell_type": "code",
   "execution_count": 59,
   "metadata": {},
   "outputs": [
    {
     "name": "stdout",
     "output_type": "stream",
     "text": [
      "Model: \"sequential_3\"\n",
      "_________________________________________________________________\n",
      "Layer (type)                 Output Shape              Param #   \n",
      "=================================================================\n",
      "lstm_3 (LSTM)                (None, 200)               161600    \n",
      "_________________________________________________________________\n",
      "dense_3 (Dense)              (None, 1)                 201       \n",
      "=================================================================\n",
      "Total params: 161,801\n",
      "Trainable params: 161,801\n",
      "Non-trainable params: 0\n",
      "_________________________________________________________________\n"
     ]
    }
   ],
   "source": [
    "n_input = 12\n",
    "n_features= 1\n",
    "generator = TimeseriesGenerator(scaled_train_data, scaled_train_data, length=n_input, batch_size=1)\n",
    "from keras.models import Sequential\n",
    "from keras.layers import Dense\n",
    "from keras.layers import LSTM\n",
    "\n",
    "lstm_model = Sequential()\n",
    "lstm_model.add(LSTM(200, activation='relu', input_shape=(n_input, n_features)))\n",
    "lstm_model.add(Dense(1))\n",
    "lstm_model.compile(optimizer='adam', loss='mse')\n",
    "\n",
    "lstm_model.summary()"
   ]
  },
  {
   "cell_type": "code",
   "execution_count": 60,
   "metadata": {},
   "outputs": [
    {
     "name": "stdout",
     "output_type": "stream",
     "text": [
      "Epoch 1/20\n",
      "72/72 [==============================] - 1s 8ms/step - loss: 0.0694\n",
      "Epoch 2/20\n",
      "72/72 [==============================] - 0s 5ms/step - loss: 0.0423\n",
      "Epoch 3/20\n",
      "72/72 [==============================] - 0s 5ms/step - loss: 0.0330\n",
      "Epoch 4/20\n",
      "72/72 [==============================] - 0s 5ms/step - loss: 0.0334\n",
      "Epoch 5/20\n",
      "72/72 [==============================] - 0s 5ms/step - loss: 0.0347\n",
      "Epoch 6/20\n",
      "72/72 [==============================] - 0s 5ms/step - loss: 0.0358\n",
      "Epoch 7/20\n",
      "72/72 [==============================] - 0s 5ms/step - loss: 0.0323\n",
      "Epoch 8/20\n",
      "72/72 [==============================] - 0s 5ms/step - loss: 0.0343\n",
      "Epoch 9/20\n",
      "72/72 [==============================] - 0s 5ms/step - loss: 0.0305\n",
      "Epoch 10/20\n",
      "72/72 [==============================] - 0s 5ms/step - loss: 0.0321\n",
      "Epoch 11/20\n",
      "72/72 [==============================] - 0s 5ms/step - loss: 0.0305\n",
      "Epoch 12/20\n",
      "72/72 [==============================] - 0s 5ms/step - loss: 0.0325\n",
      "Epoch 13/20\n",
      "72/72 [==============================] - 0s 4ms/step - loss: 0.0292\n",
      "Epoch 14/20\n",
      "72/72 [==============================] - 0s 5ms/step - loss: 0.0269\n",
      "Epoch 15/20\n",
      "72/72 [==============================] - 0s 5ms/step - loss: 0.0278\n",
      "Epoch 16/20\n",
      "72/72 [==============================] - 0s 5ms/step - loss: 0.0278\n",
      "Epoch 17/20\n",
      "72/72 [==============================] - 0s 5ms/step - loss: 0.0261\n",
      "Epoch 18/20\n",
      "72/72 [==============================] - 0s 5ms/step - loss: 0.0256\n",
      "Epoch 19/20\n",
      "72/72 [==============================] - 0s 5ms/step - loss: 0.0295\n",
      "Epoch 20/20\n",
      "72/72 [==============================] - 0s 5ms/step - loss: 0.0297\n"
     ]
    },
    {
     "data": {
      "text/plain": [
       "<keras.callbacks.callbacks.History at 0x1ac1c3e0a90>"
      ]
     },
     "execution_count": 60,
     "metadata": {},
     "output_type": "execute_result"
    }
   ],
   "source": [
    "lstm_model.fit_generator(generator,epochs=20)"
   ]
  },
  {
   "cell_type": "code",
   "execution_count": 61,
   "metadata": {},
   "outputs": [
    {
     "data": {
      "text/plain": [
       "[<matplotlib.lines.Line2D at 0x1ac1de5b358>]"
      ]
     },
     "execution_count": 61,
     "metadata": {},
     "output_type": "execute_result"
    },
    {
     "data": {
      "image/png": "[encoded data removed]",
      "text/plain": [
       "<Figure size 864x288 with 1 Axes>"
      ]
     },
     "metadata": {
      "needs_background": "light"
     },
     "output_type": "display_data"
    }
   ],
   "source": [
    "losses_lstm = lstm_model.history.history['loss']\n",
    "plt.figure(figsize=(12,4))\n",
    "plt.xlabel(\"Epochs\")\n",
    "plt.ylabel(\"Loss\")\n",
    "plt.xticks(np.arange(0,21,1))\n",
    "plt.plot(range(len(losses_lstm)),losses_lstm)"
   ]
  },
  {
   "cell_type": "code",
   "execution_count": 62,
   "metadata": {},
   "outputs": [],
   "source": [
    "lstm_predictions_scaled = list()\n",
    "\n",
    "batch = scaled_train_data[-n_input:]\n",
    "current_batch = batch.reshape((1, n_input, n_features))\n",
    "\n",
    "for i in range(len(ts_test)):   \n",
    "    lstm_pred = lstm_model.predict(current_batch)[0]\n",
    "    lstm_predictions_scaled.append(lstm_pred) \n",
    "    current_batch = np.append(current_batch[:,1:,:],[[lstm_pred]],axis=1)"
   ]
  },
  {
   "cell_type": "code",
   "execution_count": 63,
   "metadata": {},
   "outputs": [
    {
     "data": {
      "text/plain": [
       "[array([0.62464625], dtype=float32),\n",
       " array([0.6222626], dtype=float32),\n",
       " array([0.62152946], dtype=float32),\n",
       " array([0.6196802], dtype=float32),\n",
       " array([0.6187569], dtype=float32),\n",
       " array([0.62037355], dtype=float32),\n",
       " array([0.62050647], dtype=float32),\n",
       " array([0.6222489], dtype=float32),\n",
       " array([0.6243471], dtype=float32),\n",
       " array([0.6233376], dtype=float32),\n",
       " array([0.6247636], dtype=float32),\n",
       " array([0.6262297], dtype=float32),\n",
       " array([0.6260969], dtype=float32),\n",
       " array([0.6260132], dtype=float32),\n",
       " array([0.6259162], dtype=float32),\n",
       " array([0.6258638], dtype=float32),\n",
       " array([0.62588245], dtype=float32),\n",
       " array([0.6260117], dtype=float32),\n",
       " array([0.62618953], dtype=float32),\n",
       " array([0.62635434], dtype=float32),\n",
       " array([0.62651294], dtype=float32),\n",
       " array([0.6266429], dtype=float32),\n",
       " array([0.6267857], dtype=float32),\n",
       " array([0.62688285], dtype=float32),\n",
       " array([0.62691694], dtype=float32),\n",
       " array([0.62693137], dtype=float32),\n",
       " array([0.6269389], dtype=float32),\n",
       " array([0.626949], dtype=float32),\n",
       " array([0.6269661], dtype=float32),\n",
       " array([0.6269899], dtype=float32),\n",
       " array([0.6270167], dtype=float32),\n",
       " array([0.62704337], dtype=float32),\n",
       " array([0.6270692], dtype=float32),\n",
       " array([0.6270922], dtype=float32),\n",
       " array([0.62711084], dtype=float32),\n",
       " array([0.6271237], dtype=float32),\n",
       " array([0.6271318], dtype=float32),\n",
       " array([0.627137], dtype=float32),\n",
       " array([0.6271411], dtype=float32),\n",
       " array([0.627145], dtype=float32),\n",
       " array([0.6271492], dtype=float32),\n",
       " array([0.62715375], dtype=float32),\n",
       " array([0.6271585], dtype=float32),\n",
       " array([0.627163], dtype=float32),\n",
       " array([0.6271672], dtype=float32),\n",
       " array([0.62717074], dtype=float32),\n",
       " array([0.6271737], dtype=float32),\n",
       " array([0.6271759], dtype=float32),\n",
       " array([0.62717754], dtype=float32),\n",
       " array([0.6271788], dtype=float32),\n",
       " array([0.6271798], dtype=float32),\n",
       " array([0.6271807], dtype=float32),\n",
       " array([0.6271816], dtype=float32),\n",
       " array([0.6271824], dtype=float32),\n",
       " array([0.62718326], dtype=float32),\n",
       " array([0.62718403], dtype=float32),\n",
       " array([0.6271848], dtype=float32),\n",
       " array([0.62718534], dtype=float32),\n",
       " array([0.62718594], dtype=float32),\n",
       " array([0.62718624], dtype=float32),\n",
       " array([0.6271865], dtype=float32),\n",
       " array([0.6271867], dtype=float32),\n",
       " array([0.627187], dtype=float32),\n",
       " array([0.6271872], dtype=float32),\n",
       " array([0.6271874], dtype=float32),\n",
       " array([0.6271876], dtype=float32),\n",
       " array([0.6271878], dtype=float32),\n",
       " array([0.6271879], dtype=float32),\n",
       " array([0.627188], dtype=float32),\n",
       " array([0.6271881], dtype=float32),\n",
       " array([0.6271882], dtype=float32),\n",
       " array([0.6271882], dtype=float32),\n",
       " array([0.62718827], dtype=float32),\n",
       " array([0.6271883], dtype=float32),\n",
       " array([0.6271884], dtype=float32),\n",
       " array([0.62718844], dtype=float32),\n",
       " array([0.62718844], dtype=float32),\n",
       " array([0.6271885], dtype=float32),\n",
       " array([0.6271885], dtype=float32),\n",
       " array([0.6271885], dtype=float32),\n",
       " array([0.6271885], dtype=float32),\n",
       " array([0.6271885], dtype=float32),\n",
       " array([0.6271885], dtype=float32),\n",
       " array([0.6271885], dtype=float32)]"
      ]
     },
     "execution_count": 63,
     "metadata": {},
     "output_type": "execute_result"
    }
   ],
   "source": [
    "lstm_predictions_scaled"
   ]
  },
  {
   "cell_type": "code",
   "execution_count": 64,
   "metadata": {},
   "outputs": [
    {
     "data": {
      "text/plain": [
       "array([[71.59801898],\n",
       "       [71.58467054],\n",
       "       [71.58056498],\n",
       "       [71.57020926],\n",
       "       [71.56503859],\n",
       "       [71.57409186],\n",
       "       [71.57483621],\n",
       "       [71.58459377],\n",
       "       [71.59634371],\n",
       "       [71.59069071],\n",
       "       [71.5986762 ],\n",
       "       [71.60688634],\n",
       "       [71.60614266],\n",
       "       [71.60567403],\n",
       "       [71.60513062],\n",
       "       [71.60483723],\n",
       "       [71.6049417 ],\n",
       "       [71.60566568],\n",
       "       [71.60666137],\n",
       "       [71.60758429],\n",
       "       [71.60847249],\n",
       "       [71.60920014],\n",
       "       [71.6099999 ],\n",
       "       [71.61054397],\n",
       "       [71.61073489],\n",
       "       [71.61081567],\n",
       "       [71.61085773],\n",
       "       [71.61091447],\n",
       "       [71.61101027],\n",
       "       [71.61114345],\n",
       "       [71.61129365],\n",
       "       [71.61144285],\n",
       "       [71.61158738],\n",
       "       [71.61171622],\n",
       "       [71.6118207 ],\n",
       "       [71.6118928 ],\n",
       "       [71.61193819],\n",
       "       [71.61196723],\n",
       "       [71.61199026],\n",
       "       [71.61201196],\n",
       "       [71.61203566],\n",
       "       [71.61206102],\n",
       "       [71.61208773],\n",
       "       [71.61211276],\n",
       "       [71.61213646],\n",
       "       [71.61215615],\n",
       "       [71.61217284],\n",
       "       [71.61218519],\n",
       "       [71.6121942 ],\n",
       "       [71.61220121],\n",
       "       [71.61220689],\n",
       "       [71.61221189],\n",
       "       [71.6122169 ],\n",
       "       [71.61222157],\n",
       "       [71.61222625],\n",
       "       [71.61223059],\n",
       "       [71.61223493],\n",
       "       [71.61223793],\n",
       "       [71.61224127],\n",
       "       [71.61224294],\n",
       "       [71.61224427],\n",
       "       [71.61224561],\n",
       "       [71.61224728],\n",
       "       [71.61224828],\n",
       "       [71.61224928],\n",
       "       [71.61225061],\n",
       "       [71.61225162],\n",
       "       [71.61225228],\n",
       "       [71.61225295],\n",
       "       [71.61225328],\n",
       "       [71.61225395],\n",
       "       [71.61225395],\n",
       "       [71.61225429],\n",
       "       [71.61225462],\n",
       "       [71.61225495],\n",
       "       [71.61225529],\n",
       "       [71.61225529],\n",
       "       [71.61225562],\n",
       "       [71.61225562],\n",
       "       [71.61225562],\n",
       "       [71.61225562],\n",
       "       [71.61225562],\n",
       "       [71.61225562],\n",
       "       [71.61225562]])"
      ]
     },
     "execution_count": 64,
     "metadata": {},
     "output_type": "execute_result"
    }
   ],
   "source": [
    "lstm_predictions = scaler.inverse_transform(lstm_predictions_scaled)\n",
    "lstm_predictions"
   ]
  },
  {
   "cell_type": "code",
   "execution_count": 65,
   "metadata": {},
   "outputs": [
    {
     "name": "stderr",
     "output_type": "stream",
     "text": [
      "C:\\ProgramData\\Anaconda3\\lib\\site-packages\\ipykernel_launcher.py:1: SettingWithCopyWarning: \n",
      "A value is trying to be set on a copy of a slice from a DataFrame.\n",
      "Try using .loc[row_indexer,col_indexer] = value instead\n",
      "\n",
      "See the caveats in the documentation: http://pandas.pydata.org/pandas-docs/stable/indexing.html#indexing-view-versus-copy\n",
      "  \"\"\"Entry point for launching an IPython kernel.\n"
     ]
    },
    {
     "data": {
      "text/html": [
       "<div>\n",
       "<style scoped>\n",
       "    .dataframe tbody tr th:only-of-type {\n",
       "        vertical-align: middle;\n",
       "    }\n",
       "\n",
       "    .dataframe tbody tr th {\n",
       "        vertical-align: top;\n",
       "    }\n",
       "\n",
       "    .dataframe thead th {\n",
       "        text-align: right;\n",
       "    }\n",
       "</style>\n",
       "<table border=\"1\" class=\"dataframe\">\n",
       "  <thead>\n",
       "    <tr style=\"text-align: right;\">\n",
       "      <th></th>\n",
       "      <th>Temperature</th>\n",
       "      <th>LSTM_Predictions</th>\n",
       "    </tr>\n",
       "    <tr>\n",
       "      <th>Date (new)</th>\n",
       "      <th></th>\n",
       "      <th></th>\n",
       "    </tr>\n",
       "  </thead>\n",
       "  <tbody>\n",
       "    <tr>\n",
       "      <th>2020-01-27 01:49:00</th>\n",
       "      <td>71.9</td>\n",
       "      <td>71.598019</td>\n",
       "    </tr>\n",
       "    <tr>\n",
       "      <th>2020-01-27 03:49:00</th>\n",
       "      <td>71.4</td>\n",
       "      <td>71.584671</td>\n",
       "    </tr>\n",
       "    <tr>\n",
       "      <th>2020-01-27 05:49:00</th>\n",
       "      <td>71.7</td>\n",
       "      <td>71.580565</td>\n",
       "    </tr>\n",
       "    <tr>\n",
       "      <th>2020-01-27 07:49:00</th>\n",
       "      <td>72.1</td>\n",
       "      <td>71.570209</td>\n",
       "    </tr>\n",
       "    <tr>\n",
       "      <th>2020-01-27 09:49:00</th>\n",
       "      <td>72.0</td>\n",
       "      <td>71.565039</td>\n",
       "    </tr>\n",
       "    <tr>\n",
       "      <th>2020-01-27 11:49:00</th>\n",
       "      <td>72.9</td>\n",
       "      <td>71.574092</td>\n",
       "    </tr>\n",
       "    <tr>\n",
       "      <th>2020-01-27 13:49:00</th>\n",
       "      <td>73.2</td>\n",
       "      <td>71.574836</td>\n",
       "    </tr>\n",
       "    <tr>\n",
       "      <th>2020-01-27 15:49:00</th>\n",
       "      <td>70.9</td>\n",
       "      <td>71.584594</td>\n",
       "    </tr>\n",
       "    <tr>\n",
       "      <th>2020-01-27 17:49:00</th>\n",
       "      <td>70.4</td>\n",
       "      <td>71.596344</td>\n",
       "    </tr>\n",
       "    <tr>\n",
       "      <th>2020-01-27 19:49:00</th>\n",
       "      <td>71.5</td>\n",
       "      <td>71.590691</td>\n",
       "    </tr>\n",
       "    <tr>\n",
       "      <th>2020-01-27 21:49:00</th>\n",
       "      <td>72.5</td>\n",
       "      <td>71.598676</td>\n",
       "    </tr>\n",
       "    <tr>\n",
       "      <th>2020-01-27 23:49:00</th>\n",
       "      <td>71.9</td>\n",
       "      <td>71.606886</td>\n",
       "    </tr>\n",
       "    <tr>\n",
       "      <th>2020-01-28 01:49:00</th>\n",
       "      <td>71.9</td>\n",
       "      <td>71.606143</td>\n",
       "    </tr>\n",
       "    <tr>\n",
       "      <th>2020-01-28 03:49:00</th>\n",
       "      <td>72.2</td>\n",
       "      <td>71.605674</td>\n",
       "    </tr>\n",
       "    <tr>\n",
       "      <th>2020-01-28 05:49:00</th>\n",
       "      <td>72.3</td>\n",
       "      <td>71.605131</td>\n",
       "    </tr>\n",
       "    <tr>\n",
       "      <th>2020-01-28 07:49:00</th>\n",
       "      <td>72.8</td>\n",
       "      <td>71.604837</td>\n",
       "    </tr>\n",
       "    <tr>\n",
       "      <th>2020-01-28 09:49:00</th>\n",
       "      <td>72.4</td>\n",
       "      <td>71.604942</td>\n",
       "    </tr>\n",
       "    <tr>\n",
       "      <th>2020-01-28 11:49:00</th>\n",
       "      <td>73.2</td>\n",
       "      <td>71.605666</td>\n",
       "    </tr>\n",
       "    <tr>\n",
       "      <th>2020-01-28 13:49:00</th>\n",
       "      <td>72.8</td>\n",
       "      <td>71.606661</td>\n",
       "    </tr>\n",
       "    <tr>\n",
       "      <th>2020-01-28 15:49:00</th>\n",
       "      <td>74.0</td>\n",
       "      <td>71.607584</td>\n",
       "    </tr>\n",
       "    <tr>\n",
       "      <th>2020-01-28 17:49:00</th>\n",
       "      <td>71.6</td>\n",
       "      <td>71.608472</td>\n",
       "    </tr>\n",
       "    <tr>\n",
       "      <th>2020-01-28 19:49:00</th>\n",
       "      <td>71.0</td>\n",
       "      <td>71.609200</td>\n",
       "    </tr>\n",
       "    <tr>\n",
       "      <th>2020-01-28 21:49:00</th>\n",
       "      <td>72.3</td>\n",
       "      <td>71.610000</td>\n",
       "    </tr>\n",
       "    <tr>\n",
       "      <th>2020-01-28 23:49:00</th>\n",
       "      <td>72.8</td>\n",
       "      <td>71.610544</td>\n",
       "    </tr>\n",
       "    <tr>\n",
       "      <th>2020-01-29 01:49:00</th>\n",
       "      <td>72.9</td>\n",
       "      <td>71.610735</td>\n",
       "    </tr>\n",
       "    <tr>\n",
       "      <th>2020-01-29 03:49:00</th>\n",
       "      <td>72.3</td>\n",
       "      <td>71.610816</td>\n",
       "    </tr>\n",
       "    <tr>\n",
       "      <th>2020-01-29 05:49:00</th>\n",
       "      <td>72.5</td>\n",
       "      <td>71.610858</td>\n",
       "    </tr>\n",
       "    <tr>\n",
       "      <th>2020-01-29 07:49:00</th>\n",
       "      <td>72.8</td>\n",
       "      <td>71.610914</td>\n",
       "    </tr>\n",
       "    <tr>\n",
       "      <th>2020-01-29 09:49:00</th>\n",
       "      <td>73.6</td>\n",
       "      <td>71.611010</td>\n",
       "    </tr>\n",
       "    <tr>\n",
       "      <th>2020-01-29 11:49:00</th>\n",
       "      <td>73.5</td>\n",
       "      <td>71.611143</td>\n",
       "    </tr>\n",
       "    <tr>\n",
       "      <th>...</th>\n",
       "      <td>...</td>\n",
       "      <td>...</td>\n",
       "    </tr>\n",
       "    <tr>\n",
       "      <th>2020-01-31 13:49:00</th>\n",
       "      <td>74.2</td>\n",
       "      <td>71.612226</td>\n",
       "    </tr>\n",
       "    <tr>\n",
       "      <th>2020-01-31 15:49:00</th>\n",
       "      <td>73.9</td>\n",
       "      <td>71.612231</td>\n",
       "    </tr>\n",
       "    <tr>\n",
       "      <th>2020-01-31 17:49:00</th>\n",
       "      <td>73.8</td>\n",
       "      <td>71.612235</td>\n",
       "    </tr>\n",
       "    <tr>\n",
       "      <th>2020-01-31 19:49:00</th>\n",
       "      <td>73.3</td>\n",
       "      <td>71.612238</td>\n",
       "    </tr>\n",
       "    <tr>\n",
       "      <th>2020-01-31 21:49:00</th>\n",
       "      <td>72.7</td>\n",
       "      <td>71.612241</td>\n",
       "    </tr>\n",
       "    <tr>\n",
       "      <th>2020-01-31 23:49:00</th>\n",
       "      <td>72.8</td>\n",
       "      <td>71.612243</td>\n",
       "    </tr>\n",
       "    <tr>\n",
       "      <th>2020-02-01 01:49:00</th>\n",
       "      <td>73.2</td>\n",
       "      <td>71.612244</td>\n",
       "    </tr>\n",
       "    <tr>\n",
       "      <th>2020-02-01 03:49:00</th>\n",
       "      <td>72.3</td>\n",
       "      <td>71.612246</td>\n",
       "    </tr>\n",
       "    <tr>\n",
       "      <th>2020-02-01 05:49:00</th>\n",
       "      <td>72.3</td>\n",
       "      <td>71.612247</td>\n",
       "    </tr>\n",
       "    <tr>\n",
       "      <th>2020-02-01 07:49:00</th>\n",
       "      <td>72.6</td>\n",
       "      <td>71.612248</td>\n",
       "    </tr>\n",
       "    <tr>\n",
       "      <th>2020-02-01 09:49:00</th>\n",
       "      <td>73.0</td>\n",
       "      <td>71.612249</td>\n",
       "    </tr>\n",
       "    <tr>\n",
       "      <th>2020-02-01 11:49:00</th>\n",
       "      <td>72.1</td>\n",
       "      <td>71.612251</td>\n",
       "    </tr>\n",
       "    <tr>\n",
       "      <th>2020-02-01 13:49:00</th>\n",
       "      <td>70.9</td>\n",
       "      <td>71.612252</td>\n",
       "    </tr>\n",
       "    <tr>\n",
       "      <th>2020-02-01 15:49:00</th>\n",
       "      <td>71.2</td>\n",
       "      <td>71.612252</td>\n",
       "    </tr>\n",
       "    <tr>\n",
       "      <th>2020-02-01 17:49:00</th>\n",
       "      <td>70.6</td>\n",
       "      <td>71.612253</td>\n",
       "    </tr>\n",
       "    <tr>\n",
       "      <th>2020-02-01 19:49:00</th>\n",
       "      <td>71.3</td>\n",
       "      <td>71.612253</td>\n",
       "    </tr>\n",
       "    <tr>\n",
       "      <th>2020-02-01 21:49:00</th>\n",
       "      <td>71.7</td>\n",
       "      <td>71.612254</td>\n",
       "    </tr>\n",
       "    <tr>\n",
       "      <th>2020-02-01 23:49:00</th>\n",
       "      <td>72.2</td>\n",
       "      <td>71.612254</td>\n",
       "    </tr>\n",
       "    <tr>\n",
       "      <th>2020-02-02 01:49:00</th>\n",
       "      <td>71.6</td>\n",
       "      <td>71.612254</td>\n",
       "    </tr>\n",
       "    <tr>\n",
       "      <th>2020-02-02 03:49:00</th>\n",
       "      <td>71.7</td>\n",
       "      <td>71.612255</td>\n",
       "    </tr>\n",
       "    <tr>\n",
       "      <th>2020-02-02 05:49:00</th>\n",
       "      <td>71.9</td>\n",
       "      <td>71.612255</td>\n",
       "    </tr>\n",
       "    <tr>\n",
       "      <th>2020-02-02 07:49:00</th>\n",
       "      <td>71.4</td>\n",
       "      <td>71.612255</td>\n",
       "    </tr>\n",
       "    <tr>\n",
       "      <th>2020-02-02 09:49:00</th>\n",
       "      <td>71.4</td>\n",
       "      <td>71.612255</td>\n",
       "    </tr>\n",
       "    <tr>\n",
       "      <th>2020-02-02 11:49:00</th>\n",
       "      <td>71.6</td>\n",
       "      <td>71.612256</td>\n",
       "    </tr>\n",
       "    <tr>\n",
       "      <th>2020-02-02 13:49:00</th>\n",
       "      <td>70.5</td>\n",
       "      <td>71.612256</td>\n",
       "    </tr>\n",
       "    <tr>\n",
       "      <th>2020-02-02 15:49:00</th>\n",
       "      <td>69.8</td>\n",
       "      <td>71.612256</td>\n",
       "    </tr>\n",
       "    <tr>\n",
       "      <th>2020-02-02 17:49:00</th>\n",
       "      <td>70.5</td>\n",
       "      <td>71.612256</td>\n",
       "    </tr>\n",
       "    <tr>\n",
       "      <th>2020-02-02 19:49:00</th>\n",
       "      <td>70.8</td>\n",
       "      <td>71.612256</td>\n",
       "    </tr>\n",
       "    <tr>\n",
       "      <th>2020-02-02 21:49:00</th>\n",
       "      <td>70.1</td>\n",
       "      <td>71.612256</td>\n",
       "    </tr>\n",
       "    <tr>\n",
       "      <th>2020-02-02 23:49:00</th>\n",
       "      <td>70.8</td>\n",
       "      <td>71.612256</td>\n",
       "    </tr>\n",
       "  </tbody>\n",
       "</table>\n",
       "<p>84 rows × 2 columns</p>\n",
       "</div>"
      ],
      "text/plain": [
       "                     Temperature  LSTM_Predictions\n",
       "Date (new)                                        \n",
       "2020-01-27 01:49:00         71.9         71.598019\n",
       "2020-01-27 03:49:00         71.4         71.584671\n",
       "2020-01-27 05:49:00         71.7         71.580565\n",
       "2020-01-27 07:49:00         72.1         71.570209\n",
       "2020-01-27 09:49:00         72.0         71.565039\n",
       "2020-01-27 11:49:00         72.9         71.574092\n",
       "2020-01-27 13:49:00         73.2         71.574836\n",
       "2020-01-27 15:49:00         70.9         71.584594\n",
       "2020-01-27 17:49:00         70.4         71.596344\n",
       "2020-01-27 19:49:00         71.5         71.590691\n",
       "2020-01-27 21:49:00         72.5         71.598676\n",
       "2020-01-27 23:49:00         71.9         71.606886\n",
       "2020-01-28 01:49:00         71.9         71.606143\n",
       "2020-01-28 03:49:00         72.2         71.605674\n",
       "2020-01-28 05:49:00         72.3         71.605131\n",
       "2020-01-28 07:49:00         72.8         71.604837\n",
       "2020-01-28 09:49:00         72.4         71.604942\n",
       "2020-01-28 11:49:00         73.2         71.605666\n",
       "2020-01-28 13:49:00         72.8         71.606661\n",
       "2020-01-28 15:49:00         74.0         71.607584\n",
       "2020-01-28 17:49:00         71.6         71.608472\n",
       "2020-01-28 19:49:00         71.0         71.609200\n",
       "2020-01-28 21:49:00         72.3         71.610000\n",
       "2020-01-28 23:49:00         72.8         71.610544\n",
       "2020-01-29 01:49:00         72.9         71.610735\n",
       "2020-01-29 03:49:00         72.3         71.610816\n",
       "2020-01-29 05:49:00         72.5         71.610858\n",
       "2020-01-29 07:49:00         72.8         71.610914\n",
       "2020-01-29 09:49:00         73.6         71.611010\n",
       "2020-01-29 11:49:00         73.5         71.611143\n",
       "...                          ...               ...\n",
       "2020-01-31 13:49:00         74.2         71.612226\n",
       "2020-01-31 15:49:00         73.9         71.612231\n",
       "2020-01-31 17:49:00         73.8         71.612235\n",
       "2020-01-31 19:49:00         73.3         71.612238\n",
       "2020-01-31 21:49:00         72.7         71.612241\n",
       "2020-01-31 23:49:00         72.8         71.612243\n",
       "2020-02-01 01:49:00         73.2         71.612244\n",
       "2020-02-01 03:49:00         72.3         71.612246\n",
       "2020-02-01 05:49:00         72.3         71.612247\n",
       "2020-02-01 07:49:00         72.6         71.612248\n",
       "2020-02-01 09:49:00         73.0         71.612249\n",
       "2020-02-01 11:49:00         72.1         71.612251\n",
       "2020-02-01 13:49:00         70.9         71.612252\n",
       "2020-02-01 15:49:00         71.2         71.612252\n",
       "2020-02-01 17:49:00         70.6         71.612253\n",
       "2020-02-01 19:49:00         71.3         71.612253\n",
       "2020-02-01 21:49:00         71.7         71.612254\n",
       "2020-02-01 23:49:00         72.2         71.612254\n",
       "2020-02-02 01:49:00         71.6         71.612254\n",
       "2020-02-02 03:49:00         71.7         71.612255\n",
       "2020-02-02 05:49:00         71.9         71.612255\n",
       "2020-02-02 07:49:00         71.4         71.612255\n",
       "2020-02-02 09:49:00         71.4         71.612255\n",
       "2020-02-02 11:49:00         71.6         71.612256\n",
       "2020-02-02 13:49:00         70.5         71.612256\n",
       "2020-02-02 15:49:00         69.8         71.612256\n",
       "2020-02-02 17:49:00         70.5         71.612256\n",
       "2020-02-02 19:49:00         70.8         71.612256\n",
       "2020-02-02 21:49:00         70.1         71.612256\n",
       "2020-02-02 23:49:00         70.8         71.612256\n",
       "\n",
       "[84 rows x 2 columns]"
      ]
     },
     "execution_count": 65,
     "metadata": {},
     "output_type": "execute_result"
    }
   ],
   "source": [
    "ts_test['LSTM_Predictions'] = lstm_predictions\n",
    "ts_test"
   ]
  },
  {
   "cell_type": "code",
   "execution_count": 66,
   "metadata": {},
   "outputs": [
    {
     "data": {
      "text/plain": [
       "<matplotlib.axes._subplots.AxesSubplot at 0x1ac1de7e7b8>"
      ]
     },
     "execution_count": 66,
     "metadata": {},
     "output_type": "execute_result"
    },
    {
     "data": {
      "image/png": "[encoded data removed]",
      "text/plain": [
       "<Figure size 1152x360 with 1 Axes>"
      ]
     },
     "metadata": {
      "needs_background": "light"
     },
     "output_type": "display_data"
    }
   ],
   "source": [
    "ts_test['Temperature'].plot(figsize = (16,5), legend=True)\n",
    "ts_test['LSTM_Predictions'].plot(legend = True)"
   ]
  }
 ],
 "metadata": {
  "kernelspec": {
   "display_name": "Python 3",
   "language": "python",
   "name": "python3"
  },
  "language_info": {
   "codemirror_mode": {
    "name": "ipython",
    "version": 3
   },
   "file_extension": ".py",
   "mimetype": "text/x-python",
   "name": "python",
   "nbconvert_exporter": "python",
   "pygments_lexer": "ipython3",
   "version": "3.7.3"
  }
 },
 "nbformat": 4,
 "nbformat_minor": 2
}
