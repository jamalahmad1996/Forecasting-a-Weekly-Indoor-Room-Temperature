{
 "cells": [
  {
   "cell_type": "code",
   "execution_count": 67,
   "metadata": {},
   "outputs": [],
   "source": [
    "from math import sqrt\n",
    "from numpy import concatenate\n",
    "from matplotlib import pyplot\n",
    "import matplotlib.pyplot as plt\n",
    "import pandas as pd\n",
    "import numpy as np\n",
    "from pandas import read_csv\n",
    "from pandas import DataFrame\n",
    "from pandas import concat\n",
    "from sklearn.preprocessing import MinMaxScaler\n",
    "from sklearn.preprocessing import LabelEncoder\n",
    "from sklearn.metrics import mean_squared_error\n",
    "from keras.models import Sequential\n",
    "from keras.layers import Dense\n",
    "from keras.layers import LSTM"
   ]
  },
  {
   "cell_type": "code",
   "execution_count": 26,
   "metadata": {},
   "outputs": [],
   "source": [
    "df=pd.read_excel(\"276A_Temp.xlsx\")"
   ]
  },
  {
   "cell_type": "code",
   "execution_count": 27,
   "metadata": {},
   "outputs": [
    {
     "data": {
      "text/html": [
       "<div>\n",
       "<style scoped>\n",
       "    .dataframe tbody tr th:only-of-type {\n",
       "        vertical-align: middle;\n",
       "    }\n",
       "\n",
       "    .dataframe tbody tr th {\n",
       "        vertical-align: top;\n",
       "    }\n",
       "\n",
       "    .dataframe thead th {\n",
       "        text-align: right;\n",
       "    }\n",
       "</style>\n",
       "<table border=\"1\" class=\"dataframe\">\n",
       "  <thead>\n",
       "    <tr style=\"text-align: right;\">\n",
       "      <th></th>\n",
       "      <th>Date</th>\n",
       "      <th>Temperature</th>\n",
       "      <th>Humidity</th>\n",
       "      <th>Outside Temperature</th>\n",
       "      <th>Previous Date</th>\n",
       "      <th>Temperature on Previous day</th>\n",
       "      <th>2 days before Date</th>\n",
       "      <th>Temperature 2 days before</th>\n",
       "    </tr>\n",
       "  </thead>\n",
       "  <tbody>\n",
       "    <tr>\n",
       "      <th>0</th>\n",
       "      <td>2020-01-15 01:44:00</td>\n",
       "      <td>71.5</td>\n",
       "      <td>59.25</td>\n",
       "      <td>68</td>\n",
       "      <td>2020-01-14 01:44:00</td>\n",
       "      <td>71.0</td>\n",
       "      <td>2020-01-13 01:44:00</td>\n",
       "      <td>72.7</td>\n",
       "    </tr>\n",
       "    <tr>\n",
       "      <th>1</th>\n",
       "      <td>2020-01-15 03:44:00</td>\n",
       "      <td>71.8</td>\n",
       "      <td>59.25</td>\n",
       "      <td>66</td>\n",
       "      <td>2020-01-14 03:44:00</td>\n",
       "      <td>71.4</td>\n",
       "      <td>2020-01-13 03:44:00</td>\n",
       "      <td>72.8</td>\n",
       "    </tr>\n",
       "    <tr>\n",
       "      <th>2</th>\n",
       "      <td>2020-01-15 05:44:00</td>\n",
       "      <td>72.1</td>\n",
       "      <td>59.45</td>\n",
       "      <td>68</td>\n",
       "      <td>2020-01-14 05:44:00</td>\n",
       "      <td>71.6</td>\n",
       "      <td>2020-01-13 05:44:00</td>\n",
       "      <td>72.9</td>\n",
       "    </tr>\n",
       "    <tr>\n",
       "      <th>3</th>\n",
       "      <td>2020-01-15 07:44:00</td>\n",
       "      <td>70.7</td>\n",
       "      <td>61.04</td>\n",
       "      <td>72</td>\n",
       "      <td>2020-01-14 07:44:00</td>\n",
       "      <td>70.3</td>\n",
       "      <td>2020-01-13 07:44:00</td>\n",
       "      <td>71.8</td>\n",
       "    </tr>\n",
       "    <tr>\n",
       "      <th>4</th>\n",
       "      <td>2020-01-15 09:44:00</td>\n",
       "      <td>70.9</td>\n",
       "      <td>60.22</td>\n",
       "      <td>75</td>\n",
       "      <td>2020-01-14 09:44:00</td>\n",
       "      <td>70.4</td>\n",
       "      <td>2020-01-13 09:44:00</td>\n",
       "      <td>71.2</td>\n",
       "    </tr>\n",
       "  </tbody>\n",
       "</table>\n",
       "</div>"
      ],
      "text/plain": [
       "                 Date  Temperature  Humidity  Outside Temperature  \\\n",
       "0 2020-01-15 01:44:00         71.5     59.25                   68   \n",
       "1 2020-01-15 03:44:00         71.8     59.25                   66   \n",
       "2 2020-01-15 05:44:00         72.1     59.45                   68   \n",
       "3 2020-01-15 07:44:00         70.7     61.04                   72   \n",
       "4 2020-01-15 09:44:00         70.9     60.22                   75   \n",
       "\n",
       "        Previous Date  Temperature on Previous day  2 days before Date  \\\n",
       "0 2020-01-14 01:44:00                         71.0 2020-01-13 01:44:00   \n",
       "1 2020-01-14 03:44:00                         71.4 2020-01-13 03:44:00   \n",
       "2 2020-01-14 05:44:00                         71.6 2020-01-13 05:44:00   \n",
       "3 2020-01-14 07:44:00                         70.3 2020-01-13 07:44:00   \n",
       "4 2020-01-14 09:44:00                         70.4 2020-01-13 09:44:00   \n",
       "\n",
       "   Temperature 2 days before  \n",
       "0                       72.7  \n",
       "1                       72.8  \n",
       "2                       72.9  \n",
       "3                       71.8  \n",
       "4                       71.2  "
      ]
     },
     "execution_count": 27,
     "metadata": {},
     "output_type": "execute_result"
    }
   ],
   "source": [
    "df.head()"
   ]
  },
  {
   "cell_type": "code",
   "execution_count": 28,
   "metadata": {},
   "outputs": [
    {
     "name": "stdout",
     "output_type": "stream",
     "text": [
      "<class 'pandas.core.frame.DataFrame'>\n",
      "RangeIndex: 384 entries, 0 to 383\n",
      "Data columns (total 8 columns):\n",
      "Date                           384 non-null datetime64[ns]\n",
      "Temperature                    384 non-null float64\n",
      "Humidity                       384 non-null float64\n",
      "Outside Temperature            384 non-null int64\n",
      "Previous Date                  384 non-null datetime64[ns]\n",
      "Temperature on Previous day    384 non-null float64\n",
      "2 days before Date             384 non-null datetime64[ns]\n",
      "Temperature 2 days before      384 non-null float64\n",
      "dtypes: datetime64[ns](3), float64(4), int64(1)\n",
      "memory usage: 24.1 KB\n"
     ]
    }
   ],
   "source": [
    "df.info()"
   ]
  },
  {
   "cell_type": "code",
   "execution_count": 29,
   "metadata": {},
   "outputs": [],
   "source": [
    "df['Date'] = pd.to_datetime(df['Date'])\n",
    "df = df.set_index('Date')"
   ]
  },
  {
   "cell_type": "code",
   "execution_count": 30,
   "metadata": {},
   "outputs": [
    {
     "data": {
      "text/html": [
       "<div>\n",
       "<style scoped>\n",
       "    .dataframe tbody tr th:only-of-type {\n",
       "        vertical-align: middle;\n",
       "    }\n",
       "\n",
       "    .dataframe tbody tr th {\n",
       "        vertical-align: top;\n",
       "    }\n",
       "\n",
       "    .dataframe thead th {\n",
       "        text-align: right;\n",
       "    }\n",
       "</style>\n",
       "<table border=\"1\" class=\"dataframe\">\n",
       "  <thead>\n",
       "    <tr style=\"text-align: right;\">\n",
       "      <th></th>\n",
       "      <th>Temperature</th>\n",
       "      <th>Humidity</th>\n",
       "      <th>Outside Temperature</th>\n",
       "      <th>Previous Date</th>\n",
       "      <th>Temperature on Previous day</th>\n",
       "      <th>2 days before Date</th>\n",
       "      <th>Temperature 2 days before</th>\n",
       "    </tr>\n",
       "    <tr>\n",
       "      <th>Date</th>\n",
       "      <th></th>\n",
       "      <th></th>\n",
       "      <th></th>\n",
       "      <th></th>\n",
       "      <th></th>\n",
       "      <th></th>\n",
       "      <th></th>\n",
       "    </tr>\n",
       "  </thead>\n",
       "  <tbody>\n",
       "    <tr>\n",
       "      <th>2020-01-15 01:44:00</th>\n",
       "      <td>71.5</td>\n",
       "      <td>59.25</td>\n",
       "      <td>68</td>\n",
       "      <td>2020-01-14 01:44:00</td>\n",
       "      <td>71.0</td>\n",
       "      <td>2020-01-13 01:44:00</td>\n",
       "      <td>72.7</td>\n",
       "    </tr>\n",
       "    <tr>\n",
       "      <th>2020-01-15 03:44:00</th>\n",
       "      <td>71.8</td>\n",
       "      <td>59.25</td>\n",
       "      <td>66</td>\n",
       "      <td>2020-01-14 03:44:00</td>\n",
       "      <td>71.4</td>\n",
       "      <td>2020-01-13 03:44:00</td>\n",
       "      <td>72.8</td>\n",
       "    </tr>\n",
       "    <tr>\n",
       "      <th>2020-01-15 05:44:00</th>\n",
       "      <td>72.1</td>\n",
       "      <td>59.45</td>\n",
       "      <td>68</td>\n",
       "      <td>2020-01-14 05:44:00</td>\n",
       "      <td>71.6</td>\n",
       "      <td>2020-01-13 05:44:00</td>\n",
       "      <td>72.9</td>\n",
       "    </tr>\n",
       "    <tr>\n",
       "      <th>2020-01-15 07:44:00</th>\n",
       "      <td>70.7</td>\n",
       "      <td>61.04</td>\n",
       "      <td>72</td>\n",
       "      <td>2020-01-14 07:44:00</td>\n",
       "      <td>70.3</td>\n",
       "      <td>2020-01-13 07:44:00</td>\n",
       "      <td>71.8</td>\n",
       "    </tr>\n",
       "    <tr>\n",
       "      <th>2020-01-15 09:44:00</th>\n",
       "      <td>70.9</td>\n",
       "      <td>60.22</td>\n",
       "      <td>75</td>\n",
       "      <td>2020-01-14 09:44:00</td>\n",
       "      <td>70.4</td>\n",
       "      <td>2020-01-13 09:44:00</td>\n",
       "      <td>71.2</td>\n",
       "    </tr>\n",
       "  </tbody>\n",
       "</table>\n",
       "</div>"
      ],
      "text/plain": [
       "                     Temperature  Humidity  Outside Temperature  \\\n",
       "Date                                                              \n",
       "2020-01-15 01:44:00         71.5     59.25                   68   \n",
       "2020-01-15 03:44:00         71.8     59.25                   66   \n",
       "2020-01-15 05:44:00         72.1     59.45                   68   \n",
       "2020-01-15 07:44:00         70.7     61.04                   72   \n",
       "2020-01-15 09:44:00         70.9     60.22                   75   \n",
       "\n",
       "                          Previous Date  Temperature on Previous day  \\\n",
       "Date                                                                   \n",
       "2020-01-15 01:44:00 2020-01-14 01:44:00                         71.0   \n",
       "2020-01-15 03:44:00 2020-01-14 03:44:00                         71.4   \n",
       "2020-01-15 05:44:00 2020-01-14 05:44:00                         71.6   \n",
       "2020-01-15 07:44:00 2020-01-14 07:44:00                         70.3   \n",
       "2020-01-15 09:44:00 2020-01-14 09:44:00                         70.4   \n",
       "\n",
       "                     2 days before Date  Temperature 2 days before  \n",
       "Date                                                                \n",
       "2020-01-15 01:44:00 2020-01-13 01:44:00                       72.7  \n",
       "2020-01-15 03:44:00 2020-01-13 03:44:00                       72.8  \n",
       "2020-01-15 05:44:00 2020-01-13 05:44:00                       72.9  \n",
       "2020-01-15 07:44:00 2020-01-13 07:44:00                       71.8  \n",
       "2020-01-15 09:44:00 2020-01-13 09:44:00                       71.2  "
      ]
     },
     "execution_count": 30,
     "metadata": {},
     "output_type": "execute_result"
    }
   ],
   "source": [
    "df.head()"
   ]
  },
  {
   "cell_type": "code",
   "execution_count": 31,
   "metadata": {},
   "outputs": [],
   "source": [
    "df.dropna(inplace=True)"
   ]
  },
  {
   "cell_type": "code",
   "execution_count": 32,
   "metadata": {},
   "outputs": [
    {
     "data": {
      "text/html": [
       "<div>\n",
       "<style scoped>\n",
       "    .dataframe tbody tr th:only-of-type {\n",
       "        vertical-align: middle;\n",
       "    }\n",
       "\n",
       "    .dataframe tbody tr th {\n",
       "        vertical-align: top;\n",
       "    }\n",
       "\n",
       "    .dataframe thead th {\n",
       "        text-align: right;\n",
       "    }\n",
       "</style>\n",
       "<table border=\"1\" class=\"dataframe\">\n",
       "  <thead>\n",
       "    <tr style=\"text-align: right;\">\n",
       "      <th></th>\n",
       "      <th>Temperature</th>\n",
       "      <th>Humidity</th>\n",
       "      <th>Outside Temperature</th>\n",
       "      <th>Previous Date</th>\n",
       "      <th>Temperature on Previous day</th>\n",
       "      <th>2 days before Date</th>\n",
       "      <th>Temperature 2 days before</th>\n",
       "    </tr>\n",
       "    <tr>\n",
       "      <th>Date</th>\n",
       "      <th></th>\n",
       "      <th></th>\n",
       "      <th></th>\n",
       "      <th></th>\n",
       "      <th></th>\n",
       "      <th></th>\n",
       "      <th></th>\n",
       "    </tr>\n",
       "  </thead>\n",
       "  <tbody>\n",
       "    <tr>\n",
       "      <th>2020-01-17 17:44:00</th>\n",
       "      <td>70.0</td>\n",
       "      <td>58.52</td>\n",
       "      <td>68</td>\n",
       "      <td>2020-01-16 17:44:00</td>\n",
       "      <td>0.1</td>\n",
       "      <td>2020-01-15 17:44:00</td>\n",
       "      <td>71.2</td>\n",
       "    </tr>\n",
       "    <tr>\n",
       "      <th>2020-01-20 07:44:00</th>\n",
       "      <td>70.9</td>\n",
       "      <td>36.18</td>\n",
       "      <td>47</td>\n",
       "      <td>2020-01-19 07:44:00</td>\n",
       "      <td>0.1</td>\n",
       "      <td>2020-01-18 07:44:00</td>\n",
       "      <td>72.6</td>\n",
       "    </tr>\n",
       "    <tr>\n",
       "      <th>2020-01-22 21:44:00</th>\n",
       "      <td>70.3</td>\n",
       "      <td>39.07</td>\n",
       "      <td>48</td>\n",
       "      <td>2020-01-21 21:44:00</td>\n",
       "      <td>0.1</td>\n",
       "      <td>2020-01-20 21:44:00</td>\n",
       "      <td>69.5</td>\n",
       "    </tr>\n",
       "  </tbody>\n",
       "</table>\n",
       "</div>"
      ],
      "text/plain": [
       "                     Temperature  Humidity  Outside Temperature  \\\n",
       "Date                                                              \n",
       "2020-01-17 17:44:00         70.0     58.52                   68   \n",
       "2020-01-20 07:44:00         70.9     36.18                   47   \n",
       "2020-01-22 21:44:00         70.3     39.07                   48   \n",
       "\n",
       "                          Previous Date  Temperature on Previous day  \\\n",
       "Date                                                                   \n",
       "2020-01-17 17:44:00 2020-01-16 17:44:00                          0.1   \n",
       "2020-01-20 07:44:00 2020-01-19 07:44:00                          0.1   \n",
       "2020-01-22 21:44:00 2020-01-21 21:44:00                          0.1   \n",
       "\n",
       "                     2 days before Date  Temperature 2 days before  \n",
       "Date                                                                \n",
       "2020-01-17 17:44:00 2020-01-15 17:44:00                       71.2  \n",
       "2020-01-20 07:44:00 2020-01-18 07:44:00                       72.6  \n",
       "2020-01-22 21:44:00 2020-01-20 21:44:00                       69.5  "
      ]
     },
     "execution_count": 32,
     "metadata": {},
     "output_type": "execute_result"
    }
   ],
   "source": [
    "df[df['Temperature on Previous day']<30]"
   ]
  },
  {
   "cell_type": "code",
   "execution_count": 33,
   "metadata": {},
   "outputs": [],
   "source": [
    "df.loc['2020-01-20 07:44:00','Temperature on Previous day']=(df.loc['2020-01-20 05:44:00','Temperature on Previous day']+df.loc['2020-01-20 09:44:00','Temperature on Previous day'])/2"
   ]
  },
  {
   "cell_type": "code",
   "execution_count": 34,
   "metadata": {},
   "outputs": [],
   "source": [
    "df.loc['2020-01-17 17:44:00','Temperature on Previous day']=(df.loc['2020-01-17 15:44:00','Temperature on Previous day']+df.loc['2020-01-17 19:44:00','Temperature on Previous day'])/2"
   ]
  },
  {
   "cell_type": "code",
   "execution_count": 35,
   "metadata": {},
   "outputs": [],
   "source": [
    "df.loc['2020-01-22 21:44:00','Temperature on Previous day']=(df.loc['2020-01-22 19:44:00','Temperature on Previous day']+df.loc['2020-01-22 23:44:00','Temperature on Previous day'])/2"
   ]
  },
  {
   "cell_type": "code",
   "execution_count": 36,
   "metadata": {},
   "outputs": [
    {
     "data": {
      "text/html": [
       "<div>\n",
       "<style scoped>\n",
       "    .dataframe tbody tr th:only-of-type {\n",
       "        vertical-align: middle;\n",
       "    }\n",
       "\n",
       "    .dataframe tbody tr th {\n",
       "        vertical-align: top;\n",
       "    }\n",
       "\n",
       "    .dataframe thead th {\n",
       "        text-align: right;\n",
       "    }\n",
       "</style>\n",
       "<table border=\"1\" class=\"dataframe\">\n",
       "  <thead>\n",
       "    <tr style=\"text-align: right;\">\n",
       "      <th></th>\n",
       "      <th>Temperature</th>\n",
       "      <th>Humidity</th>\n",
       "      <th>Outside Temperature</th>\n",
       "      <th>Previous Date</th>\n",
       "      <th>Temperature on Previous day</th>\n",
       "      <th>2 days before Date</th>\n",
       "      <th>Temperature 2 days before</th>\n",
       "    </tr>\n",
       "    <tr>\n",
       "      <th>Date</th>\n",
       "      <th></th>\n",
       "      <th></th>\n",
       "      <th></th>\n",
       "      <th></th>\n",
       "      <th></th>\n",
       "      <th></th>\n",
       "      <th></th>\n",
       "    </tr>\n",
       "  </thead>\n",
       "  <tbody>\n",
       "    <tr>\n",
       "      <th>2020-01-18 17:44:00</th>\n",
       "      <td>71.5</td>\n",
       "      <td>62.24</td>\n",
       "      <td>66</td>\n",
       "      <td>2020-01-17 17:44:00</td>\n",
       "      <td>70.0</td>\n",
       "      <td>2020-01-16 17:44:00</td>\n",
       "      <td>0.1</td>\n",
       "    </tr>\n",
       "    <tr>\n",
       "      <th>2020-01-21 07:44:00</th>\n",
       "      <td>69.5</td>\n",
       "      <td>33.95</td>\n",
       "      <td>42</td>\n",
       "      <td>2020-01-20 07:44:00</td>\n",
       "      <td>70.9</td>\n",
       "      <td>2020-01-19 07:44:00</td>\n",
       "      <td>0.1</td>\n",
       "    </tr>\n",
       "    <tr>\n",
       "      <th>2020-01-23 21:44:00</th>\n",
       "      <td>70.5</td>\n",
       "      <td>51.20</td>\n",
       "      <td>54</td>\n",
       "      <td>2020-01-22 21:44:00</td>\n",
       "      <td>70.3</td>\n",
       "      <td>2020-01-21 21:44:00</td>\n",
       "      <td>0.1</td>\n",
       "    </tr>\n",
       "  </tbody>\n",
       "</table>\n",
       "</div>"
      ],
      "text/plain": [
       "                     Temperature  Humidity  Outside Temperature  \\\n",
       "Date                                                              \n",
       "2020-01-18 17:44:00         71.5     62.24                   66   \n",
       "2020-01-21 07:44:00         69.5     33.95                   42   \n",
       "2020-01-23 21:44:00         70.5     51.20                   54   \n",
       "\n",
       "                          Previous Date  Temperature on Previous day  \\\n",
       "Date                                                                   \n",
       "2020-01-18 17:44:00 2020-01-17 17:44:00                         70.0   \n",
       "2020-01-21 07:44:00 2020-01-20 07:44:00                         70.9   \n",
       "2020-01-23 21:44:00 2020-01-22 21:44:00                         70.3   \n",
       "\n",
       "                     2 days before Date  Temperature 2 days before  \n",
       "Date                                                                \n",
       "2020-01-18 17:44:00 2020-01-16 17:44:00                        0.1  \n",
       "2020-01-21 07:44:00 2020-01-19 07:44:00                        0.1  \n",
       "2020-01-23 21:44:00 2020-01-21 21:44:00                        0.1  "
      ]
     },
     "execution_count": 36,
     "metadata": {},
     "output_type": "execute_result"
    }
   ],
   "source": [
    "df[df['Temperature 2 days before']<30]"
   ]
  },
  {
   "cell_type": "code",
   "execution_count": 37,
   "metadata": {},
   "outputs": [],
   "source": [
    "df.loc['2020-01-21 07:44:00','Temperature 2 days before']=(df.loc['2020-01-21 05:44:00','Temperature 2 days before']+df.loc['2020-01-21 09:44:00','Temperature 2 days before'])/2"
   ]
  },
  {
   "cell_type": "code",
   "execution_count": 38,
   "metadata": {},
   "outputs": [],
   "source": [
    "df.loc['2020-01-18 17:44:00','Temperature 2 days before']=(df.loc['2020-01-18 15:44:00','Temperature 2 days before']+df.loc['2020-01-18 19:44:00','Temperature 2 days before'])/2"
   ]
  },
  {
   "cell_type": "code",
   "execution_count": 39,
   "metadata": {},
   "outputs": [],
   "source": [
    "df.loc['2020-01-23 21:44:00','Temperature 2 days before']=(df.loc['2020-01-23 19:44:00','Temperature 2 days before']+df.loc['2020-01-23 23:44:00','Temperature 2 days before'])/2"
   ]
  },
  {
   "cell_type": "code",
   "execution_count": 40,
   "metadata": {},
   "outputs": [
    {
     "data": {
      "text/html": [
       "<div>\n",
       "<style scoped>\n",
       "    .dataframe tbody tr th:only-of-type {\n",
       "        vertical-align: middle;\n",
       "    }\n",
       "\n",
       "    .dataframe tbody tr th {\n",
       "        vertical-align: top;\n",
       "    }\n",
       "\n",
       "    .dataframe thead th {\n",
       "        text-align: right;\n",
       "    }\n",
       "</style>\n",
       "<table border=\"1\" class=\"dataframe\">\n",
       "  <thead>\n",
       "    <tr style=\"text-align: right;\">\n",
       "      <th></th>\n",
       "      <th>Temperature</th>\n",
       "      <th>Humidity</th>\n",
       "      <th>Outside Temperature</th>\n",
       "      <th>Previous Date</th>\n",
       "      <th>Temperature on Previous day</th>\n",
       "      <th>2 days before Date</th>\n",
       "      <th>Temperature 2 days before</th>\n",
       "    </tr>\n",
       "    <tr>\n",
       "      <th>Date</th>\n",
       "      <th></th>\n",
       "      <th></th>\n",
       "      <th></th>\n",
       "      <th></th>\n",
       "      <th></th>\n",
       "      <th></th>\n",
       "      <th></th>\n",
       "    </tr>\n",
       "  </thead>\n",
       "  <tbody>\n",
       "  </tbody>\n",
       "</table>\n",
       "</div>"
      ],
      "text/plain": [
       "Empty DataFrame\n",
       "Columns: [Temperature, Humidity, Outside Temperature, Previous Date, Temperature on Previous day, 2 days before Date, Temperature 2 days before]\n",
       "Index: []"
      ]
     },
     "execution_count": 40,
     "metadata": {},
     "output_type": "execute_result"
    }
   ],
   "source": [
    "df[df['Temperature 2 days before']<30]"
   ]
  },
  {
   "cell_type": "code",
   "execution_count": 41,
   "metadata": {},
   "outputs": [
    {
     "name": "stdout",
     "output_type": "stream",
     "text": [
      "<class 'pandas.core.frame.DataFrame'>\n",
      "DatetimeIndex: 384 entries, 2020-01-15 01:44:00 to 2020-02-15 23:44:00\n",
      "Data columns (total 7 columns):\n",
      "Temperature                    384 non-null float64\n",
      "Humidity                       384 non-null float64\n",
      "Outside Temperature            384 non-null int64\n",
      "Previous Date                  384 non-null datetime64[ns]\n",
      "Temperature on Previous day    384 non-null float64\n",
      "2 days before Date             384 non-null datetime64[ns]\n",
      "Temperature 2 days before      384 non-null float64\n",
      "dtypes: datetime64[ns](2), float64(4), int64(1)\n",
      "memory usage: 34.0 KB\n"
     ]
    }
   ],
   "source": [
    "df.info()"
   ]
  },
  {
   "cell_type": "code",
   "execution_count": 42,
   "metadata": {},
   "outputs": [
    {
     "data": {
      "text/html": [
       "<div>\n",
       "<style scoped>\n",
       "    .dataframe tbody tr th:only-of-type {\n",
       "        vertical-align: middle;\n",
       "    }\n",
       "\n",
       "    .dataframe tbody tr th {\n",
       "        vertical-align: top;\n",
       "    }\n",
       "\n",
       "    .dataframe thead th {\n",
       "        text-align: right;\n",
       "    }\n",
       "</style>\n",
       "<table border=\"1\" class=\"dataframe\">\n",
       "  <thead>\n",
       "    <tr style=\"text-align: right;\">\n",
       "      <th></th>\n",
       "      <th>Temperature</th>\n",
       "      <th>Humidity</th>\n",
       "      <th>Outside Temperature</th>\n",
       "      <th>Temperature on Previous day</th>\n",
       "      <th>Temperature 2 days before</th>\n",
       "    </tr>\n",
       "    <tr>\n",
       "      <th>Date</th>\n",
       "      <th></th>\n",
       "      <th></th>\n",
       "      <th></th>\n",
       "      <th></th>\n",
       "      <th></th>\n",
       "    </tr>\n",
       "  </thead>\n",
       "  <tbody>\n",
       "    <tr>\n",
       "      <th>2020-01-15 01:44:00</th>\n",
       "      <td>71.5</td>\n",
       "      <td>59.25</td>\n",
       "      <td>68</td>\n",
       "      <td>71.0</td>\n",
       "      <td>72.7</td>\n",
       "    </tr>\n",
       "    <tr>\n",
       "      <th>2020-01-15 03:44:00</th>\n",
       "      <td>71.8</td>\n",
       "      <td>59.25</td>\n",
       "      <td>66</td>\n",
       "      <td>71.4</td>\n",
       "      <td>72.8</td>\n",
       "    </tr>\n",
       "    <tr>\n",
       "      <th>2020-01-15 05:44:00</th>\n",
       "      <td>72.1</td>\n",
       "      <td>59.45</td>\n",
       "      <td>68</td>\n",
       "      <td>71.6</td>\n",
       "      <td>72.9</td>\n",
       "    </tr>\n",
       "    <tr>\n",
       "      <th>2020-01-15 07:44:00</th>\n",
       "      <td>70.7</td>\n",
       "      <td>61.04</td>\n",
       "      <td>72</td>\n",
       "      <td>70.3</td>\n",
       "      <td>71.8</td>\n",
       "    </tr>\n",
       "    <tr>\n",
       "      <th>2020-01-15 09:44:00</th>\n",
       "      <td>70.9</td>\n",
       "      <td>60.22</td>\n",
       "      <td>75</td>\n",
       "      <td>70.4</td>\n",
       "      <td>71.2</td>\n",
       "    </tr>\n",
       "  </tbody>\n",
       "</table>\n",
       "</div>"
      ],
      "text/plain": [
       "                     Temperature  Humidity  Outside Temperature  \\\n",
       "Date                                                              \n",
       "2020-01-15 01:44:00         71.5     59.25                   68   \n",
       "2020-01-15 03:44:00         71.8     59.25                   66   \n",
       "2020-01-15 05:44:00         72.1     59.45                   68   \n",
       "2020-01-15 07:44:00         70.7     61.04                   72   \n",
       "2020-01-15 09:44:00         70.9     60.22                   75   \n",
       "\n",
       "                     Temperature on Previous day  Temperature 2 days before  \n",
       "Date                                                                         \n",
       "2020-01-15 01:44:00                         71.0                       72.7  \n",
       "2020-01-15 03:44:00                         71.4                       72.8  \n",
       "2020-01-15 05:44:00                         71.6                       72.9  \n",
       "2020-01-15 07:44:00                         70.3                       71.8  \n",
       "2020-01-15 09:44:00                         70.4                       71.2  "
      ]
     },
     "execution_count": 42,
     "metadata": {},
     "output_type": "execute_result"
    }
   ],
   "source": [
    "ts=df.loc['1/15/2020':'2/15/2020',['Temperature','Humidity','Outside Temperature','Temperature on Previous day','Temperature 2 days before']]\n",
    "#ts=pd.concat([df.loc['2/03/2020':'2/07/2020'],df.loc['2/10/2020':'2/14/2020']])[['Temperature','Humidity','Outside Temperature','Temperature on Previous day','Temperature 2 days before']]\n",
    "ts=pd.DataFrame(ts)\n",
    "ts.head()"
   ]
  },
  {
   "cell_type": "code",
   "execution_count": 43,
   "metadata": {},
   "outputs": [
    {
     "name": "stderr",
     "output_type": "stream",
     "text": [
      "C:\\ProgramData\\Anaconda3\\lib\\site-packages\\pandas\\plotting\\_converter.py:129: FutureWarning: Using an implicitly registered datetime converter for a matplotlib plotting method. The converter was registered by pandas on import. Future versions of pandas will require you to explicitly register matplotlib converters.\n",
      "\n",
      "To register the converters:\n",
      "\t>>> from pandas.plotting import register_matplotlib_converters\n",
      "\t>>> register_matplotlib_converters()\n",
      "  warnings.warn(msg, FutureWarning)\n"
     ]
    },
    {
     "data": {
      "text/plain": [
       "[<matplotlib.lines.Line2D at 0x139505ddc50>]"
      ]
     },
     "execution_count": 43,
     "metadata": {},
     "output_type": "execute_result"
    },
    {
     "data": {
      "image/png": "[encoded data removed]",
      "text/plain": [
       "<Figure size 432x288 with 1 Axes>"
      ]
     },
     "metadata": {
      "needs_background": "light"
     },
     "output_type": "display_data"
    }
   ],
   "source": [
    "plt.plot(ts['Temperature'])"
   ]
  },
  {
   "cell_type": "code",
   "execution_count": 44,
   "metadata": {},
   "outputs": [
    {
     "name": "stdout",
     "output_type": "stream",
     "text": [
      "<class 'pandas.core.frame.DataFrame'>\n",
      "DatetimeIndex: 384 entries, 2020-01-15 01:44:00 to 2020-02-15 23:44:00\n",
      "Data columns (total 5 columns):\n",
      "Temperature                    384 non-null float64\n",
      "Humidity                       384 non-null float64\n",
      "Outside Temperature            384 non-null int64\n",
      "Temperature on Previous day    384 non-null float64\n",
      "Temperature 2 days before      384 non-null float64\n",
      "dtypes: float64(4), int64(1)\n",
      "memory usage: 18.0 KB\n"
     ]
    }
   ],
   "source": [
    "ts.info()"
   ]
  },
  {
   "cell_type": "code",
   "execution_count": 45,
   "metadata": {},
   "outputs": [],
   "source": [
    "values=ts.values"
   ]
  },
  {
   "cell_type": "code",
   "execution_count": 46,
   "metadata": {},
   "outputs": [],
   "source": [
    "scaler = MinMaxScaler(feature_range=(0, 1))\n",
    "scaled = scaler.fit_transform(values)"
   ]
  },
  {
   "cell_type": "code",
   "execution_count": 47,
   "metadata": {},
   "outputs": [],
   "source": [
    "# convert series to supervised learning\n",
    "def series_to_supervised(data, n_in=1, n_out=1, dropnan=True):\n",
    "\tn_vars = 1 if type(data) is list else data.shape[1]\n",
    "\tdf = DataFrame(data)\n",
    "\tcols, names = list(), list()\n",
    "\t# input sequence (t-n, ... t-1)\n",
    "\tfor i in range(n_in, 0, -1):\n",
    "\t\tcols.append(df.shift(i))\n",
    "\t\tnames += [('var%d(t-%d)' % (j+1, i)) for j in range(n_vars)]\n",
    "\t# forecast sequence (t, t+1, ... t+n)\n",
    "\tfor i in range(0, n_out):\n",
    "\t\tcols.append(df.shift(-i))\n",
    "\t\tif i == 0:\n",
    "\t\t\tnames += [('var%d(t)' % (j+1)) for j in range(n_vars)]\n",
    "\t\telse:\n",
    "\t\t\tnames += [('var%d(t+%d)' % (j+1, i)) for j in range(n_vars)]\n",
    "\t# put it all together\n",
    "\tagg = concat(cols, axis=1)\n",
    "\tagg.columns = names\n",
    "\t# drop rows with NaN values\n",
    "\tif dropnan:\n",
    "\t\tagg.dropna(inplace=True)\n",
    "\treturn agg"
   ]
  },
  {
   "cell_type": "code",
   "execution_count": 48,
   "metadata": {},
   "outputs": [],
   "source": [
    "reframed = series_to_supervised(scaled, 12, 1)"
   ]
  },
  {
   "cell_type": "code",
   "execution_count": 49,
   "metadata": {},
   "outputs": [
    {
     "data": {
      "text/html": [
       "<div>\n",
       "<style scoped>\n",
       "    .dataframe tbody tr th:only-of-type {\n",
       "        vertical-align: middle;\n",
       "    }\n",
       "\n",
       "    .dataframe tbody tr th {\n",
       "        vertical-align: top;\n",
       "    }\n",
       "\n",
       "    .dataframe thead th {\n",
       "        text-align: right;\n",
       "    }\n",
       "</style>\n",
       "<table border=\"1\" class=\"dataframe\">\n",
       "  <thead>\n",
       "    <tr style=\"text-align: right;\">\n",
       "      <th></th>\n",
       "      <th>var1(t-12)</th>\n",
       "      <th>var2(t-12)</th>\n",
       "      <th>var3(t-12)</th>\n",
       "      <th>var4(t-12)</th>\n",
       "      <th>var5(t-12)</th>\n",
       "      <th>var1(t-11)</th>\n",
       "      <th>var2(t-11)</th>\n",
       "      <th>var3(t-11)</th>\n",
       "      <th>var4(t-11)</th>\n",
       "      <th>var5(t-11)</th>\n",
       "      <th>...</th>\n",
       "      <th>var1(t-1)</th>\n",
       "      <th>var2(t-1)</th>\n",
       "      <th>var3(t-1)</th>\n",
       "      <th>var4(t-1)</th>\n",
       "      <th>var5(t-1)</th>\n",
       "      <th>var1(t)</th>\n",
       "      <th>var2(t)</th>\n",
       "      <th>var3(t)</th>\n",
       "      <th>var4(t)</th>\n",
       "      <th>var5(t)</th>\n",
       "    </tr>\n",
       "  </thead>\n",
       "  <tbody>\n",
       "    <tr>\n",
       "      <th>12</th>\n",
       "      <td>0.465517</td>\n",
       "      <td>0.870766</td>\n",
       "      <td>0.804348</td>\n",
       "      <td>0.379310</td>\n",
       "      <td>0.672414</td>\n",
       "      <td>0.517241</td>\n",
       "      <td>0.870766</td>\n",
       "      <td>0.760870</td>\n",
       "      <td>0.448276</td>\n",
       "      <td>0.689655</td>\n",
       "      <td>...</td>\n",
       "      <td>0.534483</td>\n",
       "      <td>0.824729</td>\n",
       "      <td>0.717391</td>\n",
       "      <td>0.396552</td>\n",
       "      <td>0.327586</td>\n",
       "      <td>0.586207</td>\n",
       "      <td>0.820783</td>\n",
       "      <td>0.717391</td>\n",
       "      <td>0.465517</td>\n",
       "      <td>0.379310</td>\n",
       "    </tr>\n",
       "    <tr>\n",
       "      <th>13</th>\n",
       "      <td>0.517241</td>\n",
       "      <td>0.870766</td>\n",
       "      <td>0.760870</td>\n",
       "      <td>0.448276</td>\n",
       "      <td>0.689655</td>\n",
       "      <td>0.568966</td>\n",
       "      <td>0.877343</td>\n",
       "      <td>0.804348</td>\n",
       "      <td>0.482759</td>\n",
       "      <td>0.706897</td>\n",
       "      <td>...</td>\n",
       "      <td>0.586207</td>\n",
       "      <td>0.820783</td>\n",
       "      <td>0.717391</td>\n",
       "      <td>0.465517</td>\n",
       "      <td>0.379310</td>\n",
       "      <td>0.655172</td>\n",
       "      <td>0.818481</td>\n",
       "      <td>0.760870</td>\n",
       "      <td>0.517241</td>\n",
       "      <td>0.448276</td>\n",
       "    </tr>\n",
       "    <tr>\n",
       "      <th>14</th>\n",
       "      <td>0.568966</td>\n",
       "      <td>0.877343</td>\n",
       "      <td>0.804348</td>\n",
       "      <td>0.482759</td>\n",
       "      <td>0.706897</td>\n",
       "      <td>0.327586</td>\n",
       "      <td>0.929628</td>\n",
       "      <td>0.891304</td>\n",
       "      <td>0.258621</td>\n",
       "      <td>0.517241</td>\n",
       "      <td>...</td>\n",
       "      <td>0.655172</td>\n",
       "      <td>0.818481</td>\n",
       "      <td>0.760870</td>\n",
       "      <td>0.517241</td>\n",
       "      <td>0.448276</td>\n",
       "      <td>0.706897</td>\n",
       "      <td>0.824400</td>\n",
       "      <td>0.760870</td>\n",
       "      <td>0.568966</td>\n",
       "      <td>0.482759</td>\n",
       "    </tr>\n",
       "    <tr>\n",
       "      <th>15</th>\n",
       "      <td>0.327586</td>\n",
       "      <td>0.929628</td>\n",
       "      <td>0.891304</td>\n",
       "      <td>0.258621</td>\n",
       "      <td>0.517241</td>\n",
       "      <td>0.362069</td>\n",
       "      <td>0.902664</td>\n",
       "      <td>0.956522</td>\n",
       "      <td>0.275862</td>\n",
       "      <td>0.413793</td>\n",
       "      <td>...</td>\n",
       "      <td>0.706897</td>\n",
       "      <td>0.824400</td>\n",
       "      <td>0.760870</td>\n",
       "      <td>0.568966</td>\n",
       "      <td>0.482759</td>\n",
       "      <td>0.465517</td>\n",
       "      <td>0.898718</td>\n",
       "      <td>0.847826</td>\n",
       "      <td>0.327586</td>\n",
       "      <td>0.258621</td>\n",
       "    </tr>\n",
       "    <tr>\n",
       "      <th>16</th>\n",
       "      <td>0.362069</td>\n",
       "      <td>0.902664</td>\n",
       "      <td>0.956522</td>\n",
       "      <td>0.275862</td>\n",
       "      <td>0.413793</td>\n",
       "      <td>0.448276</td>\n",
       "      <td>0.898718</td>\n",
       "      <td>0.956522</td>\n",
       "      <td>0.310345</td>\n",
       "      <td>0.293103</td>\n",
       "      <td>...</td>\n",
       "      <td>0.465517</td>\n",
       "      <td>0.898718</td>\n",
       "      <td>0.847826</td>\n",
       "      <td>0.327586</td>\n",
       "      <td>0.258621</td>\n",
       "      <td>0.465517</td>\n",
       "      <td>0.881618</td>\n",
       "      <td>0.913043</td>\n",
       "      <td>0.362069</td>\n",
       "      <td>0.275862</td>\n",
       "    </tr>\n",
       "  </tbody>\n",
       "</table>\n",
       "<p>5 rows × 65 columns</p>\n",
       "</div>"
      ],
      "text/plain": [
       "    var1(t-12)  var2(t-12)  var3(t-12)  var4(t-12)  var5(t-12)  var1(t-11)  \\\n",
       "12    0.465517    0.870766    0.804348    0.379310    0.672414    0.517241   \n",
       "13    0.517241    0.870766    0.760870    0.448276    0.689655    0.568966   \n",
       "14    0.568966    0.877343    0.804348    0.482759    0.706897    0.327586   \n",
       "15    0.327586    0.929628    0.891304    0.258621    0.517241    0.362069   \n",
       "16    0.362069    0.902664    0.956522    0.275862    0.413793    0.448276   \n",
       "\n",
       "    var2(t-11)  var3(t-11)  var4(t-11)  var5(t-11)  ...  var1(t-1)  var2(t-1)  \\\n",
       "12    0.870766    0.760870    0.448276    0.689655  ...   0.534483   0.824729   \n",
       "13    0.877343    0.804348    0.482759    0.706897  ...   0.586207   0.820783   \n",
       "14    0.929628    0.891304    0.258621    0.517241  ...   0.655172   0.818481   \n",
       "15    0.902664    0.956522    0.275862    0.413793  ...   0.706897   0.824400   \n",
       "16    0.898718    0.956522    0.310345    0.293103  ...   0.465517   0.898718   \n",
       "\n",
       "    var3(t-1)  var4(t-1)  var5(t-1)   var1(t)   var2(t)   var3(t)   var4(t)  \\\n",
       "12   0.717391   0.396552   0.327586  0.586207  0.820783  0.717391  0.465517   \n",
       "13   0.717391   0.465517   0.379310  0.655172  0.818481  0.760870  0.517241   \n",
       "14   0.760870   0.517241   0.448276  0.706897  0.824400  0.760870  0.568966   \n",
       "15   0.760870   0.568966   0.482759  0.465517  0.898718  0.847826  0.327586   \n",
       "16   0.847826   0.327586   0.258621  0.465517  0.881618  0.913043  0.362069   \n",
       "\n",
       "     var5(t)  \n",
       "12  0.379310  \n",
       "13  0.448276  \n",
       "14  0.482759  \n",
       "15  0.258621  \n",
       "16  0.275862  \n",
       "\n",
       "[5 rows x 65 columns]"
      ]
     },
     "execution_count": 49,
     "metadata": {},
     "output_type": "execute_result"
    }
   ],
   "source": [
    "reframed.head()"
   ]
  },
  {
   "cell_type": "code",
   "execution_count": 50,
   "metadata": {},
   "outputs": [],
   "source": [
    "# drop columns we don't want to predict\n",
    "reframed.drop(reframed.columns[[61,62,63,64]], axis=1, inplace=True)"
   ]
  },
  {
   "cell_type": "code",
   "execution_count": 51,
   "metadata": {},
   "outputs": [
    {
     "data": {
      "text/html": [
       "<div>\n",
       "<style scoped>\n",
       "    .dataframe tbody tr th:only-of-type {\n",
       "        vertical-align: middle;\n",
       "    }\n",
       "\n",
       "    .dataframe tbody tr th {\n",
       "        vertical-align: top;\n",
       "    }\n",
       "\n",
       "    .dataframe thead th {\n",
       "        text-align: right;\n",
       "    }\n",
       "</style>\n",
       "<table border=\"1\" class=\"dataframe\">\n",
       "  <thead>\n",
       "    <tr style=\"text-align: right;\">\n",
       "      <th></th>\n",
       "      <th>var1(t-12)</th>\n",
       "      <th>var2(t-12)</th>\n",
       "      <th>var3(t-12)</th>\n",
       "      <th>var4(t-12)</th>\n",
       "      <th>var5(t-12)</th>\n",
       "      <th>var1(t-11)</th>\n",
       "      <th>var2(t-11)</th>\n",
       "      <th>var3(t-11)</th>\n",
       "      <th>var4(t-11)</th>\n",
       "      <th>var5(t-11)</th>\n",
       "      <th>...</th>\n",
       "      <th>var2(t-2)</th>\n",
       "      <th>var3(t-2)</th>\n",
       "      <th>var4(t-2)</th>\n",
       "      <th>var5(t-2)</th>\n",
       "      <th>var1(t-1)</th>\n",
       "      <th>var2(t-1)</th>\n",
       "      <th>var3(t-1)</th>\n",
       "      <th>var4(t-1)</th>\n",
       "      <th>var5(t-1)</th>\n",
       "      <th>var1(t)</th>\n",
       "    </tr>\n",
       "  </thead>\n",
       "  <tbody>\n",
       "    <tr>\n",
       "      <th>379</th>\n",
       "      <td>0.189655</td>\n",
       "      <td>0.389674</td>\n",
       "      <td>0.456522</td>\n",
       "      <td>0.189655</td>\n",
       "      <td>0.379310</td>\n",
       "      <td>0.155172</td>\n",
       "      <td>0.384742</td>\n",
       "      <td>0.347826</td>\n",
       "      <td>0.224138</td>\n",
       "      <td>0.293103</td>\n",
       "      <td>...</td>\n",
       "      <td>0.163762</td>\n",
       "      <td>0.717391</td>\n",
       "      <td>0.310345</td>\n",
       "      <td>0.310345</td>\n",
       "      <td>0.068966</td>\n",
       "      <td>0.244656</td>\n",
       "      <td>0.760870</td>\n",
       "      <td>0.379310</td>\n",
       "      <td>0.344828</td>\n",
       "      <td>0.206897</td>\n",
       "    </tr>\n",
       "    <tr>\n",
       "      <th>380</th>\n",
       "      <td>0.155172</td>\n",
       "      <td>0.384742</td>\n",
       "      <td>0.347826</td>\n",
       "      <td>0.224138</td>\n",
       "      <td>0.293103</td>\n",
       "      <td>0.155172</td>\n",
       "      <td>0.387044</td>\n",
       "      <td>0.239130</td>\n",
       "      <td>0.137931</td>\n",
       "      <td>0.241379</td>\n",
       "      <td>...</td>\n",
       "      <td>0.244656</td>\n",
       "      <td>0.760870</td>\n",
       "      <td>0.379310</td>\n",
       "      <td>0.344828</td>\n",
       "      <td>0.206897</td>\n",
       "      <td>0.274252</td>\n",
       "      <td>0.673913</td>\n",
       "      <td>0.189655</td>\n",
       "      <td>0.189655</td>\n",
       "      <td>0.431034</td>\n",
       "    </tr>\n",
       "    <tr>\n",
       "      <th>381</th>\n",
       "      <td>0.155172</td>\n",
       "      <td>0.387044</td>\n",
       "      <td>0.239130</td>\n",
       "      <td>0.137931</td>\n",
       "      <td>0.241379</td>\n",
       "      <td>0.241379</td>\n",
       "      <td>0.333443</td>\n",
       "      <td>0.173913</td>\n",
       "      <td>0.275862</td>\n",
       "      <td>0.413793</td>\n",
       "      <td>...</td>\n",
       "      <td>0.274252</td>\n",
       "      <td>0.673913</td>\n",
       "      <td>0.189655</td>\n",
       "      <td>0.189655</td>\n",
       "      <td>0.431034</td>\n",
       "      <td>0.283131</td>\n",
       "      <td>0.673913</td>\n",
       "      <td>0.155172</td>\n",
       "      <td>0.224138</td>\n",
       "      <td>0.431034</td>\n",
       "    </tr>\n",
       "    <tr>\n",
       "      <th>382</th>\n",
       "      <td>0.241379</td>\n",
       "      <td>0.333443</td>\n",
       "      <td>0.173913</td>\n",
       "      <td>0.275862</td>\n",
       "      <td>0.413793</td>\n",
       "      <td>0.258621</td>\n",
       "      <td>0.292996</td>\n",
       "      <td>0.195652</td>\n",
       "      <td>0.310345</td>\n",
       "      <td>0.482759</td>\n",
       "      <td>...</td>\n",
       "      <td>0.283131</td>\n",
       "      <td>0.673913</td>\n",
       "      <td>0.155172</td>\n",
       "      <td>0.224138</td>\n",
       "      <td>0.431034</td>\n",
       "      <td>0.306478</td>\n",
       "      <td>0.695652</td>\n",
       "      <td>0.155172</td>\n",
       "      <td>0.137931</td>\n",
       "      <td>0.379310</td>\n",
       "    </tr>\n",
       "    <tr>\n",
       "      <th>383</th>\n",
       "      <td>0.258621</td>\n",
       "      <td>0.292996</td>\n",
       "      <td>0.195652</td>\n",
       "      <td>0.310345</td>\n",
       "      <td>0.482759</td>\n",
       "      <td>0.275862</td>\n",
       "      <td>0.250575</td>\n",
       "      <td>0.260870</td>\n",
       "      <td>0.344828</td>\n",
       "      <td>0.551724</td>\n",
       "      <td>...</td>\n",
       "      <td>0.306478</td>\n",
       "      <td>0.695652</td>\n",
       "      <td>0.155172</td>\n",
       "      <td>0.137931</td>\n",
       "      <td>0.379310</td>\n",
       "      <td>0.339691</td>\n",
       "      <td>0.652174</td>\n",
       "      <td>0.241379</td>\n",
       "      <td>0.275862</td>\n",
       "      <td>0.362069</td>\n",
       "    </tr>\n",
       "  </tbody>\n",
       "</table>\n",
       "<p>5 rows × 61 columns</p>\n",
       "</div>"
      ],
      "text/plain": [
       "     var1(t-12)  var2(t-12)  var3(t-12)  var4(t-12)  var5(t-12)  var1(t-11)  \\\n",
       "379    0.189655    0.389674    0.456522    0.189655    0.379310    0.155172   \n",
       "380    0.155172    0.384742    0.347826    0.224138    0.293103    0.155172   \n",
       "381    0.155172    0.387044    0.239130    0.137931    0.241379    0.241379   \n",
       "382    0.241379    0.333443    0.173913    0.275862    0.413793    0.258621   \n",
       "383    0.258621    0.292996    0.195652    0.310345    0.482759    0.275862   \n",
       "\n",
       "     var2(t-11)  var3(t-11)  var4(t-11)  var5(t-11)  ...  var2(t-2)  \\\n",
       "379    0.384742    0.347826    0.224138    0.293103  ...   0.163762   \n",
       "380    0.387044    0.239130    0.137931    0.241379  ...   0.244656   \n",
       "381    0.333443    0.173913    0.275862    0.413793  ...   0.274252   \n",
       "382    0.292996    0.195652    0.310345    0.482759  ...   0.283131   \n",
       "383    0.250575    0.260870    0.344828    0.551724  ...   0.306478   \n",
       "\n",
       "     var3(t-2)  var4(t-2)  var5(t-2)  var1(t-1)  var2(t-1)  var3(t-1)  \\\n",
       "379   0.717391   0.310345   0.310345   0.068966   0.244656   0.760870   \n",
       "380   0.760870   0.379310   0.344828   0.206897   0.274252   0.673913   \n",
       "381   0.673913   0.189655   0.189655   0.431034   0.283131   0.673913   \n",
       "382   0.673913   0.155172   0.224138   0.431034   0.306478   0.695652   \n",
       "383   0.695652   0.155172   0.137931   0.379310   0.339691   0.652174   \n",
       "\n",
       "     var4(t-1)  var5(t-1)   var1(t)  \n",
       "379   0.379310   0.344828  0.206897  \n",
       "380   0.189655   0.189655  0.431034  \n",
       "381   0.155172   0.224138  0.431034  \n",
       "382   0.155172   0.137931  0.379310  \n",
       "383   0.241379   0.275862  0.362069  \n",
       "\n",
       "[5 rows x 61 columns]"
      ]
     },
     "execution_count": 51,
     "metadata": {},
     "output_type": "execute_result"
    }
   ],
   "source": [
    "reframed.tail()"
   ]
  },
  {
   "cell_type": "code",
   "execution_count": 52,
   "metadata": {},
   "outputs": [
    {
     "name": "stdout",
     "output_type": "stream",
     "text": [
      "<class 'pandas.core.frame.DataFrame'>\n",
      "Int64Index: 372 entries, 12 to 383\n",
      "Data columns (total 61 columns):\n",
      "var1(t-12)    372 non-null float64\n",
      "var2(t-12)    372 non-null float64\n",
      "var3(t-12)    372 non-null float64\n",
      "var4(t-12)    372 non-null float64\n",
      "var5(t-12)    372 non-null float64\n",
      "var1(t-11)    372 non-null float64\n",
      "var2(t-11)    372 non-null float64\n",
      "var3(t-11)    372 non-null float64\n",
      "var4(t-11)    372 non-null float64\n",
      "var5(t-11)    372 non-null float64\n",
      "var1(t-10)    372 non-null float64\n",
      "var2(t-10)    372 non-null float64\n",
      "var3(t-10)    372 non-null float64\n",
      "var4(t-10)    372 non-null float64\n",
      "var5(t-10)    372 non-null float64\n",
      "var1(t-9)     372 non-null float64\n",
      "var2(t-9)     372 non-null float64\n",
      "var3(t-9)     372 non-null float64\n",
      "var4(t-9)     372 non-null float64\n",
      "var5(t-9)     372 non-null float64\n",
      "var1(t-8)     372 non-null float64\n",
      "var2(t-8)     372 non-null float64\n",
      "var3(t-8)     372 non-null float64\n",
      "var4(t-8)     372 non-null float64\n",
      "var5(t-8)     372 non-null float64\n",
      "var1(t-7)     372 non-null float64\n",
      "var2(t-7)     372 non-null float64\n",
      "var3(t-7)     372 non-null float64\n",
      "var4(t-7)     372 non-null float64\n",
      "var5(t-7)     372 non-null float64\n",
      "var1(t-6)     372 non-null float64\n",
      "var2(t-6)     372 non-null float64\n",
      "var3(t-6)     372 non-null float64\n",
      "var4(t-6)     372 non-null float64\n",
      "var5(t-6)     372 non-null float64\n",
      "var1(t-5)     372 non-null float64\n",
      "var2(t-5)     372 non-null float64\n",
      "var3(t-5)     372 non-null float64\n",
      "var4(t-5)     372 non-null float64\n",
      "var5(t-5)     372 non-null float64\n",
      "var1(t-4)     372 non-null float64\n",
      "var2(t-4)     372 non-null float64\n",
      "var3(t-4)     372 non-null float64\n",
      "var4(t-4)     372 non-null float64\n",
      "var5(t-4)     372 non-null float64\n",
      "var1(t-3)     372 non-null float64\n",
      "var2(t-3)     372 non-null float64\n",
      "var3(t-3)     372 non-null float64\n",
      "var4(t-3)     372 non-null float64\n",
      "var5(t-3)     372 non-null float64\n",
      "var1(t-2)     372 non-null float64\n",
      "var2(t-2)     372 non-null float64\n",
      "var3(t-2)     372 non-null float64\n",
      "var4(t-2)     372 non-null float64\n",
      "var5(t-2)     372 non-null float64\n",
      "var1(t-1)     372 non-null float64\n",
      "var2(t-1)     372 non-null float64\n",
      "var3(t-1)     372 non-null float64\n",
      "var4(t-1)     372 non-null float64\n",
      "var5(t-1)     372 non-null float64\n",
      "var1(t)       372 non-null float64\n",
      "dtypes: float64(61)\n",
      "memory usage: 180.2 KB\n"
     ]
    }
   ],
   "source": [
    "reframed.info()"
   ]
  },
  {
   "cell_type": "code",
   "execution_count": 53,
   "metadata": {},
   "outputs": [],
   "source": [
    "# split into train and test sets\n",
    "values = reframed.values\n",
    "n_train = 276\n",
    "train = values[:n_train, :]\n",
    "test = values[n_train:, :]"
   ]
  },
  {
   "cell_type": "code",
   "execution_count": 54,
   "metadata": {},
   "outputs": [
    {
     "data": {
      "text/plain": [
       "(96, 61)"
      ]
     },
     "execution_count": 54,
     "metadata": {},
     "output_type": "execute_result"
    }
   ],
   "source": [
    "test.shape"
   ]
  },
  {
   "cell_type": "code",
   "execution_count": 55,
   "metadata": {},
   "outputs": [
    {
     "name": "stdout",
     "output_type": "stream",
     "text": [
      "(276, 60) (96, 60) (276,) (96,)\n"
     ]
    }
   ],
   "source": [
    "# split into input and outputs\n",
    "train_X, train_y = train[:, :-1], train[:, -1]\n",
    "test_X, test_y = test[:, :-1], test[:, -1]\n",
    "print(train_X.shape,test_X.shape, train_y.shape,test_y.shape)"
   ]
  },
  {
   "cell_type": "code",
   "execution_count": 56,
   "metadata": {},
   "outputs": [],
   "source": [
    "# specify the number of lag hours\n",
    "n_hours = 12\n",
    "n_features = 5"
   ]
  },
  {
   "cell_type": "code",
   "execution_count": 57,
   "metadata": {},
   "outputs": [],
   "source": [
    "# split into input and outputs\n",
    "#n_obs = n_hours * n_features\n",
    "#train_X, train_y = train[:, :n_obs], train[:, -n_features]\n",
    "#test_X, test_y = test[:, :n_obs], test[:, -n_features]\n",
    "#print(train_X.shape,test_X.shape, train_y.shape,test_y.shape)"
   ]
  },
  {
   "cell_type": "code",
   "execution_count": 58,
   "metadata": {},
   "outputs": [
    {
     "data": {
      "text/plain": [
       "array([0.29310345, 0.32758621, 0.34482759, 0.36206897, 0.37931034,\n",
       "       0.39655172, 0.37931034, 0.25862069, 0.56896552, 0.55172414,\n",
       "       0.53448276, 0.55172414, 0.56896552, 0.56896552, 0.5862069 ,\n",
       "       0.62068966, 0.62068966, 0.63793103, 0.65517241, 0.84482759,\n",
       "       1.        , 0.96551724, 0.89655172, 0.89655172, 0.9137931 ,\n",
       "       0.93103448, 0.93103448, 0.48275862, 0.48275862, 0.51724138,\n",
       "       0.48275862, 0.46551724, 0.4137931 , 0.29310345, 0.5       ,\n",
       "       0.5862069 , 0.65517241, 0.68965517, 0.74137931, 0.44827586,\n",
       "       0.43103448, 0.44827586, 0.43103448, 0.32758621, 0.27586207,\n",
       "       0.24137931, 0.43103448, 0.5       , 0.55172414, 0.5862069 ,\n",
       "       0.62068966, 0.25862069, 0.25862069, 0.36206897, 0.4137931 ,\n",
       "       0.37931034, 0.29310345, 0.24137931, 0.4137931 , 0.48275862,\n",
       "       0.55172414, 0.5862069 , 0.62068966, 0.46551724, 0.32758621,\n",
       "       0.31034483, 0.34482759, 0.18965517, 0.22413793, 0.13793103,\n",
       "       0.27586207, 0.31034483, 0.34482759, 0.34482759, 0.32758621,\n",
       "       0.20689655, 0.25862069, 0.31034483, 0.37931034, 0.18965517,\n",
       "       0.15517241, 0.15517241, 0.24137931, 0.25862069, 0.27586207,\n",
       "       0.29310345, 0.27586207, 0.25862069, 0.25862069, 0.24137931,\n",
       "       0.06896552, 0.20689655, 0.43103448, 0.43103448, 0.37931034,\n",
       "       0.36206897])"
      ]
     },
     "execution_count": 58,
     "metadata": {},
     "output_type": "execute_result"
    }
   ],
   "source": [
    "test_y"
   ]
  },
  {
   "cell_type": "code",
   "execution_count": 59,
   "metadata": {},
   "outputs": [
    {
     "data": {
      "text/plain": [
       "array([[0.4137931 , 0.26767511, 0.06521739, ..., 0.5       , 0.39655172,\n",
       "        0.46551724],\n",
       "       [0.44827586, 0.21637619, 0.08695652, ..., 0.5       , 0.4137931 ,\n",
       "        0.53448276],\n",
       "       [0.43103448, 0.18382111, 0.30434783, ..., 0.52173913, 0.44827586,\n",
       "        0.5862069 ],\n",
       "       ...,\n",
       "       [0.15517241, 0.38704374, 0.23913043, ..., 0.67391304, 0.15517241,\n",
       "        0.22413793],\n",
       "       [0.24137931, 0.33344295, 0.17391304, ..., 0.69565217, 0.15517241,\n",
       "        0.13793103],\n",
       "       [0.25862069, 0.29299573, 0.19565217, ..., 0.65217391, 0.24137931,\n",
       "        0.27586207]])"
      ]
     },
     "execution_count": 59,
     "metadata": {},
     "output_type": "execute_result"
    }
   ],
   "source": [
    "test_X"
   ]
  },
  {
   "cell_type": "code",
   "execution_count": 60,
   "metadata": {},
   "outputs": [],
   "source": [
    "# reshape input to be 3D [samples, timesteps, features]\n",
    "train_X = train_X.reshape((train_X.shape[0], n_hours, n_features))\n",
    "test_X = test_X.reshape((test_X.shape[0], n_hours, n_features))"
   ]
  },
  {
   "cell_type": "code",
   "execution_count": 61,
   "metadata": {},
   "outputs": [
    {
     "name": "stdout",
     "output_type": "stream",
     "text": [
      "(276, 12, 5) (96, 12, 5) (276,) (96,)\n"
     ]
    }
   ],
   "source": [
    "print(train_X.shape,test_X.shape, train_y.shape,test_y.shape)"
   ]
  },
  {
   "cell_type": "code",
   "execution_count": 62,
   "metadata": {},
   "outputs": [
    {
     "name": "stdout",
     "output_type": "stream",
     "text": [
      "WARNING:tensorflow:From C:\\ProgramData\\Anaconda3\\lib\\site-packages\\tensorflow\\python\\ops\\resource_variable_ops.py:435: colocate_with (from tensorflow.python.framework.ops) is deprecated and will be removed in a future version.\n",
      "Instructions for updating:\n",
      "Colocations handled automatically by placer.\n",
      "WARNING:tensorflow:From C:\\ProgramData\\Anaconda3\\lib\\site-packages\\tensorflow\\python\\ops\\math_ops.py:3066: to_int32 (from tensorflow.python.ops.math_ops) is deprecated and will be removed in a future version.\n",
      "Instructions for updating:\n",
      "Use tf.cast instead.\n",
      "Train on 276 samples, validate on 96 samples\n",
      "Epoch 1/30\n",
      " - 1s - loss: 0.1658 - val_loss: 0.1747\n",
      "Epoch 2/30\n",
      " - 0s - loss: 0.1195 - val_loss: 0.1447\n",
      "Epoch 3/30\n",
      " - 0s - loss: 0.1221 - val_loss: 0.1398\n",
      "Epoch 4/30\n",
      " - 0s - loss: 0.1155 - val_loss: 0.1369\n",
      "Epoch 5/30\n",
      " - 0s - loss: 0.1102 - val_loss: 0.1304\n",
      "Epoch 6/30\n",
      " - 0s - loss: 0.1069 - val_loss: 0.1251\n",
      "Epoch 7/30\n",
      " - 0s - loss: 0.1018 - val_loss: 0.1187\n",
      "Epoch 8/30\n",
      " - 0s - loss: 0.0979 - val_loss: 0.1123\n",
      "Epoch 9/30\n",
      " - 0s - loss: 0.0921 - val_loss: 0.1149\n",
      "Epoch 10/30\n",
      " - 0s - loss: 0.0924 - val_loss: 0.1076\n",
      "Epoch 11/30\n",
      " - 0s - loss: 0.0880 - val_loss: 0.1140\n",
      "Epoch 12/30\n",
      " - 0s - loss: 0.0896 - val_loss: 0.1096\n",
      "Epoch 13/30\n",
      " - 0s - loss: 0.0872 - val_loss: 0.1051\n",
      "Epoch 14/30\n",
      " - 0s - loss: 0.0838 - val_loss: 0.1055\n",
      "Epoch 15/30\n",
      " - 0s - loss: 0.0830 - val_loss: 0.1053\n",
      "Epoch 16/30\n",
      " - 0s - loss: 0.0832 - val_loss: 0.1006\n",
      "Epoch 17/30\n",
      " - 0s - loss: 0.0798 - val_loss: 0.0995\n",
      "Epoch 18/30\n",
      " - 0s - loss: 0.0790 - val_loss: 0.0984\n",
      "Epoch 19/30\n",
      " - 0s - loss: 0.0779 - val_loss: 0.0962\n",
      "Epoch 20/30\n",
      " - 0s - loss: 0.0737 - val_loss: 0.0921\n",
      "Epoch 21/30\n",
      " - 0s - loss: 0.0719 - val_loss: 0.0921\n",
      "Epoch 22/30\n",
      " - 0s - loss: 0.0757 - val_loss: 0.0929\n",
      "Epoch 23/30\n",
      " - 0s - loss: 0.0760 - val_loss: 0.0997\n",
      "Epoch 24/30\n",
      " - 0s - loss: 0.0727 - val_loss: 0.1037\n",
      "Epoch 25/30\n",
      " - 0s - loss: 0.0692 - val_loss: 0.0890\n",
      "Epoch 26/30\n",
      " - 0s - loss: 0.0701 - val_loss: 0.0936\n",
      "Epoch 27/30\n",
      " - 0s - loss: 0.0753 - val_loss: 0.0938\n",
      "Epoch 28/30\n",
      " - 0s - loss: 0.0735 - val_loss: 0.1068\n",
      "Epoch 29/30\n",
      " - 0s - loss: 0.0702 - val_loss: 0.0930\n",
      "Epoch 30/30\n",
      " - 0s - loss: 0.0688 - val_loss: 0.0933\n"
     ]
    },
    {
     "data": {
      "image/png": "[encoded data removed]",
      "text/plain": [
       "<Figure size 432x288 with 1 Axes>"
      ]
     },
     "metadata": {
      "needs_background": "light"
     },
     "output_type": "display_data"
    }
   ],
   "source": [
    "# design network\n",
    "model = Sequential()\n",
    "model.add(LSTM(50, input_shape=(train_X.shape[1], train_X.shape[2])))\n",
    "model.add(Dense(1))\n",
    "model.compile(loss='mae', optimizer='adam')\n",
    "# fit network\n",
    "history = model.fit(train_X, train_y, epochs=30, batch_size=32, validation_data=(test_X, test_y), verbose=2, shuffle=False)\n",
    "# plot history\n",
    "pyplot.plot(history.history['loss'], label='train')\n",
    "pyplot.plot(history.history['val_loss'], label='test')\n",
    "pyplot.legend()\n",
    "pyplot.show()"
   ]
  },
  {
   "cell_type": "code",
   "execution_count": 63,
   "metadata": {},
   "outputs": [],
   "source": [
    "# make a prediction\n",
    "yhat = model.predict(test_X)\n",
    "test_X = test_X.reshape((test_X.shape[0], test_X.shape[1]*test_X.shape[2]))"
   ]
  },
  {
   "cell_type": "code",
   "execution_count": 64,
   "metadata": {},
   "outputs": [
    {
     "data": {
      "text/plain": [
       "(96, 60)"
      ]
     },
     "execution_count": 64,
     "metadata": {},
     "output_type": "execute_result"
    }
   ],
   "source": [
    "test_X.shape"
   ]
  },
  {
   "cell_type": "code",
   "execution_count": 65,
   "metadata": {},
   "outputs": [],
   "source": [
    "# invert scaling for forecast\n",
    "#inv_yhat = concatenate((yhat, test_X[:, -4:]), axis=1)\n",
    "#inv_yhat.shape\n",
    "#inv_yhat = scaler.inverse_transform(yhat)\n",
    "#inv_yhat = inv_yhat[:,0]"
   ]
  },
  {
   "cell_type": "code",
   "execution_count": 68,
   "metadata": {},
   "outputs": [],
   "source": [
    "# invert scaling for forecast\n",
    "testy_forecast = np.zeros(shape=(len(test_y), 5))\n",
    "\n",
    "testy_forecast[:,0] = yhat[:,0]\n",
    "\n",
    "inv_yhat = scaler.inverse_transform(testy_forecast)[:,0]"
   ]
  },
  {
   "cell_type": "code",
   "execution_count": 69,
   "metadata": {},
   "outputs": [],
   "source": [
    "# invert scaling for actual test\n",
    "testy_actual = np.zeros(shape=(len(test_y), 5))\n",
    "\n",
    "testy_actual[:,0] = test_y\n",
    "\n",
    "inv_y = scaler.inverse_transform(testy_actual)[:,0]"
   ]
  },
  {
   "cell_type": "code",
   "execution_count": 70,
   "metadata": {},
   "outputs": [],
   "source": [
    "# invert scaling for actual train\n",
    "trainy_actual = np.zeros(shape=(len(train_y), 5))\n",
    "\n",
    "trainy_actual[:,0] = train_y\n",
    "\n",
    "inv_y_train = scaler.inverse_transform(trainy_actual)[:,0]"
   ]
  },
  {
   "cell_type": "code",
   "execution_count": 71,
   "metadata": {},
   "outputs": [
    {
     "data": {
      "text/plain": [
       "array([70.59209102, 70.75243923, 70.7712367 , 70.61158249, 70.35700235,\n",
       "       70.36638449, 70.35800472, 70.36605572, 70.31983505, 70.92289712,\n",
       "       71.45117103, 71.78097286, 71.95248672, 71.97803861, 71.86573986,\n",
       "       71.67602678, 71.57867692, 71.54366095, 71.57548569, 71.68556916,\n",
       "       72.11795208, 73.02951353, 73.46632185, 73.50714223, 73.41021949,\n",
       "       73.23836062, 73.02512305, 72.82789378, 71.92917259, 71.43261988,\n",
       "       71.28775778, 71.25238367, 71.46579254, 71.66802868, 71.37846074,\n",
       "       71.46027868, 71.55324084, 71.64550483, 71.66639487, 71.66859218,\n",
       "       70.77907301, 70.55336579, 70.70087877, 70.91479272, 71.06163796,\n",
       "       71.07144999, 70.99736344, 71.46951424, 71.80609884, 72.01175714,\n",
       "       72.05270716, 72.00481257, 70.98925436, 70.66437419, 70.79377921,\n",
       "       71.06641667, 71.20813059, 71.24925295, 71.29506862, 71.87367936,\n",
       "       72.25230072, 72.42363135, 72.33342258, 72.07103412, 71.27353609,\n",
       "       70.76231297, 70.59943487, 70.62908961, 70.42230051, 70.43347929,\n",
       "       70.41044778, 70.76769476, 70.96718754, 71.04067481, 70.92095667,\n",
       "       70.6221409 , 70.03570042, 69.76918508, 69.75928724, 69.94615402,\n",
       "       69.77395852, 69.80776261, 69.89168997, 70.22383526, 70.40323235,\n",
       "       70.46027417, 70.41603717, 70.22413654, 69.98359607, 69.90047309,\n",
       "       69.89782678, 69.73547944, 69.79694336, 70.2821746 , 70.67286631,\n",
       "       70.9749153 ])"
      ]
     },
     "execution_count": 71,
     "metadata": {},
     "output_type": "execute_result"
    }
   ],
   "source": [
    "inv_yhat"
   ]
  },
  {
   "cell_type": "code",
   "execution_count": 72,
   "metadata": {},
   "outputs": [
    {
     "data": {
      "text/plain": [
       "array([70.5, 70.7, 70.8, 70.9, 71. , 71.1, 71. , 70.3, 72.1, 72. , 71.9,\n",
       "       72. , 72.1, 72.1, 72.2, 72.4, 72.4, 72.5, 72.6, 73.7, 74.6, 74.4,\n",
       "       74. , 74. , 74.1, 74.2, 74.2, 71.6, 71.6, 71.8, 71.6, 71.5, 71.2,\n",
       "       70.5, 71.7, 72.2, 72.6, 72.8, 73.1, 71.4, 71.3, 71.4, 71.3, 70.7,\n",
       "       70.4, 70.2, 71.3, 71.7, 72. , 72.2, 72.4, 70.3, 70.3, 70.9, 71.2,\n",
       "       71. , 70.5, 70.2, 71.2, 71.6, 72. , 72.2, 72.4, 71.5, 70.7, 70.6,\n",
       "       70.8, 69.9, 70.1, 69.6, 70.4, 70.6, 70.8, 70.8, 70.7, 70. , 70.3,\n",
       "       70.6, 71. , 69.9, 69.7, 69.7, 70.2, 70.3, 70.4, 70.5, 70.4, 70.3,\n",
       "       70.3, 70.2, 69.2, 70. , 71.3, 71.3, 71. , 70.9])"
      ]
     },
     "execution_count": 72,
     "metadata": {},
     "output_type": "execute_result"
    }
   ],
   "source": [
    "inv_y"
   ]
  },
  {
   "cell_type": "code",
   "execution_count": 73,
   "metadata": {},
   "outputs": [
    {
     "name": "stdout",
     "output_type": "stream",
     "text": [
      "Test RMSE: 0.728\n"
     ]
    }
   ],
   "source": [
    "# calculate RMSE\n",
    "rmse = sqrt(mean_squared_error(inv_y, inv_yhat))\n",
    "print('Test RMSE: %.3f' % rmse)"
   ]
  },
  {
   "cell_type": "code",
   "execution_count": 74,
   "metadata": {},
   "outputs": [],
   "source": [
    "import matplotlib.pyplot as plt\n",
    "%matplotlib inline"
   ]
  },
  {
   "cell_type": "code",
   "execution_count": 75,
   "metadata": {},
   "outputs": [
    {
     "data": {
      "text/plain": [
       "Text(0, 0.5, 'Temperature (F)')"
      ]
     },
     "execution_count": 75,
     "metadata": {},
     "output_type": "execute_result"
    },
    {
     "data": {
      "image/png": "[encoded data removed]",
      "text/plain": [
       "<Figure size 432x288 with 1 Axes>"
      ]
     },
     "metadata": {
      "needs_background": "light"
     },
     "output_type": "display_data"
    }
   ],
   "source": [
    "plt.plot(ts.index[276:372],inv_y,label='Actual')\n",
    "plt.plot(ts.index[276:372],inv_yhat,label='LSTM_forecast')\n",
    "plt.legend(loc=\"upper right\")\n",
    "plt.ylim(68,75)\n",
    "plt.xlabel('Date')\n",
    "plt.ylabel('Temperature (F)')"
   ]
  },
  {
   "cell_type": "code",
   "execution_count": 76,
   "metadata": {},
   "outputs": [
    {
     "data": {
      "image/png": "[encoded data removed]",
      "text/plain": [
       "<Figure size 1200x500 with 1 Axes>"
      ]
     },
     "metadata": {
      "needs_background": "light"
     },
     "output_type": "display_data"
    }
   ],
   "source": [
    "plt.figure(figsize=(12,5), dpi=100)\n",
    "plt.plot(ts.index[:276],inv_y_train, label='training')\n",
    "plt.plot(ts.index[276:372],inv_y, label='actual')\n",
    "plt.plot(ts.index[276:372],inv_yhat, label='forecast')\n",
    "#plt.fill_between(lower_series.index, lower_series, upper_series, color='k', alpha=.15)\n",
    "plt.title('Forecast vs Actuals (Room 276)')\n",
    "plt.legend(loc='upper left', fontsize=8)\n",
    "plt.ylim(67,75)\n",
    "plt.xlabel('Date')\n",
    "plt.ylabel('Temperature (F)')\n",
    "plt.show()"
   ]
  },
  {
   "cell_type": "markdown",
   "metadata": {},
   "source": [
    "# Linear regression"
   ]
  },
  {
   "cell_type": "code",
   "execution_count": 77,
   "metadata": {},
   "outputs": [],
   "source": [
    "from sklearn.linear_model import LinearRegression"
   ]
  },
  {
   "cell_type": "code",
   "execution_count": 78,
   "metadata": {},
   "outputs": [],
   "source": [
    "regressor = LinearRegression()"
   ]
  },
  {
   "cell_type": "code",
   "execution_count": 79,
   "metadata": {},
   "outputs": [],
   "source": [
    "train_X_lr, train_y_lr = train[:, :-1], train[:, -1]\n",
    "test_X_lr, test_y_lr = test[:, :-1], test[:, -1]"
   ]
  },
  {
   "cell_type": "code",
   "execution_count": 80,
   "metadata": {},
   "outputs": [
    {
     "data": {
      "text/plain": [
       "LinearRegression(copy_X=True, fit_intercept=True, n_jobs=None, normalize=False)"
      ]
     },
     "execution_count": 80,
     "metadata": {},
     "output_type": "execute_result"
    }
   ],
   "source": [
    "regressor.fit(train_X_lr,train_y_lr)"
   ]
  },
  {
   "cell_type": "code",
   "execution_count": 81,
   "metadata": {},
   "outputs": [],
   "source": [
    "y_pred= regressor.predict(test_X_lr)"
   ]
  },
  {
   "cell_type": "code",
   "execution_count": 82,
   "metadata": {},
   "outputs": [],
   "source": [
    "#Invert scaling for forecast\n",
    "testy_forecast_lr = np.zeros(shape=(len(test_y_lr), 5))\n",
    "\n",
    "testy_forecast_lr[:,0] = y_pred\n",
    "\n",
    "inv_yhat_lr = scaler.inverse_transform(testy_forecast_lr)[:,0]"
   ]
  },
  {
   "cell_type": "code",
   "execution_count": 83,
   "metadata": {},
   "outputs": [
    {
     "data": {
      "text/plain": [
       "(96,)"
      ]
     },
     "execution_count": 83,
     "metadata": {},
     "output_type": "execute_result"
    }
   ],
   "source": [
    "inv_yhat_lr.shape"
   ]
  },
  {
   "cell_type": "code",
   "execution_count": 84,
   "metadata": {},
   "outputs": [],
   "source": [
    "#Invert scaling for actual\n",
    "# invert scaling for actual\n",
    "\n",
    "testy_actual_lr = np.zeros(shape=(len(test_y_lr), 5))\n",
    "\n",
    "testy_actual_lr[:,0] = test_y_lr\n",
    "\n",
    "inv_y_lr = scaler.inverse_transform(testy_actual_lr)[:,0]"
   ]
  },
  {
   "cell_type": "code",
   "execution_count": 85,
   "metadata": {},
   "outputs": [
    {
     "data": {
      "text/plain": [
       "array([70.5, 70.7, 70.8, 70.9, 71. , 71.1, 71. , 70.3, 72.1, 72. , 71.9,\n",
       "       72. , 72.1, 72.1, 72.2, 72.4, 72.4, 72.5, 72.6, 73.7, 74.6, 74.4,\n",
       "       74. , 74. , 74.1, 74.2, 74.2, 71.6, 71.6, 71.8, 71.6, 71.5, 71.2,\n",
       "       70.5, 71.7, 72.2, 72.6, 72.8, 73.1, 71.4, 71.3, 71.4, 71.3, 70.7,\n",
       "       70.4, 70.2, 71.3, 71.7, 72. , 72.2, 72.4, 70.3, 70.3, 70.9, 71.2,\n",
       "       71. , 70.5, 70.2, 71.2, 71.6, 72. , 72.2, 72.4, 71.5, 70.7, 70.6,\n",
       "       70.8, 69.9, 70.1, 69.6, 70.4, 70.6, 70.8, 70.8, 70.7, 70. , 70.3,\n",
       "       70.6, 71. , 69.9, 69.7, 69.7, 70.2, 70.3, 70.4, 70.5, 70.4, 70.3,\n",
       "       70.3, 70.2, 69.2, 70. , 71.3, 71.3, 71. , 70.9])"
      ]
     },
     "execution_count": 85,
     "metadata": {},
     "output_type": "execute_result"
    }
   ],
   "source": [
    "inv_y_lr"
   ]
  },
  {
   "cell_type": "code",
   "execution_count": 86,
   "metadata": {},
   "outputs": [
    {
     "data": {
      "text/plain": [
       "Text(0, 0.5, 'Temperature (F)')"
      ]
     },
     "execution_count": 86,
     "metadata": {},
     "output_type": "execute_result"
    },
    {
     "data": {
      "image/png": "[encoded data removed]",
      "text/plain": [
       "<Figure size 432x288 with 1 Axes>"
      ]
     },
     "metadata": {
      "needs_background": "light"
     },
     "output_type": "display_data"
    }
   ],
   "source": [
    "plt.plot(ts.index[276:372],inv_y_lr,label='Actual')\n",
    "plt.plot(ts.index[276:372],inv_yhat_lr,label='LinearRegression_forecast')\n",
    "plt.legend(loc=\"upper right\")\n",
    "plt.ylim(68,75)\n",
    "plt.xlabel('Date')\n",
    "plt.ylabel('Temperature (F)')"
   ]
  },
  {
   "cell_type": "code",
   "execution_count": 87,
   "metadata": {},
   "outputs": [
    {
     "data": {
      "image/png": "[encoded data removed]",
      "text/plain": [
       "<Figure size 1200x500 with 1 Axes>"
      ]
     },
     "metadata": {
      "needs_background": "light"
     },
     "output_type": "display_data"
    }
   ],
   "source": [
    "plt.figure(figsize=(12,5), dpi=100)\n",
    "plt.plot(ts.index[:276],inv_y_train, label='training')\n",
    "plt.plot(ts.index[276:372],inv_y_lr, label='actual')\n",
    "plt.plot(ts.index[276:372],inv_yhat_lr, label='forecast')\n",
    "#plt.fill_between(lower_series.index, lower_series, upper_series, color='k', alpha=.15)\n",
    "plt.title('Forecast vs Actuals (Room 276)')\n",
    "plt.legend(loc='upper left', fontsize=8)\n",
    "plt.ylim(67,75)\n",
    "plt.xlabel('Date')\n",
    "plt.ylabel('Temperature (F)')\n",
    "plt.show()"
   ]
  },
  {
   "cell_type": "code",
   "execution_count": 88,
   "metadata": {},
   "outputs": [
    {
     "name": "stdout",
     "output_type": "stream",
     "text": [
      "Test RMSE: 0.550\n"
     ]
    }
   ],
   "source": [
    "# calculate RMSE\n",
    "rmse = sqrt(mean_squared_error(inv_y_lr, inv_yhat_lr))\n",
    "print('Test RMSE: %.3f' % rmse)"
   ]
  }
 ],
 "metadata": {
  "kernelspec": {
   "display_name": "Python 3",
   "language": "python",
   "name": "python3"
  },
  "language_info": {
   "codemirror_mode": {
    "name": "ipython",
    "version": 3
   },
   "file_extension": ".py",
   "mimetype": "text/x-python",
   "name": "python",
   "nbconvert_exporter": "python",
   "pygments_lexer": "ipython3",
   "version": "3.7.3"
  }
 },
 "nbformat": 4,
 "nbformat_minor": 2
}
