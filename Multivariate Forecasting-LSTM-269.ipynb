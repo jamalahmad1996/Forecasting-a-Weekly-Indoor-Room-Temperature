{
 "cells": [
  {
   "cell_type": "code",
   "execution_count": 1,
   "metadata": {},
   "outputs": [
    {
     "name": "stderr",
     "output_type": "stream",
     "text": [
      "Using TensorFlow backend.\n",
      "C:\\ProgramData\\Anaconda3\\lib\\site-packages\\tensorflow\\python\\framework\\dtypes.py:526: FutureWarning: Passing (type, 1) or '1type' as a synonym of type is deprecated; in a future version of numpy, it will be understood as (type, (1,)) / '(1,)type'.\n",
      "  _np_qint8 = np.dtype([(\"qint8\", np.int8, 1)])\n",
      "C:\\ProgramData\\Anaconda3\\lib\\site-packages\\tensorflow\\python\\framework\\dtypes.py:527: FutureWarning: Passing (type, 1) or '1type' as a synonym of type is deprecated; in a future version of numpy, it will be understood as (type, (1,)) / '(1,)type'.\n",
      "  _np_quint8 = np.dtype([(\"quint8\", np.uint8, 1)])\n",
      "C:\\ProgramData\\Anaconda3\\lib\\site-packages\\tensorflow\\python\\framework\\dtypes.py:528: FutureWarning: Passing (type, 1) or '1type' as a synonym of type is deprecated; in a future version of numpy, it will be understood as (type, (1,)) / '(1,)type'.\n",
      "  _np_qint16 = np.dtype([(\"qint16\", np.int16, 1)])\n",
      "C:\\ProgramData\\Anaconda3\\lib\\site-packages\\tensorflow\\python\\framework\\dtypes.py:529: FutureWarning: Passing (type, 1) or '1type' as a synonym of type is deprecated; in a future version of numpy, it will be understood as (type, (1,)) / '(1,)type'.\n",
      "  _np_quint16 = np.dtype([(\"quint16\", np.uint16, 1)])\n",
      "C:\\ProgramData\\Anaconda3\\lib\\site-packages\\tensorflow\\python\\framework\\dtypes.py:530: FutureWarning: Passing (type, 1) or '1type' as a synonym of type is deprecated; in a future version of numpy, it will be understood as (type, (1,)) / '(1,)type'.\n",
      "  _np_qint32 = np.dtype([(\"qint32\", np.int32, 1)])\n",
      "C:\\ProgramData\\Anaconda3\\lib\\site-packages\\tensorflow\\python\\framework\\dtypes.py:535: FutureWarning: Passing (type, 1) or '1type' as a synonym of type is deprecated; in a future version of numpy, it will be understood as (type, (1,)) / '(1,)type'.\n",
      "  np_resource = np.dtype([(\"resource\", np.ubyte, 1)])\n"
     ]
    }
   ],
   "source": [
    "from math import sqrt\n",
    "from numpy import concatenate\n",
    "import numpy as np\n",
    "from matplotlib import pyplot\n",
    "import matplotlib.pyplot as plt\n",
    "%matplotlib inline\n",
    "import pandas as pd\n",
    "from pandas import read_csv\n",
    "from pandas import DataFrame\n",
    "from pandas import concat\n",
    "from sklearn.preprocessing import MinMaxScaler\n",
    "from sklearn.preprocessing import LabelEncoder\n",
    "from sklearn.metrics import mean_squared_error\n",
    "from keras.models import Sequential\n",
    "from keras.layers import Dense\n",
    "from keras.layers import LSTM"
   ]
  },
  {
   "cell_type": "code",
   "execution_count": 2,
   "metadata": {},
   "outputs": [],
   "source": [
    "df=pd.read_csv(\"269_Temp.csv\")"
   ]
  },
  {
   "cell_type": "code",
   "execution_count": 3,
   "metadata": {},
   "outputs": [
    {
     "data": {
      "text/html": [
       "<div>\n",
       "<style scoped>\n",
       "    .dataframe tbody tr th:only-of-type {\n",
       "        vertical-align: middle;\n",
       "    }\n",
       "\n",
       "    .dataframe tbody tr th {\n",
       "        vertical-align: top;\n",
       "    }\n",
       "\n",
       "    .dataframe thead th {\n",
       "        text-align: right;\n",
       "    }\n",
       "</style>\n",
       "<table border=\"1\" class=\"dataframe\">\n",
       "  <thead>\n",
       "    <tr style=\"text-align: right;\">\n",
       "      <th></th>\n",
       "      <th>Date</th>\n",
       "      <th>Temperature</th>\n",
       "      <th>Humidity</th>\n",
       "      <th>Outside Temperature</th>\n",
       "      <th>Previous Date</th>\n",
       "      <th>Temperature on Previous day</th>\n",
       "      <th>2 days before Date</th>\n",
       "      <th>Temperature 2 days before</th>\n",
       "    </tr>\n",
       "  </thead>\n",
       "  <tbody>\n",
       "    <tr>\n",
       "      <th>0</th>\n",
       "      <td>1/15/2020 1:44</td>\n",
       "      <td>69.3</td>\n",
       "      <td>66.71</td>\n",
       "      <td>68</td>\n",
       "      <td>1/14/2020 1:44</td>\n",
       "      <td>68.8</td>\n",
       "      <td>1/13/2020 1:44</td>\n",
       "      <td>70.4</td>\n",
       "    </tr>\n",
       "    <tr>\n",
       "      <th>1</th>\n",
       "      <td>1/15/2020 3:44</td>\n",
       "      <td>69.8</td>\n",
       "      <td>66.14</td>\n",
       "      <td>66</td>\n",
       "      <td>1/14/2020 3:44</td>\n",
       "      <td>69.2</td>\n",
       "      <td>1/13/2020 3:44</td>\n",
       "      <td>70.4</td>\n",
       "    </tr>\n",
       "    <tr>\n",
       "      <th>2</th>\n",
       "      <td>1/15/2020 5:44</td>\n",
       "      <td>70.1</td>\n",
       "      <td>65.81</td>\n",
       "      <td>68</td>\n",
       "      <td>1/14/2020 5:44</td>\n",
       "      <td>69.6</td>\n",
       "      <td>1/13/2020 5:44</td>\n",
       "      <td>70.4</td>\n",
       "    </tr>\n",
       "    <tr>\n",
       "      <th>3</th>\n",
       "      <td>1/15/2020 7:44</td>\n",
       "      <td>68.0</td>\n",
       "      <td>67.14</td>\n",
       "      <td>72</td>\n",
       "      <td>1/14/2020 7:44</td>\n",
       "      <td>67.6</td>\n",
       "      <td>1/13/2020 7:44</td>\n",
       "      <td>69.8</td>\n",
       "    </tr>\n",
       "    <tr>\n",
       "      <th>4</th>\n",
       "      <td>1/15/2020 9:44</td>\n",
       "      <td>67.6</td>\n",
       "      <td>66.77</td>\n",
       "      <td>75</td>\n",
       "      <td>1/14/2020 9:44</td>\n",
       "      <td>66.0</td>\n",
       "      <td>1/13/2020 9:44</td>\n",
       "      <td>67.9</td>\n",
       "    </tr>\n",
       "  </tbody>\n",
       "</table>\n",
       "</div>"
      ],
      "text/plain": [
       "             Date  Temperature  Humidity  Outside Temperature   Previous Date  \\\n",
       "0  1/15/2020 1:44         69.3     66.71                   68  1/14/2020 1:44   \n",
       "1  1/15/2020 3:44         69.8     66.14                   66  1/14/2020 3:44   \n",
       "2  1/15/2020 5:44         70.1     65.81                   68  1/14/2020 5:44   \n",
       "3  1/15/2020 7:44         68.0     67.14                   72  1/14/2020 7:44   \n",
       "4  1/15/2020 9:44         67.6     66.77                   75  1/14/2020 9:44   \n",
       "\n",
       "   Temperature on Previous day 2 days before Date  Temperature 2 days before  \n",
       "0                         68.8     1/13/2020 1:44                       70.4  \n",
       "1                         69.2     1/13/2020 3:44                       70.4  \n",
       "2                         69.6     1/13/2020 5:44                       70.4  \n",
       "3                         67.6     1/13/2020 7:44                       69.8  \n",
       "4                         66.0     1/13/2020 9:44                       67.9  "
      ]
     },
     "execution_count": 3,
     "metadata": {},
     "output_type": "execute_result"
    }
   ],
   "source": [
    "df.head()"
   ]
  },
  {
   "cell_type": "code",
   "execution_count": 4,
   "metadata": {},
   "outputs": [
    {
     "name": "stdout",
     "output_type": "stream",
     "text": [
      "<class 'pandas.core.frame.DataFrame'>\n",
      "RangeIndex: 384 entries, 0 to 383\n",
      "Data columns (total 8 columns):\n",
      "Date                           384 non-null object\n",
      "Temperature                    384 non-null float64\n",
      "Humidity                       384 non-null float64\n",
      "Outside Temperature            384 non-null int64\n",
      "Previous Date                  384 non-null object\n",
      "Temperature on Previous day    384 non-null float64\n",
      "2 days before Date             384 non-null object\n",
      "Temperature 2 days before      384 non-null float64\n",
      "dtypes: float64(4), int64(1), object(3)\n",
      "memory usage: 24.1+ KB\n"
     ]
    }
   ],
   "source": [
    "df.info()"
   ]
  },
  {
   "cell_type": "code",
   "execution_count": 5,
   "metadata": {},
   "outputs": [],
   "source": [
    "df['Date'] = pd.to_datetime(df['Date'])\n",
    "df = df.set_index('Date')"
   ]
  },
  {
   "cell_type": "code",
   "execution_count": 6,
   "metadata": {},
   "outputs": [
    {
     "data": {
      "text/html": [
       "<div>\n",
       "<style scoped>\n",
       "    .dataframe tbody tr th:only-of-type {\n",
       "        vertical-align: middle;\n",
       "    }\n",
       "\n",
       "    .dataframe tbody tr th {\n",
       "        vertical-align: top;\n",
       "    }\n",
       "\n",
       "    .dataframe thead th {\n",
       "        text-align: right;\n",
       "    }\n",
       "</style>\n",
       "<table border=\"1\" class=\"dataframe\">\n",
       "  <thead>\n",
       "    <tr style=\"text-align: right;\">\n",
       "      <th></th>\n",
       "      <th>Temperature</th>\n",
       "      <th>Humidity</th>\n",
       "      <th>Outside Temperature</th>\n",
       "      <th>Previous Date</th>\n",
       "      <th>Temperature on Previous day</th>\n",
       "      <th>2 days before Date</th>\n",
       "      <th>Temperature 2 days before</th>\n",
       "    </tr>\n",
       "    <tr>\n",
       "      <th>Date</th>\n",
       "      <th></th>\n",
       "      <th></th>\n",
       "      <th></th>\n",
       "      <th></th>\n",
       "      <th></th>\n",
       "      <th></th>\n",
       "      <th></th>\n",
       "    </tr>\n",
       "  </thead>\n",
       "  <tbody>\n",
       "    <tr>\n",
       "      <th>2020-02-15 15:44:00</th>\n",
       "      <td>68.5</td>\n",
       "      <td>43.79</td>\n",
       "      <td>62</td>\n",
       "      <td>2/14/2020 15:44</td>\n",
       "      <td>65.9</td>\n",
       "      <td>2/13/2020 15:44</td>\n",
       "      <td>65.8</td>\n",
       "    </tr>\n",
       "    <tr>\n",
       "      <th>2020-02-15 17:44:00</th>\n",
       "      <td>68.6</td>\n",
       "      <td>45.00</td>\n",
       "      <td>62</td>\n",
       "      <td>2/14/2020 17:44</td>\n",
       "      <td>65.7</td>\n",
       "      <td>2/13/2020 17:44</td>\n",
       "      <td>65.7</td>\n",
       "    </tr>\n",
       "    <tr>\n",
       "      <th>2020-02-15 19:44:00</th>\n",
       "      <td>68.6</td>\n",
       "      <td>45.99</td>\n",
       "      <td>63</td>\n",
       "      <td>2/14/2020 19:44</td>\n",
       "      <td>66.5</td>\n",
       "      <td>2/13/2020 19:44</td>\n",
       "      <td>66.9</td>\n",
       "    </tr>\n",
       "    <tr>\n",
       "      <th>2020-02-15 21:44:00</th>\n",
       "      <td>68.7</td>\n",
       "      <td>46.77</td>\n",
       "      <td>61</td>\n",
       "      <td>2/14/2020 21:44</td>\n",
       "      <td>67.0</td>\n",
       "      <td>2/13/2020 21:44</td>\n",
       "      <td>67.4</td>\n",
       "    </tr>\n",
       "    <tr>\n",
       "      <th>2020-02-15 23:44:00</th>\n",
       "      <td>68.9</td>\n",
       "      <td>47.22</td>\n",
       "      <td>59</td>\n",
       "      <td>2/14/2020 23:44</td>\n",
       "      <td>67.3</td>\n",
       "      <td>2/13/2020 23:44</td>\n",
       "      <td>67.6</td>\n",
       "    </tr>\n",
       "  </tbody>\n",
       "</table>\n",
       "</div>"
      ],
      "text/plain": [
       "                     Temperature  Humidity  Outside Temperature  \\\n",
       "Date                                                              \n",
       "2020-02-15 15:44:00         68.5     43.79                   62   \n",
       "2020-02-15 17:44:00         68.6     45.00                   62   \n",
       "2020-02-15 19:44:00         68.6     45.99                   63   \n",
       "2020-02-15 21:44:00         68.7     46.77                   61   \n",
       "2020-02-15 23:44:00         68.9     47.22                   59   \n",
       "\n",
       "                       Previous Date  Temperature on Previous day  \\\n",
       "Date                                                                \n",
       "2020-02-15 15:44:00  2/14/2020 15:44                         65.9   \n",
       "2020-02-15 17:44:00  2/14/2020 17:44                         65.7   \n",
       "2020-02-15 19:44:00  2/14/2020 19:44                         66.5   \n",
       "2020-02-15 21:44:00  2/14/2020 21:44                         67.0   \n",
       "2020-02-15 23:44:00  2/14/2020 23:44                         67.3   \n",
       "\n",
       "                    2 days before Date  Temperature 2 days before  \n",
       "Date                                                               \n",
       "2020-02-15 15:44:00    2/13/2020 15:44                       65.8  \n",
       "2020-02-15 17:44:00    2/13/2020 17:44                       65.7  \n",
       "2020-02-15 19:44:00    2/13/2020 19:44                       66.9  \n",
       "2020-02-15 21:44:00    2/13/2020 21:44                       67.4  \n",
       "2020-02-15 23:44:00    2/13/2020 23:44                       67.6  "
      ]
     },
     "execution_count": 6,
     "metadata": {},
     "output_type": "execute_result"
    }
   ],
   "source": [
    "df.tail()"
   ]
  },
  {
   "cell_type": "code",
   "execution_count": 7,
   "metadata": {},
   "outputs": [],
   "source": [
    "df.dropna(inplace=True)"
   ]
  },
  {
   "cell_type": "code",
   "execution_count": 8,
   "metadata": {},
   "outputs": [
    {
     "data": {
      "text/html": [
       "<div>\n",
       "<style scoped>\n",
       "    .dataframe tbody tr th:only-of-type {\n",
       "        vertical-align: middle;\n",
       "    }\n",
       "\n",
       "    .dataframe tbody tr th {\n",
       "        vertical-align: top;\n",
       "    }\n",
       "\n",
       "    .dataframe thead th {\n",
       "        text-align: right;\n",
       "    }\n",
       "</style>\n",
       "<table border=\"1\" class=\"dataframe\">\n",
       "  <thead>\n",
       "    <tr style=\"text-align: right;\">\n",
       "      <th></th>\n",
       "      <th>Temperature</th>\n",
       "      <th>Humidity</th>\n",
       "      <th>Outside Temperature</th>\n",
       "      <th>Temperature on Previous day</th>\n",
       "      <th>Temperature 2 days before</th>\n",
       "    </tr>\n",
       "    <tr>\n",
       "      <th>Date</th>\n",
       "      <th></th>\n",
       "      <th></th>\n",
       "      <th></th>\n",
       "      <th></th>\n",
       "      <th></th>\n",
       "    </tr>\n",
       "  </thead>\n",
       "  <tbody>\n",
       "    <tr>\n",
       "      <th>2020-01-15 01:44:00</th>\n",
       "      <td>69.3</td>\n",
       "      <td>66.71</td>\n",
       "      <td>68</td>\n",
       "      <td>68.8</td>\n",
       "      <td>70.4</td>\n",
       "    </tr>\n",
       "    <tr>\n",
       "      <th>2020-01-15 03:44:00</th>\n",
       "      <td>69.8</td>\n",
       "      <td>66.14</td>\n",
       "      <td>66</td>\n",
       "      <td>69.2</td>\n",
       "      <td>70.4</td>\n",
       "    </tr>\n",
       "    <tr>\n",
       "      <th>2020-01-15 05:44:00</th>\n",
       "      <td>70.1</td>\n",
       "      <td>65.81</td>\n",
       "      <td>68</td>\n",
       "      <td>69.6</td>\n",
       "      <td>70.4</td>\n",
       "    </tr>\n",
       "    <tr>\n",
       "      <th>2020-01-15 07:44:00</th>\n",
       "      <td>68.0</td>\n",
       "      <td>67.14</td>\n",
       "      <td>72</td>\n",
       "      <td>67.6</td>\n",
       "      <td>69.8</td>\n",
       "    </tr>\n",
       "    <tr>\n",
       "      <th>2020-01-15 09:44:00</th>\n",
       "      <td>67.6</td>\n",
       "      <td>66.77</td>\n",
       "      <td>75</td>\n",
       "      <td>66.0</td>\n",
       "      <td>67.9</td>\n",
       "    </tr>\n",
       "  </tbody>\n",
       "</table>\n",
       "</div>"
      ],
      "text/plain": [
       "                     Temperature  Humidity  Outside Temperature  \\\n",
       "Date                                                              \n",
       "2020-01-15 01:44:00         69.3     66.71                   68   \n",
       "2020-01-15 03:44:00         69.8     66.14                   66   \n",
       "2020-01-15 05:44:00         70.1     65.81                   68   \n",
       "2020-01-15 07:44:00         68.0     67.14                   72   \n",
       "2020-01-15 09:44:00         67.6     66.77                   75   \n",
       "\n",
       "                     Temperature on Previous day  Temperature 2 days before  \n",
       "Date                                                                         \n",
       "2020-01-15 01:44:00                         68.8                       70.4  \n",
       "2020-01-15 03:44:00                         69.2                       70.4  \n",
       "2020-01-15 05:44:00                         69.6                       70.4  \n",
       "2020-01-15 07:44:00                         67.6                       69.8  \n",
       "2020-01-15 09:44:00                         66.0                       67.9  "
      ]
     },
     "execution_count": 8,
     "metadata": {},
     "output_type": "execute_result"
    }
   ],
   "source": [
    "ts=df.loc['1/15/2020':'2/15/2020',['Temperature','Humidity','Outside Temperature','Temperature on Previous day','Temperature 2 days before']]\n",
    "#ts=pd.concat([df.loc['2/03/2020':'2/07/2020'],df.loc['2/10/2020':'2/14/2020']])[['Temperature','Humidity','Outside Temperature','Temperature on Previous day','Temperature 2 days before']]\n",
    "ts=pd.DataFrame(ts)\n",
    "ts.head()"
   ]
  },
  {
   "cell_type": "code",
   "execution_count": 9,
   "metadata": {},
   "outputs": [
    {
     "name": "stderr",
     "output_type": "stream",
     "text": [
      "C:\\ProgramData\\Anaconda3\\lib\\site-packages\\pandas\\plotting\\_converter.py:129: FutureWarning: Using an implicitly registered datetime converter for a matplotlib plotting method. The converter was registered by pandas on import. Future versions of pandas will require you to explicitly register matplotlib converters.\n",
      "\n",
      "To register the converters:\n",
      "\t>>> from pandas.plotting import register_matplotlib_converters\n",
      "\t>>> register_matplotlib_converters()\n",
      "  warnings.warn(msg, FutureWarning)\n"
     ]
    },
    {
     "data": {
      "text/plain": [
       "[<matplotlib.lines.Line2D at 0x1af1cf98630>]"
      ]
     },
     "execution_count": 9,
     "metadata": {},
     "output_type": "execute_result"
    },
    {
     "data": {
      "image/png": "[encoded data removed]",
      "text/plain": [
       "<Figure size 432x288 with 1 Axes>"
      ]
     },
     "metadata": {
      "needs_background": "light"
     },
     "output_type": "display_data"
    }
   ],
   "source": [
    "plt.plot(ts['Temperature'])"
   ]
  },
  {
   "cell_type": "code",
   "execution_count": 10,
   "metadata": {},
   "outputs": [],
   "source": [
    "values=ts.values"
   ]
  },
  {
   "cell_type": "code",
   "execution_count": 11,
   "metadata": {},
   "outputs": [],
   "source": [
    "scaler = MinMaxScaler(feature_range=(0, 1))\n",
    "scaled = scaler.fit_transform(values)"
   ]
  },
  {
   "cell_type": "code",
   "execution_count": 12,
   "metadata": {},
   "outputs": [],
   "source": [
    "# convert series to supervised learning\n",
    "def series_to_supervised(data, n_in=1, n_out=1, dropnan=True):\n",
    "\tn_vars = 1 if type(data) is list else data.shape[1]\n",
    "\tdf = DataFrame(data)\n",
    "\tcols, names = list(), list()\n",
    "\t# input sequence (t-n, ... t-1)\n",
    "\tfor i in range(n_in, 0, -1):\n",
    "\t\tcols.append(df.shift(i))\n",
    "\t\tnames += [('var%d(t-%d)' % (j+1, i)) for j in range(n_vars)]\n",
    "\t# forecast sequence (t, t+1, ... t+n)\n",
    "\tfor i in range(0, n_out):\n",
    "\t\tcols.append(df.shift(-i))\n",
    "\t\tif i == 0:\n",
    "\t\t\tnames += [('var%d(t)' % (j+1)) for j in range(n_vars)]\n",
    "\t\telse:\n",
    "\t\t\tnames += [('var%d(t+%d)' % (j+1, i)) for j in range(n_vars)]\n",
    "\t# put it all together\n",
    "\tagg = concat(cols, axis=1)\n",
    "\tagg.columns = names\n",
    "\t# drop rows with NaN values\n",
    "\tif dropnan:\n",
    "\t\tagg.dropna(inplace=True)\n",
    "\treturn agg"
   ]
  },
  {
   "cell_type": "code",
   "execution_count": 13,
   "metadata": {},
   "outputs": [],
   "source": [
    "reframed = series_to_supervised(scaled, 12, 1)"
   ]
  },
  {
   "cell_type": "code",
   "execution_count": 14,
   "metadata": {},
   "outputs": [
    {
     "data": {
      "text/html": [
       "<div>\n",
       "<style scoped>\n",
       "    .dataframe tbody tr th:only-of-type {\n",
       "        vertical-align: middle;\n",
       "    }\n",
       "\n",
       "    .dataframe tbody tr th {\n",
       "        vertical-align: top;\n",
       "    }\n",
       "\n",
       "    .dataframe thead th {\n",
       "        text-align: right;\n",
       "    }\n",
       "</style>\n",
       "<table border=\"1\" class=\"dataframe\">\n",
       "  <thead>\n",
       "    <tr style=\"text-align: right;\">\n",
       "      <th></th>\n",
       "      <th>var1(t-12)</th>\n",
       "      <th>var2(t-12)</th>\n",
       "      <th>var3(t-12)</th>\n",
       "      <th>var4(t-12)</th>\n",
       "      <th>var5(t-12)</th>\n",
       "      <th>var1(t-11)</th>\n",
       "      <th>var2(t-11)</th>\n",
       "      <th>var3(t-11)</th>\n",
       "      <th>var4(t-11)</th>\n",
       "      <th>var5(t-11)</th>\n",
       "      <th>...</th>\n",
       "      <th>var1(t-1)</th>\n",
       "      <th>var2(t-1)</th>\n",
       "      <th>var3(t-1)</th>\n",
       "      <th>var4(t-1)</th>\n",
       "      <th>var5(t-1)</th>\n",
       "      <th>var1(t)</th>\n",
       "      <th>var2(t)</th>\n",
       "      <th>var3(t)</th>\n",
       "      <th>var4(t)</th>\n",
       "      <th>var5(t)</th>\n",
       "    </tr>\n",
       "  </thead>\n",
       "  <tbody>\n",
       "    <tr>\n",
       "      <th>12</th>\n",
       "      <td>0.579545</td>\n",
       "      <td>0.925813</td>\n",
       "      <td>0.804348</td>\n",
       "      <td>0.522727</td>\n",
       "      <td>0.704545</td>\n",
       "      <td>0.636364</td>\n",
       "      <td>0.909975</td>\n",
       "      <td>0.760870</td>\n",
       "      <td>0.568182</td>\n",
       "      <td>0.704545</td>\n",
       "      <td>...</td>\n",
       "      <td>0.727273</td>\n",
       "      <td>0.863851</td>\n",
       "      <td>0.717391</td>\n",
       "      <td>0.534091</td>\n",
       "      <td>0.465909</td>\n",
       "      <td>0.772727</td>\n",
       "      <td>0.858016</td>\n",
       "      <td>0.717391</td>\n",
       "      <td>0.579545</td>\n",
       "      <td>0.522727</td>\n",
       "    </tr>\n",
       "    <tr>\n",
       "      <th>13</th>\n",
       "      <td>0.636364</td>\n",
       "      <td>0.909975</td>\n",
       "      <td>0.760870</td>\n",
       "      <td>0.568182</td>\n",
       "      <td>0.704545</td>\n",
       "      <td>0.670455</td>\n",
       "      <td>0.900806</td>\n",
       "      <td>0.804348</td>\n",
       "      <td>0.613636</td>\n",
       "      <td>0.704545</td>\n",
       "      <td>...</td>\n",
       "      <td>0.772727</td>\n",
       "      <td>0.858016</td>\n",
       "      <td>0.717391</td>\n",
       "      <td>0.579545</td>\n",
       "      <td>0.522727</td>\n",
       "      <td>0.806818</td>\n",
       "      <td>0.856349</td>\n",
       "      <td>0.760870</td>\n",
       "      <td>0.636364</td>\n",
       "      <td>0.568182</td>\n",
       "    </tr>\n",
       "    <tr>\n",
       "      <th>14</th>\n",
       "      <td>0.670455</td>\n",
       "      <td>0.900806</td>\n",
       "      <td>0.804348</td>\n",
       "      <td>0.613636</td>\n",
       "      <td>0.704545</td>\n",
       "      <td>0.431818</td>\n",
       "      <td>0.937760</td>\n",
       "      <td>0.891304</td>\n",
       "      <td>0.386364</td>\n",
       "      <td>0.636364</td>\n",
       "      <td>...</td>\n",
       "      <td>0.806818</td>\n",
       "      <td>0.856349</td>\n",
       "      <td>0.760870</td>\n",
       "      <td>0.636364</td>\n",
       "      <td>0.568182</td>\n",
       "      <td>0.840909</td>\n",
       "      <td>0.863295</td>\n",
       "      <td>0.760870</td>\n",
       "      <td>0.670455</td>\n",
       "      <td>0.613636</td>\n",
       "    </tr>\n",
       "    <tr>\n",
       "      <th>15</th>\n",
       "      <td>0.431818</td>\n",
       "      <td>0.937760</td>\n",
       "      <td>0.891304</td>\n",
       "      <td>0.386364</td>\n",
       "      <td>0.636364</td>\n",
       "      <td>0.386364</td>\n",
       "      <td>0.927480</td>\n",
       "      <td>0.956522</td>\n",
       "      <td>0.204545</td>\n",
       "      <td>0.420455</td>\n",
       "      <td>...</td>\n",
       "      <td>0.840909</td>\n",
       "      <td>0.863295</td>\n",
       "      <td>0.760870</td>\n",
       "      <td>0.670455</td>\n",
       "      <td>0.613636</td>\n",
       "      <td>0.568182</td>\n",
       "      <td>0.882467</td>\n",
       "      <td>0.847826</td>\n",
       "      <td>0.431818</td>\n",
       "      <td>0.386364</td>\n",
       "    </tr>\n",
       "    <tr>\n",
       "      <th>16</th>\n",
       "      <td>0.386364</td>\n",
       "      <td>0.927480</td>\n",
       "      <td>0.956522</td>\n",
       "      <td>0.204545</td>\n",
       "      <td>0.420455</td>\n",
       "      <td>0.670455</td>\n",
       "      <td>0.892748</td>\n",
       "      <td>0.956522</td>\n",
       "      <td>0.215909</td>\n",
       "      <td>0.340909</td>\n",
       "      <td>...</td>\n",
       "      <td>0.568182</td>\n",
       "      <td>0.882467</td>\n",
       "      <td>0.847826</td>\n",
       "      <td>0.431818</td>\n",
       "      <td>0.386364</td>\n",
       "      <td>0.511364</td>\n",
       "      <td>0.881912</td>\n",
       "      <td>0.913043</td>\n",
       "      <td>0.386364</td>\n",
       "      <td>0.204545</td>\n",
       "    </tr>\n",
       "  </tbody>\n",
       "</table>\n",
       "<p>5 rows × 65 columns</p>\n",
       "</div>"
      ],
      "text/plain": [
       "    var1(t-12)  var2(t-12)  var3(t-12)  var4(t-12)  var5(t-12)  var1(t-11)  \\\n",
       "12    0.579545    0.925813    0.804348    0.522727    0.704545    0.636364   \n",
       "13    0.636364    0.909975    0.760870    0.568182    0.704545    0.670455   \n",
       "14    0.670455    0.900806    0.804348    0.613636    0.704545    0.431818   \n",
       "15    0.431818    0.937760    0.891304    0.386364    0.636364    0.386364   \n",
       "16    0.386364    0.927480    0.956522    0.204545    0.420455    0.670455   \n",
       "\n",
       "    var2(t-11)  var3(t-11)  var4(t-11)  var5(t-11)  ...  var1(t-1)  var2(t-1)  \\\n",
       "12    0.909975    0.760870    0.568182    0.704545  ...   0.727273   0.863851   \n",
       "13    0.900806    0.804348    0.613636    0.704545  ...   0.772727   0.858016   \n",
       "14    0.937760    0.891304    0.386364    0.636364  ...   0.806818   0.856349   \n",
       "15    0.927480    0.956522    0.204545    0.420455  ...   0.840909   0.863295   \n",
       "16    0.892748    0.956522    0.215909    0.340909  ...   0.568182   0.882467   \n",
       "\n",
       "    var3(t-1)  var4(t-1)  var5(t-1)   var1(t)   var2(t)   var3(t)   var4(t)  \\\n",
       "12   0.717391   0.534091   0.465909  0.772727  0.858016  0.717391  0.579545   \n",
       "13   0.717391   0.579545   0.522727  0.806818  0.856349  0.760870  0.636364   \n",
       "14   0.760870   0.636364   0.568182  0.840909  0.863295  0.760870  0.670455   \n",
       "15   0.760870   0.670455   0.613636  0.568182  0.882467  0.847826  0.431818   \n",
       "16   0.847826   0.431818   0.386364  0.511364  0.881912  0.913043  0.386364   \n",
       "\n",
       "     var5(t)  \n",
       "12  0.522727  \n",
       "13  0.568182  \n",
       "14  0.613636  \n",
       "15  0.386364  \n",
       "16  0.204545  \n",
       "\n",
       "[5 rows x 65 columns]"
      ]
     },
     "execution_count": 14,
     "metadata": {},
     "output_type": "execute_result"
    }
   ],
   "source": [
    "reframed.head()"
   ]
  },
  {
   "cell_type": "code",
   "execution_count": 15,
   "metadata": {},
   "outputs": [],
   "source": [
    "# drop columns we don't want to predict\n",
    "reframed.drop(reframed.columns[[61,62,63,64]], axis=1, inplace=True)"
   ]
  },
  {
   "cell_type": "code",
   "execution_count": 16,
   "metadata": {},
   "outputs": [
    {
     "data": {
      "text/html": [
       "<div>\n",
       "<style scoped>\n",
       "    .dataframe tbody tr th:only-of-type {\n",
       "        vertical-align: middle;\n",
       "    }\n",
       "\n",
       "    .dataframe tbody tr th {\n",
       "        vertical-align: top;\n",
       "    }\n",
       "\n",
       "    .dataframe thead th {\n",
       "        text-align: right;\n",
       "    }\n",
       "</style>\n",
       "<table border=\"1\" class=\"dataframe\">\n",
       "  <thead>\n",
       "    <tr style=\"text-align: right;\">\n",
       "      <th></th>\n",
       "      <th>var1(t-12)</th>\n",
       "      <th>var2(t-12)</th>\n",
       "      <th>var3(t-12)</th>\n",
       "      <th>var4(t-12)</th>\n",
       "      <th>var5(t-12)</th>\n",
       "      <th>var1(t-11)</th>\n",
       "      <th>var2(t-11)</th>\n",
       "      <th>var3(t-11)</th>\n",
       "      <th>var4(t-11)</th>\n",
       "      <th>var5(t-11)</th>\n",
       "      <th>...</th>\n",
       "      <th>var2(t-2)</th>\n",
       "      <th>var3(t-2)</th>\n",
       "      <th>var4(t-2)</th>\n",
       "      <th>var5(t-2)</th>\n",
       "      <th>var1(t-1)</th>\n",
       "      <th>var2(t-1)</th>\n",
       "      <th>var3(t-1)</th>\n",
       "      <th>var4(t-1)</th>\n",
       "      <th>var5(t-1)</th>\n",
       "      <th>var1(t)</th>\n",
       "    </tr>\n",
       "  </thead>\n",
       "  <tbody>\n",
       "    <tr>\n",
       "      <th>379</th>\n",
       "      <td>0.193182</td>\n",
       "      <td>0.477911</td>\n",
       "      <td>0.456522</td>\n",
       "      <td>0.181818</td>\n",
       "      <td>0.625000</td>\n",
       "      <td>0.170455</td>\n",
       "      <td>0.492637</td>\n",
       "      <td>0.347826</td>\n",
       "      <td>0.170455</td>\n",
       "      <td>0.397727</td>\n",
       "      <td>...</td>\n",
       "      <td>0.207836</td>\n",
       "      <td>0.717391</td>\n",
       "      <td>0.147727</td>\n",
       "      <td>0.261364</td>\n",
       "      <td>0.454545</td>\n",
       "      <td>0.247013</td>\n",
       "      <td>0.760870</td>\n",
       "      <td>0.340909</td>\n",
       "      <td>0.215909</td>\n",
       "      <td>0.488636</td>\n",
       "    </tr>\n",
       "    <tr>\n",
       "      <th>380</th>\n",
       "      <td>0.170455</td>\n",
       "      <td>0.492637</td>\n",
       "      <td>0.347826</td>\n",
       "      <td>0.170455</td>\n",
       "      <td>0.397727</td>\n",
       "      <td>0.261364</td>\n",
       "      <td>0.459850</td>\n",
       "      <td>0.239130</td>\n",
       "      <td>0.306818</td>\n",
       "      <td>0.522727</td>\n",
       "      <td>...</td>\n",
       "      <td>0.247013</td>\n",
       "      <td>0.760870</td>\n",
       "      <td>0.340909</td>\n",
       "      <td>0.215909</td>\n",
       "      <td>0.488636</td>\n",
       "      <td>0.288969</td>\n",
       "      <td>0.673913</td>\n",
       "      <td>0.193182</td>\n",
       "      <td>0.181818</td>\n",
       "      <td>0.500000</td>\n",
       "    </tr>\n",
       "    <tr>\n",
       "      <th>381</th>\n",
       "      <td>0.261364</td>\n",
       "      <td>0.459850</td>\n",
       "      <td>0.239130</td>\n",
       "      <td>0.306818</td>\n",
       "      <td>0.522727</td>\n",
       "      <td>0.318182</td>\n",
       "      <td>0.416782</td>\n",
       "      <td>0.173913</td>\n",
       "      <td>0.363636</td>\n",
       "      <td>0.647727</td>\n",
       "      <td>...</td>\n",
       "      <td>0.288969</td>\n",
       "      <td>0.673913</td>\n",
       "      <td>0.193182</td>\n",
       "      <td>0.181818</td>\n",
       "      <td>0.500000</td>\n",
       "      <td>0.322590</td>\n",
       "      <td>0.673913</td>\n",
       "      <td>0.170455</td>\n",
       "      <td>0.170455</td>\n",
       "      <td>0.500000</td>\n",
       "    </tr>\n",
       "    <tr>\n",
       "      <th>382</th>\n",
       "      <td>0.318182</td>\n",
       "      <td>0.416782</td>\n",
       "      <td>0.173913</td>\n",
       "      <td>0.363636</td>\n",
       "      <td>0.647727</td>\n",
       "      <td>0.352273</td>\n",
       "      <td>0.383162</td>\n",
       "      <td>0.195652</td>\n",
       "      <td>0.386364</td>\n",
       "      <td>0.693182</td>\n",
       "      <td>...</td>\n",
       "      <td>0.322590</td>\n",
       "      <td>0.673913</td>\n",
       "      <td>0.170455</td>\n",
       "      <td>0.170455</td>\n",
       "      <td>0.500000</td>\n",
       "      <td>0.350097</td>\n",
       "      <td>0.695652</td>\n",
       "      <td>0.261364</td>\n",
       "      <td>0.306818</td>\n",
       "      <td>0.511364</td>\n",
       "    </tr>\n",
       "    <tr>\n",
       "      <th>383</th>\n",
       "      <td>0.352273</td>\n",
       "      <td>0.383162</td>\n",
       "      <td>0.195652</td>\n",
       "      <td>0.386364</td>\n",
       "      <td>0.693182</td>\n",
       "      <td>0.363636</td>\n",
       "      <td>0.353987</td>\n",
       "      <td>0.260870</td>\n",
       "      <td>0.409091</td>\n",
       "      <td>0.715909</td>\n",
       "      <td>...</td>\n",
       "      <td>0.350097</td>\n",
       "      <td>0.695652</td>\n",
       "      <td>0.261364</td>\n",
       "      <td>0.306818</td>\n",
       "      <td>0.511364</td>\n",
       "      <td>0.371770</td>\n",
       "      <td>0.652174</td>\n",
       "      <td>0.318182</td>\n",
       "      <td>0.363636</td>\n",
       "      <td>0.534091</td>\n",
       "    </tr>\n",
       "  </tbody>\n",
       "</table>\n",
       "<p>5 rows × 61 columns</p>\n",
       "</div>"
      ],
      "text/plain": [
       "     var1(t-12)  var2(t-12)  var3(t-12)  var4(t-12)  var5(t-12)  var1(t-11)  \\\n",
       "379    0.193182    0.477911    0.456522    0.181818    0.625000    0.170455   \n",
       "380    0.170455    0.492637    0.347826    0.170455    0.397727    0.261364   \n",
       "381    0.261364    0.459850    0.239130    0.306818    0.522727    0.318182   \n",
       "382    0.318182    0.416782    0.173913    0.363636    0.647727    0.352273   \n",
       "383    0.352273    0.383162    0.195652    0.386364    0.693182    0.363636   \n",
       "\n",
       "     var2(t-11)  var3(t-11)  var4(t-11)  var5(t-11)  ...  var2(t-2)  \\\n",
       "379    0.492637    0.347826    0.170455    0.397727  ...   0.207836   \n",
       "380    0.459850    0.239130    0.306818    0.522727  ...   0.247013   \n",
       "381    0.416782    0.173913    0.363636    0.647727  ...   0.288969   \n",
       "382    0.383162    0.195652    0.386364    0.693182  ...   0.322590   \n",
       "383    0.353987    0.260870    0.409091    0.715909  ...   0.350097   \n",
       "\n",
       "     var3(t-2)  var4(t-2)  var5(t-2)  var1(t-1)  var2(t-1)  var3(t-1)  \\\n",
       "379   0.717391   0.147727   0.261364   0.454545   0.247013   0.760870   \n",
       "380   0.760870   0.340909   0.215909   0.488636   0.288969   0.673913   \n",
       "381   0.673913   0.193182   0.181818   0.500000   0.322590   0.673913   \n",
       "382   0.673913   0.170455   0.170455   0.500000   0.350097   0.695652   \n",
       "383   0.695652   0.261364   0.306818   0.511364   0.371770   0.652174   \n",
       "\n",
       "     var4(t-1)  var5(t-1)   var1(t)  \n",
       "379   0.340909   0.215909  0.488636  \n",
       "380   0.193182   0.181818  0.500000  \n",
       "381   0.170455   0.170455  0.500000  \n",
       "382   0.261364   0.306818  0.511364  \n",
       "383   0.318182   0.363636  0.534091  \n",
       "\n",
       "[5 rows x 61 columns]"
      ]
     },
     "execution_count": 16,
     "metadata": {},
     "output_type": "execute_result"
    }
   ],
   "source": [
    "reframed.tail()"
   ]
  },
  {
   "cell_type": "code",
   "execution_count": 17,
   "metadata": {},
   "outputs": [],
   "source": [
    "# split into train and test sets\n",
    "values = reframed.values\n",
    "n_train = 276\n",
    "train = values[:n_train, :]\n",
    "test = values[n_train:, :]"
   ]
  },
  {
   "cell_type": "code",
   "execution_count": 18,
   "metadata": {},
   "outputs": [
    {
     "data": {
      "text/plain": [
       "(96, 61)"
      ]
     },
     "execution_count": 18,
     "metadata": {},
     "output_type": "execute_result"
    }
   ],
   "source": [
    "test.shape"
   ]
  },
  {
   "cell_type": "code",
   "execution_count": 19,
   "metadata": {},
   "outputs": [
    {
     "name": "stdout",
     "output_type": "stream",
     "text": [
      "(276, 60) (96, 60) (276,) (96,)\n"
     ]
    }
   ],
   "source": [
    "# split into input and outputs\n",
    "train_X, train_y = train[:, :-1], train[:, -1]\n",
    "test_X, test_y = test[:, :-1], test[:, -1]\n",
    "print(train_X.shape,test_X.shape, train_y.shape,test_y.shape)"
   ]
  },
  {
   "cell_type": "code",
   "execution_count": 20,
   "metadata": {},
   "outputs": [],
   "source": [
    "# specify the number of lag hours\n",
    "n_hours = 12\n",
    "n_features = 5"
   ]
  },
  {
   "cell_type": "code",
   "execution_count": 21,
   "metadata": {},
   "outputs": [],
   "source": [
    "# split into input and outputs\n",
    "#n_obs = n_hours * n_features\n",
    "#train_X, train_y = train[:, :n_obs], train[:, -n_features]\n",
    "#test_X, test_y = test[:, :n_obs], test[:, -n_features]\n",
    "#print(train_X.shape,test_X.shape, train_y.shape,test_y.shape)"
   ]
  },
  {
   "cell_type": "code",
   "execution_count": 22,
   "metadata": {},
   "outputs": [],
   "source": [
    "# reshape input to be 3D [samples, timesteps, features]\n",
    "train_X = train_X.reshape((train_X.shape[0], n_hours, n_features))\n",
    "test_X = test_X.reshape((test_X.shape[0], n_hours, n_features))"
   ]
  },
  {
   "cell_type": "code",
   "execution_count": 23,
   "metadata": {},
   "outputs": [
    {
     "name": "stdout",
     "output_type": "stream",
     "text": [
      "(276, 12, 5) (96, 12, 5) (276,) (96,)\n"
     ]
    }
   ],
   "source": [
    "print(train_X.shape,test_X.shape, train_y.shape,test_y.shape)"
   ]
  },
  {
   "cell_type": "code",
   "execution_count": 24,
   "metadata": {},
   "outputs": [
    {
     "name": "stdout",
     "output_type": "stream",
     "text": [
      "WARNING:tensorflow:From C:\\ProgramData\\Anaconda3\\lib\\site-packages\\tensorflow\\python\\ops\\resource_variable_ops.py:435: colocate_with (from tensorflow.python.framework.ops) is deprecated and will be removed in a future version.\n",
      "Instructions for updating:\n",
      "Colocations handled automatically by placer.\n",
      "WARNING:tensorflow:From C:\\ProgramData\\Anaconda3\\lib\\site-packages\\tensorflow\\python\\ops\\math_ops.py:3066: to_int32 (from tensorflow.python.ops.math_ops) is deprecated and will be removed in a future version.\n",
      "Instructions for updating:\n",
      "Use tf.cast instead.\n",
      "Train on 276 samples, validate on 96 samples\n",
      "Epoch 1/30\n",
      " - 1s - loss: 0.2023 - val_loss: 0.1741\n",
      "Epoch 2/30\n",
      " - 0s - loss: 0.1554 - val_loss: 0.1407\n",
      "Epoch 3/30\n",
      " - 0s - loss: 0.1453 - val_loss: 0.1434\n",
      "Epoch 4/30\n",
      " - 0s - loss: 0.1360 - val_loss: 0.1196\n",
      "Epoch 5/30\n",
      " - 0s - loss: 0.1235 - val_loss: 0.1098\n",
      "Epoch 6/30\n",
      " - 0s - loss: 0.1163 - val_loss: 0.1031\n",
      "Epoch 7/30\n",
      " - 0s - loss: 0.1101 - val_loss: 0.0983\n",
      "Epoch 8/30\n",
      " - 0s - loss: 0.1050 - val_loss: 0.0979\n",
      "Epoch 9/30\n",
      " - 0s - loss: 0.1027 - val_loss: 0.0940\n",
      "Epoch 10/30\n",
      " - 0s - loss: 0.0987 - val_loss: 0.0939\n",
      "Epoch 11/30\n",
      " - 0s - loss: 0.0986 - val_loss: 0.0913\n",
      "Epoch 12/30\n",
      " - 0s - loss: 0.0948 - val_loss: 0.0940\n",
      "Epoch 13/30\n",
      " - 0s - loss: 0.0970 - val_loss: 0.0907\n",
      "Epoch 14/30\n",
      " - 0s - loss: 0.0913 - val_loss: 0.0918\n",
      "Epoch 15/30\n",
      " - 0s - loss: 0.0917 - val_loss: 0.0911\n",
      "Epoch 16/30\n",
      " - 0s - loss: 0.0911 - val_loss: 0.0913\n",
      "Epoch 17/30\n",
      " - 0s - loss: 0.0886 - val_loss: 0.0906\n",
      "Epoch 18/30\n",
      " - 0s - loss: 0.0861 - val_loss: 0.0903\n",
      "Epoch 19/30\n",
      " - 0s - loss: 0.0864 - val_loss: 0.0901\n",
      "Epoch 20/30\n",
      " - 0s - loss: 0.0846 - val_loss: 0.0903\n",
      "Epoch 21/30\n",
      " - 0s - loss: 0.0839 - val_loss: 0.0899\n",
      "Epoch 22/30\n",
      " - 0s - loss: 0.0822 - val_loss: 0.0901\n",
      "Epoch 23/30\n",
      " - 0s - loss: 0.0852 - val_loss: 0.0886\n",
      "Epoch 24/30\n",
      " - 0s - loss: 0.0831 - val_loss: 0.0930\n",
      "Epoch 25/30\n",
      " - 0s - loss: 0.0802 - val_loss: 0.0905\n",
      "Epoch 26/30\n",
      " - 0s - loss: 0.0819 - val_loss: 0.0912\n",
      "Epoch 27/30\n",
      " - 0s - loss: 0.0853 - val_loss: 0.0892\n",
      "Epoch 28/30\n",
      " - 0s - loss: 0.0775 - val_loss: 0.0884\n",
      "Epoch 29/30\n",
      " - 0s - loss: 0.0774 - val_loss: 0.0890\n",
      "Epoch 30/30\n",
      " - 0s - loss: 0.0805 - val_loss: 0.0876\n"
     ]
    },
    {
     "data": {
      "image/png": "[encoded data removed]",
      "text/plain": [
       "<Figure size 432x288 with 1 Axes>"
      ]
     },
     "metadata": {
      "needs_background": "light"
     },
     "output_type": "display_data"
    }
   ],
   "source": [
    "# design network\n",
    "model = Sequential()\n",
    "model.add(LSTM(50, input_shape=(train_X.shape[1], train_X.shape[2])))\n",
    "model.add(Dense(1))\n",
    "model.compile(loss='mae', optimizer='adam')\n",
    "# fit network\n",
    "history = model.fit(train_X, train_y, epochs=30, batch_size=32, validation_data=(test_X, test_y), verbose=2, shuffle=False)\n",
    "# plot history\n",
    "pyplot.plot(history.history['loss'], label='train')\n",
    "pyplot.plot(history.history['val_loss'], label='test')\n",
    "pyplot.legend()\n",
    "pyplot.show()"
   ]
  },
  {
   "cell_type": "code",
   "execution_count": 25,
   "metadata": {},
   "outputs": [],
   "source": [
    "# make a prediction\n",
    "yhat = model.predict(test_X)\n",
    "test_X = test_X.reshape((test_X.shape[0], test_X.shape[1]*test_X.shape[2]))"
   ]
  },
  {
   "cell_type": "code",
   "execution_count": 26,
   "metadata": {},
   "outputs": [
    {
     "data": {
      "text/plain": [
       "(96, 60)"
      ]
     },
     "execution_count": 26,
     "metadata": {},
     "output_type": "execute_result"
    }
   ],
   "source": [
    "test_X.shape"
   ]
  },
  {
   "cell_type": "code",
   "execution_count": 27,
   "metadata": {},
   "outputs": [],
   "source": [
    "# invert scaling for forecast\n",
    "testy_forecast = np.zeros(shape=(len(test_y), 5))\n",
    "\n",
    "testy_forecast[:,0] = yhat[:,0]\n",
    "\n",
    "inv_yhat = scaler.inverse_transform(testy_forecast)[:,0]"
   ]
  },
  {
   "cell_type": "code",
   "execution_count": 28,
   "metadata": {},
   "outputs": [],
   "source": [
    "# invert scaling for actual test\n",
    "testy_actual = np.zeros(shape=(len(test_y), 5))\n",
    "\n",
    "testy_actual[:,0] = test_y\n",
    "\n",
    "inv_y = scaler.inverse_transform(testy_actual)[:,0]"
   ]
  },
  {
   "cell_type": "code",
   "execution_count": 29,
   "metadata": {},
   "outputs": [],
   "source": [
    "# invert scaling for actual train\n",
    "trainy_actual = np.zeros(shape=(len(train_y), 5))\n",
    "\n",
    "trainy_actual[:,0] = train_y\n",
    "\n",
    "inv_y_train = scaler.inverse_transform(trainy_actual)[:,0]"
   ]
  },
  {
   "cell_type": "code",
   "execution_count": 30,
   "metadata": {},
   "outputs": [
    {
     "data": {
      "text/plain": [
       "array([66.95449383, 67.25873377, 67.45267668, 67.59828498, 67.59833324,\n",
       "       67.82337682, 68.04725833, 68.48694425, 68.92181926, 69.48442559,\n",
       "       69.89305253, 70.04512005, 69.99999552, 69.84993796, 69.65413589,\n",
       "       69.45329266, 69.36890354, 69.46779513, 69.81481133, 70.33190131,\n",
       "       70.89183888, 71.3783556 , 71.55311861, 71.51778269, 71.39503379,\n",
       "       71.29041705, 71.23812652, 71.23472447, 70.60337653, 69.86748214,\n",
       "       70.20358305, 70.47575798, 70.89250503, 70.64584646, 70.52173276,\n",
       "       70.69261432, 70.91970301, 71.21123013, 71.55169191, 71.83789306,\n",
       "       71.01585135, 70.10203214, 69.95694809, 69.65313563, 69.33258519,\n",
       "       68.63202829, 68.61467977, 68.99526582, 69.35948892, 69.66473594,\n",
       "       69.9451663 , 70.20902233, 69.36826887, 68.58621874, 68.91799655,\n",
       "       69.47720609, 69.78431463, 69.48312111, 69.89038272, 70.48781357,\n",
       "       70.86419559, 71.00784664, 70.93830724, 70.72556577, 69.95925546,\n",
       "       68.76892877, 68.2196492 , 67.88715043, 67.50283399, 67.030055  ,\n",
       "       67.21793339, 67.48443327, 67.61192305, 67.61750736, 67.46881146,\n",
       "       67.22485182, 66.84842234, 66.13412378, 65.76226982, 65.99057671,\n",
       "       65.96887807, 66.06663014, 66.51704395, 66.87722509, 67.06384962,\n",
       "       67.12208402, 67.10085404, 67.0108932 , 66.98445027, 67.01155069,\n",
       "       67.26636188, 67.9417958 , 68.4095449 , 68.84066119, 69.2364059 ,\n",
       "       69.4842824 ])"
      ]
     },
     "execution_count": 30,
     "metadata": {},
     "output_type": "execute_result"
    }
   ],
   "source": [
    "inv_yhat"
   ]
  },
  {
   "cell_type": "code",
   "execution_count": 31,
   "metadata": {},
   "outputs": [
    {
     "data": {
      "text/plain": [
       "array([66.6, 66.8, 67. , 67.2, 67.4, 67.8, 68.2, 68.7, 69.5, 69.2, 69.2,\n",
       "       69.2, 69.3, 69.4, 69.4, 69.5, 69.6, 70.1, 70.6, 71.1, 71.1, 71.1,\n",
       "       71.2, 71.3, 71.5, 71.7, 71.9, 69.4, 68.2, 70.9, 70.8, 71.2, 69.4,\n",
       "       69.8, 70.8, 71.2, 71.5, 71.9, 72.1, 69.8, 68.6, 68.3, 68. , 67.4,\n",
       "       66.8, 68.1, 69.2, 69.7, 70. , 70.3, 70.6, 67.9, 66.7, 69.1, 70.2,\n",
       "       69.7, 67.7, 68.8, 69.9, 70.3, 70.5, 70.5, 70.5, 69.8, 67.2, 66.5,\n",
       "       66.1, 65.8, 65.7, 66.9, 67.4, 67.6, 67.8, 67.8, 67.7, 67. , 65.7,\n",
       "       65.5, 67.2, 65.9, 65.7, 66.5, 67. , 67.3, 67.4, 67.4, 67.4, 67.4,\n",
       "       67.5, 67.7, 68.2, 68.5, 68.6, 68.6, 68.7, 68.9])"
      ]
     },
     "execution_count": 31,
     "metadata": {},
     "output_type": "execute_result"
    }
   ],
   "source": [
    "inv_y"
   ]
  },
  {
   "cell_type": "code",
   "execution_count": 32,
   "metadata": {},
   "outputs": [
    {
     "name": "stdout",
     "output_type": "stream",
     "text": [
      "Test RMSE: 1.048\n"
     ]
    }
   ],
   "source": [
    "# calculate RMSE\n",
    "rmse = sqrt(mean_squared_error(inv_y, inv_yhat))\n",
    "print('Test RMSE: %.3f' % rmse)"
   ]
  },
  {
   "cell_type": "code",
   "execution_count": 33,
   "metadata": {},
   "outputs": [],
   "source": [
    "import matplotlib.pyplot as plt\n",
    "%matplotlib inline"
   ]
  },
  {
   "cell_type": "code",
   "execution_count": 34,
   "metadata": {},
   "outputs": [
    {
     "data": {
      "text/plain": [
       "Text(0, 0.5, 'Temperature (F)')"
      ]
     },
     "execution_count": 34,
     "metadata": {},
     "output_type": "execute_result"
    },
    {
     "data": {
      "image/png": "[encoded data removed]",
      "text/plain": [
       "<Figure size 432x288 with 1 Axes>"
      ]
     },
     "metadata": {
      "needs_background": "light"
     },
     "output_type": "display_data"
    }
   ],
   "source": [
    "plt.plot(ts.index[276:372],inv_y,label='Actual')\n",
    "plt.plot(ts.index[276:372],inv_yhat,label='LSTM_forecast')\n",
    "plt.legend(loc=\"upper right\")\n",
    "plt.ylim(61,75)\n",
    "plt.xlabel('Date')\n",
    "plt.ylabel('Temperature (F)')"
   ]
  },
  {
   "cell_type": "code",
   "execution_count": 35,
   "metadata": {},
   "outputs": [
    {
     "data": {
      "image/png": "[encoded data removed]",
      "text/plain": [
       "<Figure size 1200x500 with 1 Axes>"
      ]
     },
     "metadata": {
      "needs_background": "light"
     },
     "output_type": "display_data"
    }
   ],
   "source": [
    "plt.figure(figsize=(12,5), dpi=100)\n",
    "plt.plot(ts.index[:276],inv_y_train, label='training')\n",
    "plt.plot(ts.index[276:372],inv_y, label='actual')\n",
    "plt.plot(ts.index[276:372],inv_yhat, label='forecast')\n",
    "#plt.fill_between(lower_series.index, lower_series, upper_series, color='k', alpha=.15)\n",
    "plt.title('Forecast vs Actuals (Room 269)')\n",
    "plt.legend(loc='upper left', fontsize=8)\n",
    "plt.ylim(60,75)\n",
    "plt.xlabel('Date')\n",
    "plt.ylabel('Temperature (F)')\n",
    "plt.show()"
   ]
  },
  {
   "cell_type": "markdown",
   "metadata": {},
   "source": [
    "# Linear regression"
   ]
  },
  {
   "cell_type": "code",
   "execution_count": 36,
   "metadata": {},
   "outputs": [],
   "source": [
    "from sklearn.linear_model import LinearRegression"
   ]
  },
  {
   "cell_type": "code",
   "execution_count": 37,
   "metadata": {},
   "outputs": [],
   "source": [
    "regressor = LinearRegression()"
   ]
  },
  {
   "cell_type": "code",
   "execution_count": 38,
   "metadata": {},
   "outputs": [],
   "source": [
    "train_X_lr, train_y_lr = train[:, :-1], train[:, -1]\n",
    "test_X_lr, test_y_lr = test[:, :-1], test[:, -1]"
   ]
  },
  {
   "cell_type": "code",
   "execution_count": 39,
   "metadata": {},
   "outputs": [
    {
     "data": {
      "text/plain": [
       "LinearRegression(copy_X=True, fit_intercept=True, n_jobs=None, normalize=False)"
      ]
     },
     "execution_count": 39,
     "metadata": {},
     "output_type": "execute_result"
    }
   ],
   "source": [
    "regressor.fit(train_X_lr,train_y_lr)"
   ]
  },
  {
   "cell_type": "code",
   "execution_count": 40,
   "metadata": {},
   "outputs": [],
   "source": [
    "y_pred= regressor.predict(test_X_lr)"
   ]
  },
  {
   "cell_type": "code",
   "execution_count": 41,
   "metadata": {},
   "outputs": [],
   "source": [
    "#Invert scaling for forecast\n",
    "testy_forecast_lr = np.zeros(shape=(len(test_y_lr), 5))\n",
    "\n",
    "testy_forecast_lr[:,0] = y_pred\n",
    "\n",
    "inv_yhat_lr = scaler.inverse_transform(testy_forecast_lr)[:,0]"
   ]
  },
  {
   "cell_type": "code",
   "execution_count": 42,
   "metadata": {},
   "outputs": [
    {
     "data": {
      "text/plain": [
       "(96,)"
      ]
     },
     "execution_count": 42,
     "metadata": {},
     "output_type": "execute_result"
    }
   ],
   "source": [
    "inv_yhat_lr.shape"
   ]
  },
  {
   "cell_type": "code",
   "execution_count": 43,
   "metadata": {},
   "outputs": [],
   "source": [
    "#Invert scaling for actual\n",
    "# invert scaling for actual\n",
    "\n",
    "testy_actual_lr = np.zeros(shape=(len(test_y_lr), 5))\n",
    "\n",
    "testy_actual_lr[:,0] = test_y_lr\n",
    "\n",
    "inv_y_lr = scaler.inverse_transform(testy_actual_lr)[:,0]"
   ]
  },
  {
   "cell_type": "code",
   "execution_count": 44,
   "metadata": {},
   "outputs": [
    {
     "data": {
      "text/plain": [
       "array([66.6, 66.8, 67. , 67.2, 67.4, 67.8, 68.2, 68.7, 69.5, 69.2, 69.2,\n",
       "       69.2, 69.3, 69.4, 69.4, 69.5, 69.6, 70.1, 70.6, 71.1, 71.1, 71.1,\n",
       "       71.2, 71.3, 71.5, 71.7, 71.9, 69.4, 68.2, 70.9, 70.8, 71.2, 69.4,\n",
       "       69.8, 70.8, 71.2, 71.5, 71.9, 72.1, 69.8, 68.6, 68.3, 68. , 67.4,\n",
       "       66.8, 68.1, 69.2, 69.7, 70. , 70.3, 70.6, 67.9, 66.7, 69.1, 70.2,\n",
       "       69.7, 67.7, 68.8, 69.9, 70.3, 70.5, 70.5, 70.5, 69.8, 67.2, 66.5,\n",
       "       66.1, 65.8, 65.7, 66.9, 67.4, 67.6, 67.8, 67.8, 67.7, 67. , 65.7,\n",
       "       65.5, 67.2, 65.9, 65.7, 66.5, 67. , 67.3, 67.4, 67.4, 67.4, 67.4,\n",
       "       67.5, 67.7, 68.2, 68.5, 68.6, 68.6, 68.7, 68.9])"
      ]
     },
     "execution_count": 44,
     "metadata": {},
     "output_type": "execute_result"
    }
   ],
   "source": [
    "inv_y_lr"
   ]
  },
  {
   "cell_type": "code",
   "execution_count": 45,
   "metadata": {},
   "outputs": [
    {
     "data": {
      "text/plain": [
       "Text(0, 0.5, 'Temperature (F)')"
      ]
     },
     "execution_count": 45,
     "metadata": {},
     "output_type": "execute_result"
    },
    {
     "data": {
      "image/png": "[encoded data removed]",
      "text/plain": [
       "<Figure size 432x288 with 1 Axes>"
      ]
     },
     "metadata": {
      "needs_background": "light"
     },
     "output_type": "display_data"
    }
   ],
   "source": [
    "plt.plot(ts.index[276:372],inv_y_lr,label='Actual')\n",
    "plt.plot(ts.index[276:372],inv_yhat_lr,label='LinearRegression_forecast')\n",
    "plt.legend(loc=\"upper right\")\n",
    "plt.ylim(61,75)\n",
    "plt.xlabel('Date')\n",
    "plt.ylabel('Temperature (F)')"
   ]
  },
  {
   "cell_type": "code",
   "execution_count": 46,
   "metadata": {},
   "outputs": [
    {
     "data": {
      "image/png": "[encoded data removed]",
      "text/plain": [
       "<Figure size 1200x500 with 1 Axes>"
      ]
     },
     "metadata": {
      "needs_background": "light"
     },
     "output_type": "display_data"
    }
   ],
   "source": [
    "plt.figure(figsize=(12,5), dpi=100)\n",
    "plt.plot(ts.index[:276],inv_y_train, label='training')\n",
    "plt.plot(ts.index[276:372],inv_y_lr, label='actual')\n",
    "plt.plot(ts.index[276:372],inv_yhat_lr, label='forecast')\n",
    "#plt.fill_between(lower_series.index, lower_series, upper_series, color='k', alpha=.15)\n",
    "plt.title('Forecast vs Actuals (Room 269)')\n",
    "plt.legend(loc='upper left', fontsize=8)\n",
    "plt.ylim(60,75)\n",
    "plt.xlabel('Date')\n",
    "plt.ylabel('Temperature (F)')\n",
    "plt.show()"
   ]
  },
  {
   "cell_type": "code",
   "execution_count": 47,
   "metadata": {},
   "outputs": [
    {
     "name": "stdout",
     "output_type": "stream",
     "text": [
      "Test RMSE: 0.756\n"
     ]
    }
   ],
   "source": [
    "# calculate RMSE\n",
    "rmse = sqrt(mean_squared_error(inv_y_lr, inv_yhat_lr))\n",
    "print('Test RMSE: %.3f' % rmse)"
   ]
  }
 ],
 "metadata": {
  "kernelspec": {
   "display_name": "Python 3",
   "language": "python",
   "name": "python3"
  },
  "language_info": {
   "codemirror_mode": {
    "name": "ipython",
    "version": 3
   },
   "file_extension": ".py",
   "mimetype": "text/x-python",
   "name": "python",
   "nbconvert_exporter": "python",
   "pygments_lexer": "ipython3",
   "version": "3.7.3"
  }
 },
 "nbformat": 4,
 "nbformat_minor": 2
}
